{
  "cells": [
    {
      "cell_type": "code",
      "execution_count": 81,
      "metadata": {
        "id": "rBWbDja9xyHH"
      },
      "outputs": [],
      "source": [
        "import pandas as pd\n",
        "import seaborn as sns\n",
        "import numpy as np\n",
        "import matplotlib.pyplot as plt\n",
        "\n"
      ]
    },
    {
      "cell_type": "code",
      "execution_count": 82,
      "metadata": {
        "id": "L0BNWkrpyCRR"
      },
      "outputs": [],
      "source": [
        "df=pd.read_csv(\"inferential_practice_dataset.csv\")"
      ]
    },
    {
      "cell_type": "code",
      "execution_count": 83,
      "metadata": {
        "colab": {
          "base_uri": "https://localhost:8080/"
        },
        "id": "LILLWL3tyCPQ",
        "outputId": "d32301b8-34a4-4c71-8276-5f4e7f111a3f"
      },
      "outputs": [
        {
          "output_type": "execute_result",
          "data": {
            "text/plain": [
              "(270, 15)"
            ]
          },
          "metadata": {},
          "execution_count": 83
        }
      ],
      "source": [
        "df.shape"
      ]
    },
    {
      "cell_type": "code",
      "execution_count": 84,
      "metadata": {
        "colab": {
          "base_uri": "https://localhost:8080/"
        },
        "id": "46sDC5weyCM0",
        "outputId": "f363bd95-e349-4490-cf59-ce61ec355a2d"
      },
      "outputs": [
        {
          "output_type": "execute_result",
          "data": {
            "text/plain": [
              "Index(['student_id', 'method', 'age', 'gender', 'region', 'batch',\n",
              "       'math_background', 'device_type', 'attendance_rate', 'hours_studied',\n",
              "       'pre_score', 'post_score', 'improvement', 'satisfaction', 'result'],\n",
              "      dtype='object')"
            ]
          },
          "metadata": {},
          "execution_count": 84
        }
      ],
      "source": [
        "df.columns"
      ]
    },
    {
      "cell_type": "code",
      "execution_count": 85,
      "metadata": {
        "colab": {
          "base_uri": "https://localhost:8080/"
        },
        "id": "HqN0LUtTyCJ_",
        "outputId": "e2fb70f9-994a-4478-af50-8d6ee1e52efd"
      },
      "outputs": [
        {
          "output_type": "stream",
          "name": "stdout",
          "text": [
            "<class 'pandas.core.frame.DataFrame'>\n",
            "RangeIndex: 270 entries, 0 to 269\n",
            "Data columns (total 15 columns):\n",
            " #   Column           Non-Null Count  Dtype  \n",
            "---  ------           --------------  -----  \n",
            " 0   student_id       270 non-null    int64  \n",
            " 1   method           270 non-null    object \n",
            " 2   age              270 non-null    int64  \n",
            " 3   gender           270 non-null    object \n",
            " 4   region           270 non-null    object \n",
            " 5   batch            270 non-null    object \n",
            " 6   math_background  270 non-null    object \n",
            " 7   device_type      270 non-null    object \n",
            " 8   attendance_rate  270 non-null    float64\n",
            " 9   hours_studied    270 non-null    float64\n",
            " 10  pre_score        270 non-null    float64\n",
            " 11  post_score       270 non-null    float64\n",
            " 12  improvement      270 non-null    float64\n",
            " 13  satisfaction     270 non-null    float64\n",
            " 14  result           270 non-null    object \n",
            "dtypes: float64(6), int64(2), object(7)\n",
            "memory usage: 31.8+ KB\n"
          ]
        }
      ],
      "source": [
        "df.info()"
      ]
    },
    {
      "cell_type": "code",
      "execution_count": 86,
      "metadata": {
        "colab": {
          "base_uri": "https://localhost:8080/",
          "height": 206
        },
        "id": "E0IC1gZByCG_",
        "outputId": "d7301d1a-8487-4cb3-fdbc-3bfb4bf7e8b5"
      },
      "outputs": [
        {
          "output_type": "execute_result",
          "data": {
            "text/plain": [
              "   student_id    method  age  gender region batch math_background device_type  \\\n",
              "0          31    Online   23  Female   West     C        Beginner      Mobile   \n",
              "1         240  Coaching   23  Female  North     C        Advanced      Laptop   \n",
              "2         121     Group   20  Female   East     A        Beginner      Mobile   \n",
              "3          30    Online   22    Male   East     A        Beginner      Mobile   \n",
              "4         197  Coaching   23  Female   West     A    Intermediate      Mobile   \n",
              "\n",
              "   attendance_rate  hours_studied  pre_score  post_score  improvement  \\\n",
              "0            1.000           14.3       61.6        99.6         38.0   \n",
              "1            0.822            8.7       67.8        96.3         28.5   \n",
              "2            0.886           12.3       48.4        80.0         31.6   \n",
              "3            0.888           11.0       50.2        87.1         36.9   \n",
              "4            0.921            5.7       50.0        77.8         27.8   \n",
              "\n",
              "   satisfaction result  \n",
              "0           3.5   Pass  \n",
              "1           5.0   Pass  \n",
              "2           2.8   Pass  \n",
              "3           4.0   Pass  \n",
              "4           4.0   Pass  "
            ],
            "text/html": [
              "\n",
              "  <div id=\"df-93fa1636-005e-433e-960d-9cc7f20770c9\" class=\"colab-df-container\">\n",
              "    <div>\n",
              "<style scoped>\n",
              "    .dataframe tbody tr th:only-of-type {\n",
              "        vertical-align: middle;\n",
              "    }\n",
              "\n",
              "    .dataframe tbody tr th {\n",
              "        vertical-align: top;\n",
              "    }\n",
              "\n",
              "    .dataframe thead th {\n",
              "        text-align: right;\n",
              "    }\n",
              "</style>\n",
              "<table border=\"1\" class=\"dataframe\">\n",
              "  <thead>\n",
              "    <tr style=\"text-align: right;\">\n",
              "      <th></th>\n",
              "      <th>student_id</th>\n",
              "      <th>method</th>\n",
              "      <th>age</th>\n",
              "      <th>gender</th>\n",
              "      <th>region</th>\n",
              "      <th>batch</th>\n",
              "      <th>math_background</th>\n",
              "      <th>device_type</th>\n",
              "      <th>attendance_rate</th>\n",
              "      <th>hours_studied</th>\n",
              "      <th>pre_score</th>\n",
              "      <th>post_score</th>\n",
              "      <th>improvement</th>\n",
              "      <th>satisfaction</th>\n",
              "      <th>result</th>\n",
              "    </tr>\n",
              "  </thead>\n",
              "  <tbody>\n",
              "    <tr>\n",
              "      <th>0</th>\n",
              "      <td>31</td>\n",
              "      <td>Online</td>\n",
              "      <td>23</td>\n",
              "      <td>Female</td>\n",
              "      <td>West</td>\n",
              "      <td>C</td>\n",
              "      <td>Beginner</td>\n",
              "      <td>Mobile</td>\n",
              "      <td>1.000</td>\n",
              "      <td>14.3</td>\n",
              "      <td>61.6</td>\n",
              "      <td>99.6</td>\n",
              "      <td>38.0</td>\n",
              "      <td>3.5</td>\n",
              "      <td>Pass</td>\n",
              "    </tr>\n",
              "    <tr>\n",
              "      <th>1</th>\n",
              "      <td>240</td>\n",
              "      <td>Coaching</td>\n",
              "      <td>23</td>\n",
              "      <td>Female</td>\n",
              "      <td>North</td>\n",
              "      <td>C</td>\n",
              "      <td>Advanced</td>\n",
              "      <td>Laptop</td>\n",
              "      <td>0.822</td>\n",
              "      <td>8.7</td>\n",
              "      <td>67.8</td>\n",
              "      <td>96.3</td>\n",
              "      <td>28.5</td>\n",
              "      <td>5.0</td>\n",
              "      <td>Pass</td>\n",
              "    </tr>\n",
              "    <tr>\n",
              "      <th>2</th>\n",
              "      <td>121</td>\n",
              "      <td>Group</td>\n",
              "      <td>20</td>\n",
              "      <td>Female</td>\n",
              "      <td>East</td>\n",
              "      <td>A</td>\n",
              "      <td>Beginner</td>\n",
              "      <td>Mobile</td>\n",
              "      <td>0.886</td>\n",
              "      <td>12.3</td>\n",
              "      <td>48.4</td>\n",
              "      <td>80.0</td>\n",
              "      <td>31.6</td>\n",
              "      <td>2.8</td>\n",
              "      <td>Pass</td>\n",
              "    </tr>\n",
              "    <tr>\n",
              "      <th>3</th>\n",
              "      <td>30</td>\n",
              "      <td>Online</td>\n",
              "      <td>22</td>\n",
              "      <td>Male</td>\n",
              "      <td>East</td>\n",
              "      <td>A</td>\n",
              "      <td>Beginner</td>\n",
              "      <td>Mobile</td>\n",
              "      <td>0.888</td>\n",
              "      <td>11.0</td>\n",
              "      <td>50.2</td>\n",
              "      <td>87.1</td>\n",
              "      <td>36.9</td>\n",
              "      <td>4.0</td>\n",
              "      <td>Pass</td>\n",
              "    </tr>\n",
              "    <tr>\n",
              "      <th>4</th>\n",
              "      <td>197</td>\n",
              "      <td>Coaching</td>\n",
              "      <td>23</td>\n",
              "      <td>Female</td>\n",
              "      <td>West</td>\n",
              "      <td>A</td>\n",
              "      <td>Intermediate</td>\n",
              "      <td>Mobile</td>\n",
              "      <td>0.921</td>\n",
              "      <td>5.7</td>\n",
              "      <td>50.0</td>\n",
              "      <td>77.8</td>\n",
              "      <td>27.8</td>\n",
              "      <td>4.0</td>\n",
              "      <td>Pass</td>\n",
              "    </tr>\n",
              "  </tbody>\n",
              "</table>\n",
              "</div>\n",
              "    <div class=\"colab-df-buttons\">\n",
              "\n",
              "  <div class=\"colab-df-container\">\n",
              "    <button class=\"colab-df-convert\" onclick=\"convertToInteractive('df-93fa1636-005e-433e-960d-9cc7f20770c9')\"\n",
              "            title=\"Convert this dataframe to an interactive table.\"\n",
              "            style=\"display:none;\">\n",
              "\n",
              "  <svg xmlns=\"http://www.w3.org/2000/svg\" height=\"24px\" viewBox=\"0 -960 960 960\">\n",
              "    <path d=\"M120-120v-720h720v720H120Zm60-500h600v-160H180v160Zm220 220h160v-160H400v160Zm0 220h160v-160H400v160ZM180-400h160v-160H180v160Zm440 0h160v-160H620v160ZM180-180h160v-160H180v160Zm440 0h160v-160H620v160Z\"/>\n",
              "  </svg>\n",
              "    </button>\n",
              "\n",
              "  <style>\n",
              "    .colab-df-container {\n",
              "      display:flex;\n",
              "      gap: 12px;\n",
              "    }\n",
              "\n",
              "    .colab-df-convert {\n",
              "      background-color: #E8F0FE;\n",
              "      border: none;\n",
              "      border-radius: 50%;\n",
              "      cursor: pointer;\n",
              "      display: none;\n",
              "      fill: #1967D2;\n",
              "      height: 32px;\n",
              "      padding: 0 0 0 0;\n",
              "      width: 32px;\n",
              "    }\n",
              "\n",
              "    .colab-df-convert:hover {\n",
              "      background-color: #E2EBFA;\n",
              "      box-shadow: 0px 1px 2px rgba(60, 64, 67, 0.3), 0px 1px 3px 1px rgba(60, 64, 67, 0.15);\n",
              "      fill: #174EA6;\n",
              "    }\n",
              "\n",
              "    .colab-df-buttons div {\n",
              "      margin-bottom: 4px;\n",
              "    }\n",
              "\n",
              "    [theme=dark] .colab-df-convert {\n",
              "      background-color: #3B4455;\n",
              "      fill: #D2E3FC;\n",
              "    }\n",
              "\n",
              "    [theme=dark] .colab-df-convert:hover {\n",
              "      background-color: #434B5C;\n",
              "      box-shadow: 0px 1px 3px 1px rgba(0, 0, 0, 0.15);\n",
              "      filter: drop-shadow(0px 1px 2px rgba(0, 0, 0, 0.3));\n",
              "      fill: #FFFFFF;\n",
              "    }\n",
              "  </style>\n",
              "\n",
              "    <script>\n",
              "      const buttonEl =\n",
              "        document.querySelector('#df-93fa1636-005e-433e-960d-9cc7f20770c9 button.colab-df-convert');\n",
              "      buttonEl.style.display =\n",
              "        google.colab.kernel.accessAllowed ? 'block' : 'none';\n",
              "\n",
              "      async function convertToInteractive(key) {\n",
              "        const element = document.querySelector('#df-93fa1636-005e-433e-960d-9cc7f20770c9');\n",
              "        const dataTable =\n",
              "          await google.colab.kernel.invokeFunction('convertToInteractive',\n",
              "                                                    [key], {});\n",
              "        if (!dataTable) return;\n",
              "\n",
              "        const docLinkHtml = 'Like what you see? Visit the ' +\n",
              "          '<a target=\"_blank\" href=https://colab.research.google.com/notebooks/data_table.ipynb>data table notebook</a>'\n",
              "          + ' to learn more about interactive tables.';\n",
              "        element.innerHTML = '';\n",
              "        dataTable['output_type'] = 'display_data';\n",
              "        await google.colab.output.renderOutput(dataTable, element);\n",
              "        const docLink = document.createElement('div');\n",
              "        docLink.innerHTML = docLinkHtml;\n",
              "        element.appendChild(docLink);\n",
              "      }\n",
              "    </script>\n",
              "  </div>\n",
              "\n",
              "\n",
              "    <div id=\"df-9fa0c268-17b6-43d2-b22e-b040452f8e8b\">\n",
              "      <button class=\"colab-df-quickchart\" onclick=\"quickchart('df-9fa0c268-17b6-43d2-b22e-b040452f8e8b')\"\n",
              "                title=\"Suggest charts\"\n",
              "                style=\"display:none;\">\n",
              "\n",
              "<svg xmlns=\"http://www.w3.org/2000/svg\" height=\"24px\"viewBox=\"0 0 24 24\"\n",
              "     width=\"24px\">\n",
              "    <g>\n",
              "        <path d=\"M19 3H5c-1.1 0-2 .9-2 2v14c0 1.1.9 2 2 2h14c1.1 0 2-.9 2-2V5c0-1.1-.9-2-2-2zM9 17H7v-7h2v7zm4 0h-2V7h2v10zm4 0h-2v-4h2v4z\"/>\n",
              "    </g>\n",
              "</svg>\n",
              "      </button>\n",
              "\n",
              "<style>\n",
              "  .colab-df-quickchart {\n",
              "      --bg-color: #E8F0FE;\n",
              "      --fill-color: #1967D2;\n",
              "      --hover-bg-color: #E2EBFA;\n",
              "      --hover-fill-color: #174EA6;\n",
              "      --disabled-fill-color: #AAA;\n",
              "      --disabled-bg-color: #DDD;\n",
              "  }\n",
              "\n",
              "  [theme=dark] .colab-df-quickchart {\n",
              "      --bg-color: #3B4455;\n",
              "      --fill-color: #D2E3FC;\n",
              "      --hover-bg-color: #434B5C;\n",
              "      --hover-fill-color: #FFFFFF;\n",
              "      --disabled-bg-color: #3B4455;\n",
              "      --disabled-fill-color: #666;\n",
              "  }\n",
              "\n",
              "  .colab-df-quickchart {\n",
              "    background-color: var(--bg-color);\n",
              "    border: none;\n",
              "    border-radius: 50%;\n",
              "    cursor: pointer;\n",
              "    display: none;\n",
              "    fill: var(--fill-color);\n",
              "    height: 32px;\n",
              "    padding: 0;\n",
              "    width: 32px;\n",
              "  }\n",
              "\n",
              "  .colab-df-quickchart:hover {\n",
              "    background-color: var(--hover-bg-color);\n",
              "    box-shadow: 0 1px 2px rgba(60, 64, 67, 0.3), 0 1px 3px 1px rgba(60, 64, 67, 0.15);\n",
              "    fill: var(--button-hover-fill-color);\n",
              "  }\n",
              "\n",
              "  .colab-df-quickchart-complete:disabled,\n",
              "  .colab-df-quickchart-complete:disabled:hover {\n",
              "    background-color: var(--disabled-bg-color);\n",
              "    fill: var(--disabled-fill-color);\n",
              "    box-shadow: none;\n",
              "  }\n",
              "\n",
              "  .colab-df-spinner {\n",
              "    border: 2px solid var(--fill-color);\n",
              "    border-color: transparent;\n",
              "    border-bottom-color: var(--fill-color);\n",
              "    animation:\n",
              "      spin 1s steps(1) infinite;\n",
              "  }\n",
              "\n",
              "  @keyframes spin {\n",
              "    0% {\n",
              "      border-color: transparent;\n",
              "      border-bottom-color: var(--fill-color);\n",
              "      border-left-color: var(--fill-color);\n",
              "    }\n",
              "    20% {\n",
              "      border-color: transparent;\n",
              "      border-left-color: var(--fill-color);\n",
              "      border-top-color: var(--fill-color);\n",
              "    }\n",
              "    30% {\n",
              "      border-color: transparent;\n",
              "      border-left-color: var(--fill-color);\n",
              "      border-top-color: var(--fill-color);\n",
              "      border-right-color: var(--fill-color);\n",
              "    }\n",
              "    40% {\n",
              "      border-color: transparent;\n",
              "      border-right-color: var(--fill-color);\n",
              "      border-top-color: var(--fill-color);\n",
              "    }\n",
              "    60% {\n",
              "      border-color: transparent;\n",
              "      border-right-color: var(--fill-color);\n",
              "    }\n",
              "    80% {\n",
              "      border-color: transparent;\n",
              "      border-right-color: var(--fill-color);\n",
              "      border-bottom-color: var(--fill-color);\n",
              "    }\n",
              "    90% {\n",
              "      border-color: transparent;\n",
              "      border-bottom-color: var(--fill-color);\n",
              "    }\n",
              "  }\n",
              "</style>\n",
              "\n",
              "      <script>\n",
              "        async function quickchart(key) {\n",
              "          const quickchartButtonEl =\n",
              "            document.querySelector('#' + key + ' button');\n",
              "          quickchartButtonEl.disabled = true;  // To prevent multiple clicks.\n",
              "          quickchartButtonEl.classList.add('colab-df-spinner');\n",
              "          try {\n",
              "            const charts = await google.colab.kernel.invokeFunction(\n",
              "                'suggestCharts', [key], {});\n",
              "          } catch (error) {\n",
              "            console.error('Error during call to suggestCharts:', error);\n",
              "          }\n",
              "          quickchartButtonEl.classList.remove('colab-df-spinner');\n",
              "          quickchartButtonEl.classList.add('colab-df-quickchart-complete');\n",
              "        }\n",
              "        (() => {\n",
              "          let quickchartButtonEl =\n",
              "            document.querySelector('#df-9fa0c268-17b6-43d2-b22e-b040452f8e8b button');\n",
              "          quickchartButtonEl.style.display =\n",
              "            google.colab.kernel.accessAllowed ? 'block' : 'none';\n",
              "        })();\n",
              "      </script>\n",
              "    </div>\n",
              "\n",
              "    </div>\n",
              "  </div>\n"
            ],
            "application/vnd.google.colaboratory.intrinsic+json": {
              "type": "dataframe",
              "variable_name": "df",
              "summary": "{\n  \"name\": \"df\",\n  \"rows\": 270,\n  \"fields\": [\n    {\n      \"column\": \"student_id\",\n      \"properties\": {\n        \"dtype\": \"number\",\n        \"std\": 78,\n        \"min\": 1,\n        \"max\": 270,\n        \"num_unique_values\": 270,\n        \"samples\": [\n          228,\n          78,\n          63\n        ],\n        \"semantic_type\": \"\",\n        \"description\": \"\"\n      }\n    },\n    {\n      \"column\": \"method\",\n      \"properties\": {\n        \"dtype\": \"category\",\n        \"num_unique_values\": 3,\n        \"samples\": [\n          \"Online\",\n          \"Coaching\",\n          \"Group\"\n        ],\n        \"semantic_type\": \"\",\n        \"description\": \"\"\n      }\n    },\n    {\n      \"column\": \"age\",\n      \"properties\": {\n        \"dtype\": \"number\",\n        \"std\": 2,\n        \"min\": 18,\n        \"max\": 25,\n        \"num_unique_values\": 8,\n        \"samples\": [\n          20,\n          21,\n          23\n        ],\n        \"semantic_type\": \"\",\n        \"description\": \"\"\n      }\n    },\n    {\n      \"column\": \"gender\",\n      \"properties\": {\n        \"dtype\": \"category\",\n        \"num_unique_values\": 2,\n        \"samples\": [\n          \"Male\",\n          \"Female\"\n        ],\n        \"semantic_type\": \"\",\n        \"description\": \"\"\n      }\n    },\n    {\n      \"column\": \"region\",\n      \"properties\": {\n        \"dtype\": \"category\",\n        \"num_unique_values\": 4,\n        \"samples\": [\n          \"North\",\n          \"South\"\n        ],\n        \"semantic_type\": \"\",\n        \"description\": \"\"\n      }\n    },\n    {\n      \"column\": \"batch\",\n      \"properties\": {\n        \"dtype\": \"category\",\n        \"num_unique_values\": 3,\n        \"samples\": [\n          \"C\",\n          \"A\"\n        ],\n        \"semantic_type\": \"\",\n        \"description\": \"\"\n      }\n    },\n    {\n      \"column\": \"math_background\",\n      \"properties\": {\n        \"dtype\": \"category\",\n        \"num_unique_values\": 3,\n        \"samples\": [\n          \"Beginner\",\n          \"Advanced\"\n        ],\n        \"semantic_type\": \"\",\n        \"description\": \"\"\n      }\n    },\n    {\n      \"column\": \"device_type\",\n      \"properties\": {\n        \"dtype\": \"category\",\n        \"num_unique_values\": 3,\n        \"samples\": [\n          \"Mobile\",\n          \"Laptop\"\n        ],\n        \"semantic_type\": \"\",\n        \"description\": \"\"\n      }\n    },\n    {\n      \"column\": \"attendance_rate\",\n      \"properties\": {\n        \"dtype\": \"number\",\n        \"std\": 0.07877947345929662,\n        \"min\": 0.621,\n        \"max\": 1.0,\n        \"num_unique_values\": 172,\n        \"samples\": [\n          0.732,\n          0.823\n        ],\n        \"semantic_type\": \"\",\n        \"description\": \"\"\n      }\n    },\n    {\n      \"column\": \"hours_studied\",\n      \"properties\": {\n        \"dtype\": \"number\",\n        \"std\": 2.9983681136868716,\n        \"min\": 0.5,\n        \"max\": 16.7,\n        \"num_unique_values\": 105,\n        \"samples\": [\n          6.5,\n          11.2\n        ],\n        \"semantic_type\": \"\",\n        \"description\": \"\"\n      }\n    },\n    {\n      \"column\": \"pre_score\",\n      \"properties\": {\n        \"dtype\": \"number\",\n        \"std\": 8.939921525848991,\n        \"min\": 31.4,\n        \"max\": 80.0,\n        \"num_unique_values\": 188,\n        \"samples\": [\n          67.6,\n          57.8\n        ],\n        \"semantic_type\": \"\",\n        \"description\": \"\"\n      }\n    },\n    {\n      \"column\": \"post_score\",\n      \"properties\": {\n        \"dtype\": \"number\",\n        \"std\": 9.616476327776594,\n        \"min\": 49.9,\n        \"max\": 100.0,\n        \"num_unique_values\": 182,\n        \"samples\": [\n          89.4,\n          54.0\n        ],\n        \"semantic_type\": \"\",\n        \"description\": \"\"\n      }\n    },\n    {\n      \"column\": \"improvement\",\n      \"properties\": {\n        \"dtype\": \"number\",\n        \"std\": 9.50901990689373,\n        \"min\": 5.0,\n        \"max\": 58.7,\n        \"num_unique_values\": 193,\n        \"samples\": [\n          30.6,\n          31.1\n        ],\n        \"semantic_type\": \"\",\n        \"description\": \"\"\n      }\n    },\n    {\n      \"column\": \"satisfaction\",\n      \"properties\": {\n        \"dtype\": \"number\",\n        \"std\": 0.7086512273514459,\n        \"min\": 1.9,\n        \"max\": 5.0,\n        \"num_unique_values\": 29,\n        \"samples\": [\n          2.2,\n          4.2\n        ],\n        \"semantic_type\": \"\",\n        \"description\": \"\"\n      }\n    },\n    {\n      \"column\": \"result\",\n      \"properties\": {\n        \"dtype\": \"category\",\n        \"num_unique_values\": 2,\n        \"samples\": [\n          \"Fail\",\n          \"Pass\"\n        ],\n        \"semantic_type\": \"\",\n        \"description\": \"\"\n      }\n    }\n  ]\n}"
            }
          },
          "metadata": {},
          "execution_count": 86
        }
      ],
      "source": [
        "df.head(5)"
      ]
    },
    {
      "cell_type": "markdown",
      "source": [
        "ANOVA(f_oneway):(online,coaching,group)\n",
        "Ho:all three teaching methods have the same average post_score\n",
        "H1:Atleast one methods average post_score is different\n",
        "Note:ANOVA only tells us \"somewhere there is a difference.\".to know which methods differ,you'd do a post-hoc test\n",
        "\n"
      ],
      "metadata": {
        "id": "iyLtm0P-Qkai"
      }
    },
    {
      "cell_type": "code",
      "source": [
        "coaching_data=df[df[\"method\"]==\"Coaching\"][\"post_score\"]\n",
        "group_data=df[df[\"method\"]==\"Group\"][\"post_score\"]\n",
        "online_data=df[df[\"method\"]==\"Online\"][\"post_score\"]\n",
        "from scipy.stats import f_oneway\n",
        "f_stats,p_value=f_oneway(coaching_data,group_data,online_data)\n",
        "print(f_stats)\n",
        "print(p_value)\n",
        "if p_value>0.05:\n",
        "  print(\"accept the null hypothesis\")\n",
        "else:\n",
        "  print(\"reject the null hypothesis\")"
      ],
      "metadata": {
        "colab": {
          "base_uri": "https://localhost:8080/"
        },
        "id": "CIRieGm3Hzi2",
        "outputId": "d69ab49d-54c6-4dde-9766-fe255556c708"
      },
      "execution_count": 90,
      "outputs": [
        {
          "output_type": "stream",
          "name": "stdout",
          "text": [
            "33.08287819097061\n",
            "1.4591358010868455e-13\n",
            "reject the null hypothesis\n"
          ]
        }
      ]
    },
    {
      "cell_type": "markdown",
      "source": [
        "Chi-square test:(method vs Result:pass/fail):\n",
        "association between method and result(pass/fail)\n",
        "Ho:teaching method and result(pass/fail) are independent.method doesn't affect pass rate.\n",
        "H1:they are dependent.method affects pass rate\n"
      ],
      "metadata": {
        "id": "1dv1WmygThfz"
      }
    },
    {
      "cell_type": "code",
      "source": [
        "from scipy.stats import chi2_contingency\n",
        "contingency_table=pd.crosstab(df[\"method\"],df[\"result\"])\n",
        "print(contingency_table)\n",
        "chi2,p_value,dof,expected=chi2_contingency(contingency_table)\n",
        "print(chi2)\n",
        "print(p_value)\n",
        "if p_value>0.05:\n",
        "  print(\"accept the null hypothesis\")\n",
        "else:\n",
        "  print(\"reject the null hypothesis\")"
      ],
      "metadata": {
        "colab": {
          "base_uri": "https://localhost:8080/"
        },
        "id": "Wj2ShFW2HzgR",
        "outputId": "fa960665-d1c4-4828-ef6b-e10ba4abc3fc"
      },
      "execution_count": 92,
      "outputs": [
        {
          "output_type": "stream",
          "name": "stdout",
          "text": [
            "result    Fail  Pass\n",
            "method              \n",
            "Coaching     0    90\n",
            "Group        5    85\n",
            "Online       0    90\n",
            "10.188679245283017\n",
            "0.006131354305767968\n",
            "reject the null hypothesis\n"
          ]
        }
      ]
    },
    {
      "cell_type": "markdown",
      "source": [
        "Independent t-test(coaching vs group on post_score):post_score between any two method groups\n",
        "Ho:the the mean  of post_score of coaching=mean of post_score of group\n",
        "H1:the means are different"
      ],
      "metadata": {
        "id": "5tF7L4XhV1hG"
      }
    },
    {
      "cell_type": "code",
      "source": [
        "from scipy import stats\n",
        "t_stats,p_value=stats.ttest_ind(coaching_data,group_data,equal_var=False)\n",
        "print(t_stats)\n",
        "print(p_value)\n",
        "if p_value>0.05:\n",
        "  print(\"accept the null hypothesis\")\n",
        "else:\n",
        "  print(\"reject the null hypothesis\")"
      ],
      "metadata": {
        "colab": {
          "base_uri": "https://localhost:8080/"
        },
        "id": "AmT-O9jtHzeM",
        "outputId": "3efea4ac-8f66-4619-9350-5a9764e16013"
      },
      "execution_count": 93,
      "outputs": [
        {
          "output_type": "stream",
          "name": "stdout",
          "text": [
            "7.976227302753444\n",
            "2.534037036533297e-13\n",
            "reject the null hypothesis\n"
          ]
        }
      ]
    },
    {
      "cell_type": "markdown",
      "source": [
        "Correlation:association between method and result(pass/fail).\n",
        "Note: corr gives the strength and directio:\n",
        "positive>more study hours>higher scores\n",
        "negative>more study hours>lower scores(unlikely here)\n",
        "near 0>very weak relationship\n",
        "so you'll know if hours studied really matter for final score.\n",
        "Ho:no correlation between hours studied and post score\n",
        "H1:there is a correlation"
      ],
      "metadata": {
        "id": "IYZcn7CHXapl"
      }
    },
    {
      "cell_type": "code",
      "source": [
        "from scipy import stats\n",
        "corr,p_value=stats.pearsonr(df[\"post_score\"],df[\"hours_studied\"])\n",
        "print(corr)\n",
        "print(p_value)\n",
        "if p_value>0.05:\n",
        "  print(\"accept the null hypothesis\")\n",
        "else:\n",
        "  print(\"reject the null hypothesis\")"
      ],
      "metadata": {
        "colab": {
          "base_uri": "https://localhost:8080/"
        },
        "id": "JH1c1kzCXZ5N",
        "outputId": "e1ec47ce-97c6-49f9-fe0c-1c8cba166f46"
      },
      "execution_count": 94,
      "outputs": [
        {
          "output_type": "stream",
          "name": "stdout",
          "text": [
            "0.4716193125230942\n",
            "2.332954681837967e-16\n",
            "reject the null hypothesis\n"
          ]
        }
      ]
    },
    {
      "cell_type": "markdown",
      "source": [
        "Paired t-test(pre vs post score for the same students):\n",
        "Ho:mean pre_score==mean post_score\n",
        "H1: they are different"
      ],
      "metadata": {
        "id": "N4PJ_j3YZd06"
      }
    },
    {
      "cell_type": "code",
      "source": [
        "from scipy import stats\n",
        "t_stat,p_value=stats.ttest_rel(df[\"pre_score\"],df[\"post_score\"])\n",
        "print(t_stat)\n",
        "print(p_value)\n",
        "if p_value>0.05:\n",
        "  print(\"accept the null hypothesis\")\n",
        "else:\n",
        "  print(\"reject the null hypothesis\")"
      ],
      "metadata": {
        "colab": {
          "base_uri": "https://localhost:8080/"
        },
        "id": "uDudS6CGHzcE",
        "outputId": "a4c176c5-e286-4b86-b319-497ca67b7288"
      },
      "execution_count": 97,
      "outputs": [
        {
          "output_type": "stream",
          "name": "stdout",
          "text": [
            "-48.11478241756514\n",
            "3.613716046913363e-134\n",
            "reject the null hypothesis\n"
          ]
        }
      ]
    },
    {
      "cell_type": "code",
      "source": [
        "#T-test (Coaching vs Group): Compare two methods.\n",
        "#T-test (Coaching vs Group): Compare two methods.\n",
        "#Paired t-test (Pre vs Post): Did students improve after teaching?\n",
        "#Correlation (Hours vs Score): Do hours studied matter?\n",
        "#Chi-square (Method vs Result): Does teaching method affect pass rate?"
      ],
      "metadata": {
        "id": "kc_s9r6vHzZc"
      },
      "execution_count": 96,
      "outputs": []
    },
    {
      "cell_type": "code",
      "source": [],
      "metadata": {
        "id": "OgsIGC7CHzW7"
      },
      "execution_count": 87,
      "outputs": []
    }
  ],
  "metadata": {
    "colab": {
      "provenance": []
    },
    "kernelspec": {
      "display_name": "Python 3",
      "name": "python3"
    },
    "language_info": {
      "name": "python"
    }
  },
  "nbformat": 4,
  "nbformat_minor": 0
}