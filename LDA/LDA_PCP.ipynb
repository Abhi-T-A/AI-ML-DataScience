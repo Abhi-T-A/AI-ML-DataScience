{
  "nbformat": 4,
  "nbformat_minor": 0,
  "metadata": {
    "colab": {
      "provenance": []
    },
    "kernelspec": {
      "name": "python3",
      "display_name": "Python 3"
    },
    "language_info": {
      "name": "python"
    }
  },
  "cells": [
    {
      "cell_type": "code",
      "execution_count": null,
      "metadata": {
        "id": "p_bXvIWAeJmv"
      },
      "outputs": [],
      "source": [
        "# load_digits\n",
        "# practice\n",
        "# csgo lda"
      ]
    },
    {
      "cell_type": "code",
      "source": [
        "import numpy as np\n",
        "import pandas as pd\n",
        "import matplotlib.pyplot as plt\n",
        "import seaborn as sns"
      ],
      "metadata": {
        "id": "5oqC2ACLevya"
      },
      "execution_count": null,
      "outputs": []
    },
    {
      "cell_type": "code",
      "source": [
        "from sklearn import datasets"
      ],
      "metadata": {
        "id": "Rk-r9iPte8Oj"
      },
      "execution_count": null,
      "outputs": []
    },
    {
      "cell_type": "code",
      "source": [
        "df=datasets.load_digits()"
      ],
      "metadata": {
        "id": "IVr688VZfKr9"
      },
      "execution_count": null,
      "outputs": []
    },
    {
      "cell_type": "code",
      "source": [
        "df.target"
      ],
      "metadata": {
        "colab": {
          "base_uri": "https://localhost:8080/"
        },
        "id": "HlD0tQThfQmY",
        "outputId": "cc5f9424-c0a9-41a2-8497-3be21998744d"
      },
      "execution_count": null,
      "outputs": [
        {
          "output_type": "execute_result",
          "data": {
            "text/plain": [
              "array([0, 1, 2, ..., 8, 9, 8])"
            ]
          },
          "metadata": {},
          "execution_count": 6
        }
      ]
    },
    {
      "cell_type": "code",
      "source": [
        "df.target_names"
      ],
      "metadata": {
        "colab": {
          "base_uri": "https://localhost:8080/"
        },
        "id": "CVxvuuwRfWd9",
        "outputId": "70cf77ee-2dad-4b1a-ee19-f972bb303e82"
      },
      "execution_count": null,
      "outputs": [
        {
          "output_type": "execute_result",
          "data": {
            "text/plain": [
              "array([0, 1, 2, 3, 4, 5, 6, 7, 8, 9])"
            ]
          },
          "metadata": {},
          "execution_count": 7
        }
      ]
    },
    {
      "cell_type": "code",
      "source": [
        "_,axes=plt.subplots(nrows=1,ncols=10,figsize=(15,5))\n",
        "for ax,image,label in zip(axes,df.images,df.target):\n",
        "  ax.set_axis_off()\n",
        "  ax.imshow(image,cmap=plt.cm.grey_r,interpolation='nearest')\n",
        "  ax.set_title(\"Training: %i\" %label)"
      ],
      "metadata": {
        "colab": {
          "base_uri": "https://localhost:8080/",
          "height": 120
        },
        "id": "eXP4cwz4fYZR",
        "outputId": "3b14bb91-82bb-45cc-c4eb-8965fab8fd19"
      },
      "execution_count": null,
      "outputs": [
        {
          "output_type": "display_data",
          "data": {
            "text/plain": [
              "<Figure size 1500x500 with 10 Axes>"
            ],
            "image/png": "[encoded data removed]"
          },
          "metadata": {}
        }
      ]
    },
    {
      "cell_type": "code",
      "source": [
        "df.data.shape"
      ],
      "metadata": {
        "colab": {
          "base_uri": "https://localhost:8080/"
        },
        "id": "NU0z4r0TfnRi",
        "outputId": "d41e0a97-8257-4fe7-ab3d-153d2c68d176"
      },
      "execution_count": null,
      "outputs": [
        {
          "output_type": "execute_result",
          "data": {
            "text/plain": [
              "(1797, 64)"
            ]
          },
          "metadata": {},
          "execution_count": 9
        }
      ]
    },
    {
      "cell_type": "code",
      "source": [
        "x=df.data"
      ],
      "metadata": {
        "id": "dHcNNbGSgDf5"
      },
      "execution_count": null,
      "outputs": []
    },
    {
      "cell_type": "code",
      "source": [
        "y=df.target"
      ],
      "metadata": {
        "id": "6JTVcwdigIjO"
      },
      "execution_count": null,
      "outputs": []
    },
    {
      "cell_type": "code",
      "source": [
        "x.shape"
      ],
      "metadata": {
        "colab": {
          "base_uri": "https://localhost:8080/"
        },
        "id": "pGl4boT4gMzu",
        "outputId": "9b42e6d7-0f07-408b-a149-0d5b0be6bf88"
      },
      "execution_count": null,
      "outputs": [
        {
          "output_type": "execute_result",
          "data": {
            "text/plain": [
              "(1797, 64)"
            ]
          },
          "metadata": {},
          "execution_count": 12
        }
      ]
    },
    {
      "cell_type": "code",
      "source": [
        "y.shape"
      ],
      "metadata": {
        "colab": {
          "base_uri": "https://localhost:8080/"
        },
        "id": "AMdQji1RgOut",
        "outputId": "72f23e99-f0cf-4e88-ed77-b008558ee760"
      },
      "execution_count": null,
      "outputs": [
        {
          "output_type": "execute_result",
          "data": {
            "text/plain": [
              "(1797,)"
            ]
          },
          "metadata": {},
          "execution_count": 13
        }
      ]
    },
    {
      "cell_type": "code",
      "source": [
        "from sklearn.model_selection import train_test_split"
      ],
      "metadata": {
        "id": "_qqb_ov5gQEZ"
      },
      "execution_count": null,
      "outputs": []
    },
    {
      "cell_type": "code",
      "source": [
        "x_train,x_test,y_train,y_test= train_test_split(x,y,test_size=0.20)"
      ],
      "metadata": {
        "id": "mpaHDHw9hH-K"
      },
      "execution_count": null,
      "outputs": []
    },
    {
      "cell_type": "code",
      "source": [
        "x_train.shape"
      ],
      "metadata": {
        "colab": {
          "base_uri": "https://localhost:8080/"
        },
        "id": "x7d9C_syhTV7",
        "outputId": "f3fd227e-5154-4aa8-9977-4e87d2794366"
      },
      "execution_count": null,
      "outputs": [
        {
          "output_type": "execute_result",
          "data": {
            "text/plain": [
              "(1437, 64)"
            ]
          },
          "metadata": {},
          "execution_count": 16
        }
      ]
    },
    {
      "cell_type": "code",
      "source": [
        "x_test.shape"
      ],
      "metadata": {
        "colab": {
          "base_uri": "https://localhost:8080/"
        },
        "id": "1RSRsHHkhVHx",
        "outputId": "1302023e-be10-4173-98b7-39eb74a234f5"
      },
      "execution_count": null,
      "outputs": [
        {
          "output_type": "execute_result",
          "data": {
            "text/plain": [
              "(360, 64)"
            ]
          },
          "metadata": {},
          "execution_count": 17
        }
      ]
    },
    {
      "cell_type": "code",
      "source": [
        "from sklearn.preprocessing import StandardScaler"
      ],
      "metadata": {
        "id": "VO0NOZzQhWUt"
      },
      "execution_count": null,
      "outputs": []
    },
    {
      "cell_type": "code",
      "source": [
        "sc=StandardScaler()"
      ],
      "metadata": {
        "id": "uPefKbWYhhjx"
      },
      "execution_count": null,
      "outputs": []
    },
    {
      "cell_type": "code",
      "source": [
        "x_train=sc.fit_transform(x_train)\n",
        "x_test=sc.transform(x_test)"
      ],
      "metadata": {
        "id": "9dJVh_9Ahl_M"
      },
      "execution_count": null,
      "outputs": []
    },
    {
      "cell_type": "code",
      "source": [
        "from sklearn.discriminant_analysis import LinearDiscriminantAnalysis"
      ],
      "metadata": {
        "id": "gJAQbRL0jAyk"
      },
      "execution_count": null,
      "outputs": []
    },
    {
      "cell_type": "markdown",
      "source": [
        "n_components=min(no.of fetures, n. of unique values in the target column)-1\n",
        "\n",
        "min(64,10) -1  => 9"
      ],
      "metadata": {
        "id": "xZeFs3j1jRZZ"
      }
    },
    {
      "cell_type": "markdown",
      "source": [
        "![image.png](data:image/png;base64,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)"
      ],
      "metadata": {
        "id": "2PChNoa6lT5V"
      }
    },
    {
      "cell_type": "code",
      "source": [
        "LDA=LinearDiscriminantAnalysis(n_components=9)"
      ],
      "metadata": {
        "id": "1R2AfXxzjMmE"
      },
      "execution_count": null,
      "outputs": []
    },
    {
      "cell_type": "code",
      "source": [
        "x_train=LDA.fit_transform(x_train,y_train)\n",
        "x_test=LDA.transform(x_test)"
      ],
      "metadata": {
        "id": "Z4pn9NDXlafg"
      },
      "execution_count": null,
      "outputs": []
    },
    {
      "cell_type": "code",
      "source": [
        "x_train.shape"
      ],
      "metadata": {
        "colab": {
          "base_uri": "https://localhost:8080/"
        },
        "id": "5-Uofi1ulvlB",
        "outputId": "4e55d953-3dbc-47eb-ce17-522b34e5a3fc"
      },
      "execution_count": null,
      "outputs": [
        {
          "output_type": "execute_result",
          "data": {
            "text/plain": [
              "(1437, 9)"
            ]
          },
          "metadata": {},
          "execution_count": 25
        }
      ]
    },
    {
      "cell_type": "code",
      "source": [
        "x_test"
      ],
      "metadata": {
        "colab": {
          "base_uri": "https://localhost:8080/"
        },
        "id": "UD94s0CBl-dQ",
        "outputId": "68c32153-6dcc-4976-e98c-dbcdfdd6e32c"
      },
      "execution_count": null,
      "outputs": [
        {
          "output_type": "execute_result",
          "data": {
            "text/plain": [
              "array([[-2.2650576 , -1.66439239, -3.53831972, ...,  0.20485245,\n",
              "        -2.06609564, -2.79434862],\n",
              "       [-0.41189514,  2.68014082, -2.26229573, ..., -0.84775152,\n",
              "         2.21383086, -0.08858686],\n",
              "       [ 0.24216209, -0.94854559,  2.76081594, ..., -1.71698946,\n",
              "        -1.88230511,  0.0222498 ],\n",
              "       ...,\n",
              "       [ 4.10901654, -1.1298982 , -2.5097308 , ...,  0.9118307 ,\n",
              "        -0.08048667, -0.57575923],\n",
              "       [-2.80910247, -4.71022997,  1.56507345, ...,  0.96424699,\n",
              "         0.75221007,  0.14596478],\n",
              "       [ 1.77511693,  0.25352331, -4.29271115, ..., -1.05940014,\n",
              "        -1.75529192,  1.7184089 ]])"
            ]
          },
          "metadata": {},
          "execution_count": 26
        }
      ]
    },
    {
      "cell_type": "code",
      "source": [
        "from sklearn.linear_model import LogisticRegression"
      ],
      "metadata": {
        "id": "UK92mOOpmBTs"
      },
      "execution_count": null,
      "outputs": []
    },
    {
      "cell_type": "code",
      "source": [
        "model=LogisticRegression()"
      ],
      "metadata": {
        "id": "dSh90nP1mLP_"
      },
      "execution_count": null,
      "outputs": []
    },
    {
      "cell_type": "code",
      "source": [
        "model.fit(x_train,y_train)"
      ],
      "metadata": {
        "colab": {
          "base_uri": "https://localhost:8080/",
          "height": 79
        },
        "id": "fvdkanqmmO6W",
        "outputId": "13321f8c-b5ab-47cb-d032-060ea26057b9"
      },
      "execution_count": null,
      "outputs": [
        {
          "output_type": "execute_result",
          "data": {
            "text/plain": [
              "LogisticRegression()"
            ],
            "text/html": [
              "<style>#sk-container-id-1 {\n",
              "  /* Definition of color scheme common for light and dark mode */\n",
              "  --sklearn-color-text: #000;\n",
              "  --sklearn-color-text-muted: #666;\n",
              "  --sklearn-color-line: gray;\n",
              "  /* Definition of color scheme for unfitted estimators */\n",
              "  --sklearn-color-unfitted-level-0: #fff5e6;\n",
              "  --sklearn-color-unfitted-level-1: #f6e4d2;\n",
              "  --sklearn-color-unfitted-level-2: #ffe0b3;\n",
              "  --sklearn-color-unfitted-level-3: chocolate;\n",
              "  /* Definition of color scheme for fitted estimators */\n",
              "  --sklearn-color-fitted-level-0: #f0f8ff;\n",
              "  --sklearn-color-fitted-level-1: #d4ebff;\n",
              "  --sklearn-color-fitted-level-2: #b3dbfd;\n",
              "  --sklearn-color-fitted-level-3: cornflowerblue;\n",
              "\n",
              "  /* Specific color for light theme */\n",
              "  --sklearn-color-text-on-default-background: var(--sg-text-color, var(--theme-code-foreground, var(--jp-content-font-color1, black)));\n",
              "  --sklearn-color-background: var(--sg-background-color, var(--theme-background, var(--jp-layout-color0, white)));\n",
              "  --sklearn-color-border-box: var(--sg-text-color, var(--theme-code-foreground, var(--jp-content-font-color1, black)));\n",
              "  --sklearn-color-icon: #696969;\n",
              "\n",
              "  @media (prefers-color-scheme: dark) {\n",
              "    /* Redefinition of color scheme for dark theme */\n",
              "    --sklearn-color-text-on-default-background: var(--sg-text-color, var(--theme-code-foreground, var(--jp-content-font-color1, white)));\n",
              "    --sklearn-color-background: var(--sg-background-color, var(--theme-background, var(--jp-layout-color0, #111)));\n",
              "    --sklearn-color-border-box: var(--sg-text-color, var(--theme-code-foreground, var(--jp-content-font-color1, white)));\n",
              "    --sklearn-color-icon: #878787;\n",
              "  }\n",
              "}\n",
              "\n",
              "#sk-container-id-1 {\n",
              "  color: var(--sklearn-color-text);\n",
              "}\n",
              "\n",
              "#sk-container-id-1 pre {\n",
              "  padding: 0;\n",
              "}\n",
              "\n",
              "#sk-container-id-1 input.sk-hidden--visually {\n",
              "  border: 0;\n",
              "  clip: rect(1px 1px 1px 1px);\n",
              "  clip: rect(1px, 1px, 1px, 1px);\n",
              "  height: 1px;\n",
              "  margin: -1px;\n",
              "  overflow: hidden;\n",
              "  padding: 0;\n",
              "  position: absolute;\n",
              "  width: 1px;\n",
              "}\n",
              "\n",
              "#sk-container-id-1 div.sk-dashed-wrapped {\n",
              "  border: 1px dashed var(--sklearn-color-line);\n",
              "  margin: 0 0.4em 0.5em 0.4em;\n",
              "  box-sizing: border-box;\n",
              "  padding-bottom: 0.4em;\n",
              "  background-color: var(--sklearn-color-background);\n",
              "}\n",
              "\n",
              "#sk-container-id-1 div.sk-container {\n",
              "  /* jupyter's `normalize.less` sets `[hidden] { display: none; }`\n",
              "     but bootstrap.min.css set `[hidden] { display: none !important; }`\n",
              "     so we also need the `!important` here to be able to override the\n",
              "     default hidden behavior on the sphinx rendered scikit-learn.org.\n",
              "     See: https://github.com/scikit-learn/scikit-learn/issues/21755 */\n",
              "  display: inline-block !important;\n",
              "  position: relative;\n",
              "}\n",
              "\n",
              "#sk-container-id-1 div.sk-text-repr-fallback {\n",
              "  display: none;\n",
              "}\n",
              "\n",
              "div.sk-parallel-item,\n",
              "div.sk-serial,\n",
              "div.sk-item {\n",
              "  /* draw centered vertical line to link estimators */\n",
              "  background-image: linear-gradient(var(--sklearn-color-text-on-default-background), var(--sklearn-color-text-on-default-background));\n",
              "  background-size: 2px 100%;\n",
              "  background-repeat: no-repeat;\n",
              "  background-position: center center;\n",
              "}\n",
              "\n",
              "/* Parallel-specific style estimator block */\n",
              "\n",
              "#sk-container-id-1 div.sk-parallel-item::after {\n",
              "  content: \"\";\n",
              "  width: 100%;\n",
              "  border-bottom: 2px solid var(--sklearn-color-text-on-default-background);\n",
              "  flex-grow: 1;\n",
              "}\n",
              "\n",
              "#sk-container-id-1 div.sk-parallel {\n",
              "  display: flex;\n",
              "  align-items: stretch;\n",
              "  justify-content: center;\n",
              "  background-color: var(--sklearn-color-background);\n",
              "  position: relative;\n",
              "}\n",
              "\n",
              "#sk-container-id-1 div.sk-parallel-item {\n",
              "  display: flex;\n",
              "  flex-direction: column;\n",
              "}\n",
              "\n",
              "#sk-container-id-1 div.sk-parallel-item:first-child::after {\n",
              "  align-self: flex-end;\n",
              "  width: 50%;\n",
              "}\n",
              "\n",
              "#sk-container-id-1 div.sk-parallel-item:last-child::after {\n",
              "  align-self: flex-start;\n",
              "  width: 50%;\n",
              "}\n",
              "\n",
              "#sk-container-id-1 div.sk-parallel-item:only-child::after {\n",
              "  width: 0;\n",
              "}\n",
              "\n",
              "/* Serial-specific style estimator block */\n",
              "\n",
              "#sk-container-id-1 div.sk-serial {\n",
              "  display: flex;\n",
              "  flex-direction: column;\n",
              "  align-items: center;\n",
              "  background-color: var(--sklearn-color-background);\n",
              "  padding-right: 1em;\n",
              "  padding-left: 1em;\n",
              "}\n",
              "\n",
              "\n",
              "/* Toggleable style: style used for estimator/Pipeline/ColumnTransformer box that is\n",
              "clickable and can be expanded/collapsed.\n",
              "- Pipeline and ColumnTransformer use this feature and define the default style\n",
              "- Estimators will overwrite some part of the style using the `sk-estimator` class\n",
              "*/\n",
              "\n",
              "/* Pipeline and ColumnTransformer style (default) */\n",
              "\n",
              "#sk-container-id-1 div.sk-toggleable {\n",
              "  /* Default theme specific background. It is overwritten whether we have a\n",
              "  specific estimator or a Pipeline/ColumnTransformer */\n",
              "  background-color: var(--sklearn-color-background);\n",
              "}\n",
              "\n",
              "/* Toggleable label */\n",
              "#sk-container-id-1 label.sk-toggleable__label {\n",
              "  cursor: pointer;\n",
              "  display: flex;\n",
              "  width: 100%;\n",
              "  margin-bottom: 0;\n",
              "  padding: 0.5em;\n",
              "  box-sizing: border-box;\n",
              "  text-align: center;\n",
              "  align-items: start;\n",
              "  justify-content: space-between;\n",
              "  gap: 0.5em;\n",
              "}\n",
              "\n",
              "#sk-container-id-1 label.sk-toggleable__label .caption {\n",
              "  font-size: 0.6rem;\n",
              "  font-weight: lighter;\n",
              "  color: var(--sklearn-color-text-muted);\n",
              "}\n",
              "\n",
              "#sk-container-id-1 label.sk-toggleable__label-arrow:before {\n",
              "  /* Arrow on the left of the label */\n",
              "  content: \"▸\";\n",
              "  float: left;\n",
              "  margin-right: 0.25em;\n",
              "  color: var(--sklearn-color-icon);\n",
              "}\n",
              "\n",
              "#sk-container-id-1 label.sk-toggleable__label-arrow:hover:before {\n",
              "  color: var(--sklearn-color-text);\n",
              "}\n",
              "\n",
              "/* Toggleable content - dropdown */\n",
              "\n",
              "#sk-container-id-1 div.sk-toggleable__content {\n",
              "  max-height: 0;\n",
              "  max-width: 0;\n",
              "  overflow: hidden;\n",
              "  text-align: left;\n",
              "  /* unfitted */\n",
              "  background-color: var(--sklearn-color-unfitted-level-0);\n",
              "}\n",
              "\n",
              "#sk-container-id-1 div.sk-toggleable__content.fitted {\n",
              "  /* fitted */\n",
              "  background-color: var(--sklearn-color-fitted-level-0);\n",
              "}\n",
              "\n",
              "#sk-container-id-1 div.sk-toggleable__content pre {\n",
              "  margin: 0.2em;\n",
              "  border-radius: 0.25em;\n",
              "  color: var(--sklearn-color-text);\n",
              "  /* unfitted */\n",
              "  background-color: var(--sklearn-color-unfitted-level-0);\n",
              "}\n",
              "\n",
              "#sk-container-id-1 div.sk-toggleable__content.fitted pre {\n",
              "  /* unfitted */\n",
              "  background-color: var(--sklearn-color-fitted-level-0);\n",
              "}\n",
              "\n",
              "#sk-container-id-1 input.sk-toggleable__control:checked~div.sk-toggleable__content {\n",
              "  /* Expand drop-down */\n",
              "  max-height: 200px;\n",
              "  max-width: 100%;\n",
              "  overflow: auto;\n",
              "}\n",
              "\n",
              "#sk-container-id-1 input.sk-toggleable__control:checked~label.sk-toggleable__label-arrow:before {\n",
              "  content: \"▾\";\n",
              "}\n",
              "\n",
              "/* Pipeline/ColumnTransformer-specific style */\n",
              "\n",
              "#sk-container-id-1 div.sk-label input.sk-toggleable__control:checked~label.sk-toggleable__label {\n",
              "  color: var(--sklearn-color-text);\n",
              "  background-color: var(--sklearn-color-unfitted-level-2);\n",
              "}\n",
              "\n",
              "#sk-container-id-1 div.sk-label.fitted input.sk-toggleable__control:checked~label.sk-toggleable__label {\n",
              "  background-color: var(--sklearn-color-fitted-level-2);\n",
              "}\n",
              "\n",
              "/* Estimator-specific style */\n",
              "\n",
              "/* Colorize estimator box */\n",
              "#sk-container-id-1 div.sk-estimator input.sk-toggleable__control:checked~label.sk-toggleable__label {\n",
              "  /* unfitted */\n",
              "  background-color: var(--sklearn-color-unfitted-level-2);\n",
              "}\n",
              "\n",
              "#sk-container-id-1 div.sk-estimator.fitted input.sk-toggleable__control:checked~label.sk-toggleable__label {\n",
              "  /* fitted */\n",
              "  background-color: var(--sklearn-color-fitted-level-2);\n",
              "}\n",
              "\n",
              "#sk-container-id-1 div.sk-label label.sk-toggleable__label,\n",
              "#sk-container-id-1 div.sk-label label {\n",
              "  /* The background is the default theme color */\n",
              "  color: var(--sklearn-color-text-on-default-background);\n",
              "}\n",
              "\n",
              "/* On hover, darken the color of the background */\n",
              "#sk-container-id-1 div.sk-label:hover label.sk-toggleable__label {\n",
              "  color: var(--sklearn-color-text);\n",
              "  background-color: var(--sklearn-color-unfitted-level-2);\n",
              "}\n",
              "\n",
              "/* Label box, darken color on hover, fitted */\n",
              "#sk-container-id-1 div.sk-label.fitted:hover label.sk-toggleable__label.fitted {\n",
              "  color: var(--sklearn-color-text);\n",
              "  background-color: var(--sklearn-color-fitted-level-2);\n",
              "}\n",
              "\n",
              "/* Estimator label */\n",
              "\n",
              "#sk-container-id-1 div.sk-label label {\n",
              "  font-family: monospace;\n",
              "  font-weight: bold;\n",
              "  display: inline-block;\n",
              "  line-height: 1.2em;\n",
              "}\n",
              "\n",
              "#sk-container-id-1 div.sk-label-container {\n",
              "  text-align: center;\n",
              "}\n",
              "\n",
              "/* Estimator-specific */\n",
              "#sk-container-id-1 div.sk-estimator {\n",
              "  font-family: monospace;\n",
              "  border: 1px dotted var(--sklearn-color-border-box);\n",
              "  border-radius: 0.25em;\n",
              "  box-sizing: border-box;\n",
              "  margin-bottom: 0.5em;\n",
              "  /* unfitted */\n",
              "  background-color: var(--sklearn-color-unfitted-level-0);\n",
              "}\n",
              "\n",
              "#sk-container-id-1 div.sk-estimator.fitted {\n",
              "  /* fitted */\n",
              "  background-color: var(--sklearn-color-fitted-level-0);\n",
              "}\n",
              "\n",
              "/* on hover */\n",
              "#sk-container-id-1 div.sk-estimator:hover {\n",
              "  /* unfitted */\n",
              "  background-color: var(--sklearn-color-unfitted-level-2);\n",
              "}\n",
              "\n",
              "#sk-container-id-1 div.sk-estimator.fitted:hover {\n",
              "  /* fitted */\n",
              "  background-color: var(--sklearn-color-fitted-level-2);\n",
              "}\n",
              "\n",
              "/* Specification for estimator info (e.g. \"i\" and \"?\") */\n",
              "\n",
              "/* Common style for \"i\" and \"?\" */\n",
              "\n",
              ".sk-estimator-doc-link,\n",
              "a:link.sk-estimator-doc-link,\n",
              "a:visited.sk-estimator-doc-link {\n",
              "  float: right;\n",
              "  font-size: smaller;\n",
              "  line-height: 1em;\n",
              "  font-family: monospace;\n",
              "  background-color: var(--sklearn-color-background);\n",
              "  border-radius: 1em;\n",
              "  height: 1em;\n",
              "  width: 1em;\n",
              "  text-decoration: none !important;\n",
              "  margin-left: 0.5em;\n",
              "  text-align: center;\n",
              "  /* unfitted */\n",
              "  border: var(--sklearn-color-unfitted-level-1) 1pt solid;\n",
              "  color: var(--sklearn-color-unfitted-level-1);\n",
              "}\n",
              "\n",
              ".sk-estimator-doc-link.fitted,\n",
              "a:link.sk-estimator-doc-link.fitted,\n",
              "a:visited.sk-estimator-doc-link.fitted {\n",
              "  /* fitted */\n",
              "  border: var(--sklearn-color-fitted-level-1) 1pt solid;\n",
              "  color: var(--sklearn-color-fitted-level-1);\n",
              "}\n",
              "\n",
              "/* On hover */\n",
              "div.sk-estimator:hover .sk-estimator-doc-link:hover,\n",
              ".sk-estimator-doc-link:hover,\n",
              "div.sk-label-container:hover .sk-estimator-doc-link:hover,\n",
              ".sk-estimator-doc-link:hover {\n",
              "  /* unfitted */\n",
              "  background-color: var(--sklearn-color-unfitted-level-3);\n",
              "  color: var(--sklearn-color-background);\n",
              "  text-decoration: none;\n",
              "}\n",
              "\n",
              "div.sk-estimator.fitted:hover .sk-estimator-doc-link.fitted:hover,\n",
              ".sk-estimator-doc-link.fitted:hover,\n",
              "div.sk-label-container:hover .sk-estimator-doc-link.fitted:hover,\n",
              ".sk-estimator-doc-link.fitted:hover {\n",
              "  /* fitted */\n",
              "  background-color: var(--sklearn-color-fitted-level-3);\n",
              "  color: var(--sklearn-color-background);\n",
              "  text-decoration: none;\n",
              "}\n",
              "\n",
              "/* Span, style for the box shown on hovering the info icon */\n",
              ".sk-estimator-doc-link span {\n",
              "  display: none;\n",
              "  z-index: 9999;\n",
              "  position: relative;\n",
              "  font-weight: normal;\n",
              "  right: .2ex;\n",
              "  padding: .5ex;\n",
              "  margin: .5ex;\n",
              "  width: min-content;\n",
              "  min-width: 20ex;\n",
              "  max-width: 50ex;\n",
              "  color: var(--sklearn-color-text);\n",
              "  box-shadow: 2pt 2pt 4pt #999;\n",
              "  /* unfitted */\n",
              "  background: var(--sklearn-color-unfitted-level-0);\n",
              "  border: .5pt solid var(--sklearn-color-unfitted-level-3);\n",
              "}\n",
              "\n",
              ".sk-estimator-doc-link.fitted span {\n",
              "  /* fitted */\n",
              "  background: var(--sklearn-color-fitted-level-0);\n",
              "  border: var(--sklearn-color-fitted-level-3);\n",
              "}\n",
              "\n",
              ".sk-estimator-doc-link:hover span {\n",
              "  display: block;\n",
              "}\n",
              "\n",
              "/* \"?\"-specific style due to the `<a>` HTML tag */\n",
              "\n",
              "#sk-container-id-1 a.estimator_doc_link {\n",
              "  float: right;\n",
              "  font-size: 1rem;\n",
              "  line-height: 1em;\n",
              "  font-family: monospace;\n",
              "  background-color: var(--sklearn-color-background);\n",
              "  border-radius: 1rem;\n",
              "  height: 1rem;\n",
              "  width: 1rem;\n",
              "  text-decoration: none;\n",
              "  /* unfitted */\n",
              "  color: var(--sklearn-color-unfitted-level-1);\n",
              "  border: var(--sklearn-color-unfitted-level-1) 1pt solid;\n",
              "}\n",
              "\n",
              "#sk-container-id-1 a.estimator_doc_link.fitted {\n",
              "  /* fitted */\n",
              "  border: var(--sklearn-color-fitted-level-1) 1pt solid;\n",
              "  color: var(--sklearn-color-fitted-level-1);\n",
              "}\n",
              "\n",
              "/* On hover */\n",
              "#sk-container-id-1 a.estimator_doc_link:hover {\n",
              "  /* unfitted */\n",
              "  background-color: var(--sklearn-color-unfitted-level-3);\n",
              "  color: var(--sklearn-color-background);\n",
              "  text-decoration: none;\n",
              "}\n",
              "\n",
              "#sk-container-id-1 a.estimator_doc_link.fitted:hover {\n",
              "  /* fitted */\n",
              "  background-color: var(--sklearn-color-fitted-level-3);\n",
              "}\n",
              "</style><div id=\"sk-container-id-1\" class=\"sk-top-container\"><div class=\"sk-text-repr-fallback\"><pre>LogisticRegression()</pre><b>In a Jupyter environment, please rerun this cell to show the HTML representation or trust the notebook. <br />On GitHub, the HTML representation is unable to render, please try loading this page with nbviewer.org.</b></div><div class=\"sk-container\" hidden><div class=\"sk-item\"><div class=\"sk-estimator fitted sk-toggleable\"><input class=\"sk-toggleable__control sk-hidden--visually\" id=\"sk-estimator-id-1\" type=\"checkbox\" checked><label for=\"sk-estimator-id-1\" class=\"sk-toggleable__label fitted sk-toggleable__label-arrow\"><div><div>LogisticRegression</div></div><div><a class=\"sk-estimator-doc-link fitted\" rel=\"noreferrer\" target=\"_blank\" href=\"https://scikit-learn.org/1.6/modules/generated/sklearn.linear_model.LogisticRegression.html\">?<span>Documentation for LogisticRegression</span></a><span class=\"sk-estimator-doc-link fitted\">i<span>Fitted</span></span></div></label><div class=\"sk-toggleable__content fitted\"><pre>LogisticRegression()</pre></div> </div></div></div></div>"
            ]
          },
          "metadata": {},
          "execution_count": 29
        }
      ]
    },
    {
      "cell_type": "code",
      "source": [
        "y_pred=model.predict(x_test)"
      ],
      "metadata": {
        "id": "fLCcnnJ5mtpI"
      },
      "execution_count": null,
      "outputs": []
    },
    {
      "cell_type": "code",
      "source": [
        "y_pred"
      ],
      "metadata": {
        "colab": {
          "base_uri": "https://localhost:8080/"
        },
        "id": "ZiFEdTZumzcR",
        "outputId": "2f8ea4cf-b3b9-4e86-f5f5-42f345d16539"
      },
      "execution_count": null,
      "outputs": [
        {
          "output_type": "execute_result",
          "data": {
            "text/plain": [
              "array([6, 1, 9, 1, 0, 5, 3, 1, 2, 4, 6, 8, 2, 0, 3, 9, 1, 6, 3, 2, 7, 5,\n",
              "       0, 6, 6, 5, 3, 4, 6, 7, 5, 1, 7, 4, 0, 1, 6, 7, 8, 9, 7, 9, 8, 3,\n",
              "       5, 5, 3, 5, 2, 5, 4, 2, 1, 8, 3, 9, 8, 1, 9, 3, 4, 9, 8, 2, 5, 8,\n",
              "       3, 9, 1, 3, 4, 2, 2, 5, 4, 5, 1, 8, 2, 8, 2, 2, 1, 2, 1, 2, 7, 9,\n",
              "       4, 0, 1, 1, 2, 5, 7, 8, 9, 9, 9, 3, 9, 7, 7, 6, 3, 0, 9, 4, 6, 2,\n",
              "       9, 6, 2, 4, 3, 8, 6, 1, 8, 4, 0, 0, 2, 4, 2, 8, 2, 1, 5, 9, 3, 8,\n",
              "       2, 8, 5, 9, 2, 1, 1, 3, 8, 3, 9, 4, 9, 9, 5, 3, 1, 8, 1, 6, 9, 8,\n",
              "       5, 3, 6, 9, 2, 1, 2, 7, 8, 0, 3, 5, 4, 6, 0, 2, 6, 7, 9, 6, 9, 4,\n",
              "       3, 5, 8, 6, 4, 7, 2, 4, 1, 3, 4, 9, 3, 6, 2, 2, 9, 3, 9, 7, 9, 0,\n",
              "       7, 1, 5, 4, 9, 6, 3, 4, 7, 8, 1, 1, 2, 6, 0, 8, 0, 0, 3, 2, 8, 2,\n",
              "       7, 6, 2, 8, 5, 5, 8, 0, 1, 7, 2, 3, 5, 9, 4, 0, 6, 1, 5, 7, 0, 8,\n",
              "       2, 1, 5, 5, 7, 8, 8, 5, 9, 9, 7, 1, 4, 4, 2, 6, 4, 9, 0, 8, 2, 5,\n",
              "       1, 3, 4, 9, 5, 5, 9, 4, 2, 0, 1, 7, 2, 8, 9, 1, 4, 6, 2, 4, 5, 1,\n",
              "       5, 5, 1, 3, 4, 2, 6, 2, 8, 7, 4, 4, 0, 4, 5, 6, 3, 1, 2, 7, 5, 9,\n",
              "       7, 3, 8, 9, 8, 0, 9, 7, 9, 3, 5, 6, 2, 1, 7, 4, 6, 4, 5, 0, 6, 8,\n",
              "       5, 6, 0, 8, 9, 1, 6, 4, 4, 0, 5, 6, 8, 0, 1, 6, 5, 4, 7, 6, 4, 0,\n",
              "       3, 5, 1, 6, 4, 2, 0, 2])"
            ]
          },
          "metadata": {},
          "execution_count": 31
        }
      ]
    },
    {
      "cell_type": "code",
      "source": [
        "y_test"
      ],
      "metadata": {
        "colab": {
          "base_uri": "https://localhost:8080/"
        },
        "id": "r1J6yNXjm0sK",
        "outputId": "970b2696-9cf0-4272-b1cd-ea6cb27ed4a3"
      },
      "execution_count": null,
      "outputs": [
        {
          "output_type": "execute_result",
          "data": {
            "text/plain": [
              "array([6, 1, 9, 1, 0, 5, 3, 1, 2, 4, 6, 8, 2, 0, 3, 9, 8, 6, 3, 2, 7, 5,\n",
              "       0, 6, 6, 5, 3, 4, 6, 7, 5, 1, 7, 4, 0, 1, 6, 7, 8, 9, 7, 9, 8, 3,\n",
              "       5, 5, 3, 5, 2, 5, 4, 2, 8, 8, 3, 9, 8, 1, 9, 3, 4, 9, 8, 2, 5, 8,\n",
              "       3, 9, 1, 3, 4, 2, 2, 5, 4, 5, 1, 8, 2, 8, 2, 2, 1, 2, 1, 2, 7, 9,\n",
              "       4, 0, 6, 1, 2, 5, 7, 8, 7, 9, 9, 3, 9, 7, 7, 6, 3, 0, 9, 4, 6, 2,\n",
              "       9, 6, 2, 4, 3, 8, 6, 1, 8, 4, 0, 0, 2, 4, 2, 8, 2, 1, 5, 9, 3, 8,\n",
              "       2, 8, 5, 9, 2, 1, 6, 3, 8, 3, 8, 4, 9, 9, 5, 3, 2, 8, 1, 6, 9, 8,\n",
              "       5, 3, 6, 9, 2, 1, 2, 7, 4, 0, 3, 5, 4, 6, 0, 2, 6, 7, 9, 6, 1, 4,\n",
              "       3, 5, 8, 6, 4, 7, 2, 4, 1, 3, 4, 9, 3, 6, 2, 2, 9, 3, 9, 7, 9, 0,\n",
              "       7, 5, 5, 4, 9, 6, 3, 4, 7, 8, 1, 8, 2, 6, 0, 8, 0, 0, 3, 2, 8, 2,\n",
              "       7, 6, 2, 8, 5, 5, 8, 0, 1, 7, 2, 3, 5, 9, 4, 0, 6, 1, 5, 7, 0, 8,\n",
              "       2, 1, 5, 5, 7, 8, 8, 5, 9, 9, 7, 2, 4, 4, 2, 6, 4, 9, 0, 8, 2, 5,\n",
              "       1, 3, 4, 9, 5, 5, 9, 4, 2, 0, 1, 7, 2, 8, 9, 1, 4, 6, 2, 4, 5, 1,\n",
              "       5, 5, 1, 3, 4, 2, 6, 5, 8, 7, 7, 4, 0, 4, 5, 6, 3, 1, 2, 7, 5, 9,\n",
              "       7, 3, 8, 9, 8, 0, 9, 7, 9, 3, 5, 6, 2, 1, 7, 4, 6, 4, 5, 0, 6, 8,\n",
              "       5, 6, 0, 8, 9, 1, 6, 4, 4, 0, 5, 6, 8, 0, 1, 6, 5, 4, 7, 6, 4, 0,\n",
              "       3, 5, 1, 6, 6, 2, 0, 2])"
            ]
          },
          "metadata": {},
          "execution_count": 32
        }
      ]
    },
    {
      "cell_type": "code",
      "source": [
        "from sklearn.metrics import accuracy_score"
      ],
      "metadata": {
        "id": "ymleDhqrm2qZ"
      },
      "execution_count": null,
      "outputs": []
    },
    {
      "cell_type": "code",
      "source": [
        "accuracy_score(y_pred,y_test)*100\n"
      ],
      "metadata": {
        "colab": {
          "base_uri": "https://localhost:8080/"
        },
        "id": "xRxMG0kOm7hJ",
        "outputId": "4bd9754d-7a69-4bed-debf-dc14725e17be"
      },
      "execution_count": null,
      "outputs": [
        {
          "output_type": "execute_result",
          "data": {
            "text/plain": [
              "95.83333333333334"
            ]
          },
          "metadata": {},
          "execution_count": 35
        }
      ]
    },
    {
      "cell_type": "code",
      "source": [
        "#decision classificarion, Random forest classification"
      ],
      "metadata": {
        "id": "Zh_mRkg7m_H6"
      },
      "execution_count": null,
      "outputs": []
    },
    {
      "cell_type": "code",
      "source": [
        "from sklearn.tree import DecisionTreeClassifier"
      ],
      "metadata": {
        "id": "Eh-Tg9kXnR5a"
      },
      "execution_count": null,
      "outputs": []
    },
    {
      "cell_type": "code",
      "source": [
        "model_dt=DecisionTreeClassifier()"
      ],
      "metadata": {
        "id": "-oB2KGF1pU4X"
      },
      "execution_count": null,
      "outputs": []
    },
    {
      "cell_type": "code",
      "source": [
        "model_dt.fit(x_train,y_train)"
      ],
      "metadata": {
        "colab": {
          "base_uri": "https://localhost:8080/",
          "height": 79
        },
        "id": "CTKDXQ0_pXj2",
        "outputId": "33e4470b-78af-42fc-c2e1-2ebf53bcda8b"
      },
      "execution_count": null,
      "outputs": [
        {
          "output_type": "execute_result",
          "data": {
            "text/plain": [
              "DecisionTreeClassifier()"
            ],
            "text/html": [
              "<style>#sk-container-id-2 {\n",
              "  /* Definition of color scheme common for light and dark mode */\n",
              "  --sklearn-color-text: #000;\n",
              "  --sklearn-color-text-muted: #666;\n",
              "  --sklearn-color-line: gray;\n",
              "  /* Definition of color scheme for unfitted estimators */\n",
              "  --sklearn-color-unfitted-level-0: #fff5e6;\n",
              "  --sklearn-color-unfitted-level-1: #f6e4d2;\n",
              "  --sklearn-color-unfitted-level-2: #ffe0b3;\n",
              "  --sklearn-color-unfitted-level-3: chocolate;\n",
              "  /* Definition of color scheme for fitted estimators */\n",
              "  --sklearn-color-fitted-level-0: #f0f8ff;\n",
              "  --sklearn-color-fitted-level-1: #d4ebff;\n",
              "  --sklearn-color-fitted-level-2: #b3dbfd;\n",
              "  --sklearn-color-fitted-level-3: cornflowerblue;\n",
              "\n",
              "  /* Specific color for light theme */\n",
              "  --sklearn-color-text-on-default-background: var(--sg-text-color, var(--theme-code-foreground, var(--jp-content-font-color1, black)));\n",
              "  --sklearn-color-background: var(--sg-background-color, var(--theme-background, var(--jp-layout-color0, white)));\n",
              "  --sklearn-color-border-box: var(--sg-text-color, var(--theme-code-foreground, var(--jp-content-font-color1, black)));\n",
              "  --sklearn-color-icon: #696969;\n",
              "\n",
              "  @media (prefers-color-scheme: dark) {\n",
              "    /* Redefinition of color scheme for dark theme */\n",
              "    --sklearn-color-text-on-default-background: var(--sg-text-color, var(--theme-code-foreground, var(--jp-content-font-color1, white)));\n",
              "    --sklearn-color-background: var(--sg-background-color, var(--theme-background, var(--jp-layout-color0, #111)));\n",
              "    --sklearn-color-border-box: var(--sg-text-color, var(--theme-code-foreground, var(--jp-content-font-color1, white)));\n",
              "    --sklearn-color-icon: #878787;\n",
              "  }\n",
              "}\n",
              "\n",
              "#sk-container-id-2 {\n",
              "  color: var(--sklearn-color-text);\n",
              "}\n",
              "\n",
              "#sk-container-id-2 pre {\n",
              "  padding: 0;\n",
              "}\n",
              "\n",
              "#sk-container-id-2 input.sk-hidden--visually {\n",
              "  border: 0;\n",
              "  clip: rect(1px 1px 1px 1px);\n",
              "  clip: rect(1px, 1px, 1px, 1px);\n",
              "  height: 1px;\n",
              "  margin: -1px;\n",
              "  overflow: hidden;\n",
              "  padding: 0;\n",
              "  position: absolute;\n",
              "  width: 1px;\n",
              "}\n",
              "\n",
              "#sk-container-id-2 div.sk-dashed-wrapped {\n",
              "  border: 1px dashed var(--sklearn-color-line);\n",
              "  margin: 0 0.4em 0.5em 0.4em;\n",
              "  box-sizing: border-box;\n",
              "  padding-bottom: 0.4em;\n",
              "  background-color: var(--sklearn-color-background);\n",
              "}\n",
              "\n",
              "#sk-container-id-2 div.sk-container {\n",
              "  /* jupyter's `normalize.less` sets `[hidden] { display: none; }`\n",
              "     but bootstrap.min.css set `[hidden] { display: none !important; }`\n",
              "     so we also need the `!important` here to be able to override the\n",
              "     default hidden behavior on the sphinx rendered scikit-learn.org.\n",
              "     See: https://github.com/scikit-learn/scikit-learn/issues/21755 */\n",
              "  display: inline-block !important;\n",
              "  position: relative;\n",
              "}\n",
              "\n",
              "#sk-container-id-2 div.sk-text-repr-fallback {\n",
              "  display: none;\n",
              "}\n",
              "\n",
              "div.sk-parallel-item,\n",
              "div.sk-serial,\n",
              "div.sk-item {\n",
              "  /* draw centered vertical line to link estimators */\n",
              "  background-image: linear-gradient(var(--sklearn-color-text-on-default-background), var(--sklearn-color-text-on-default-background));\n",
              "  background-size: 2px 100%;\n",
              "  background-repeat: no-repeat;\n",
              "  background-position: center center;\n",
              "}\n",
              "\n",
              "/* Parallel-specific style estimator block */\n",
              "\n",
              "#sk-container-id-2 div.sk-parallel-item::after {\n",
              "  content: \"\";\n",
              "  width: 100%;\n",
              "  border-bottom: 2px solid var(--sklearn-color-text-on-default-background);\n",
              "  flex-grow: 1;\n",
              "}\n",
              "\n",
              "#sk-container-id-2 div.sk-parallel {\n",
              "  display: flex;\n",
              "  align-items: stretch;\n",
              "  justify-content: center;\n",
              "  background-color: var(--sklearn-color-background);\n",
              "  position: relative;\n",
              "}\n",
              "\n",
              "#sk-container-id-2 div.sk-parallel-item {\n",
              "  display: flex;\n",
              "  flex-direction: column;\n",
              "}\n",
              "\n",
              "#sk-container-id-2 div.sk-parallel-item:first-child::after {\n",
              "  align-self: flex-end;\n",
              "  width: 50%;\n",
              "}\n",
              "\n",
              "#sk-container-id-2 div.sk-parallel-item:last-child::after {\n",
              "  align-self: flex-start;\n",
              "  width: 50%;\n",
              "}\n",
              "\n",
              "#sk-container-id-2 div.sk-parallel-item:only-child::after {\n",
              "  width: 0;\n",
              "}\n",
              "\n",
              "/* Serial-specific style estimator block */\n",
              "\n",
              "#sk-container-id-2 div.sk-serial {\n",
              "  display: flex;\n",
              "  flex-direction: column;\n",
              "  align-items: center;\n",
              "  background-color: var(--sklearn-color-background);\n",
              "  padding-right: 1em;\n",
              "  padding-left: 1em;\n",
              "}\n",
              "\n",
              "\n",
              "/* Toggleable style: style used for estimator/Pipeline/ColumnTransformer box that is\n",
              "clickable and can be expanded/collapsed.\n",
              "- Pipeline and ColumnTransformer use this feature and define the default style\n",
              "- Estimators will overwrite some part of the style using the `sk-estimator` class\n",
              "*/\n",
              "\n",
              "/* Pipeline and ColumnTransformer style (default) */\n",
              "\n",
              "#sk-container-id-2 div.sk-toggleable {\n",
              "  /* Default theme specific background. It is overwritten whether we have a\n",
              "  specific estimator or a Pipeline/ColumnTransformer */\n",
              "  background-color: var(--sklearn-color-background);\n",
              "}\n",
              "\n",
              "/* Toggleable label */\n",
              "#sk-container-id-2 label.sk-toggleable__label {\n",
              "  cursor: pointer;\n",
              "  display: flex;\n",
              "  width: 100%;\n",
              "  margin-bottom: 0;\n",
              "  padding: 0.5em;\n",
              "  box-sizing: border-box;\n",
              "  text-align: center;\n",
              "  align-items: start;\n",
              "  justify-content: space-between;\n",
              "  gap: 0.5em;\n",
              "}\n",
              "\n",
              "#sk-container-id-2 label.sk-toggleable__label .caption {\n",
              "  font-size: 0.6rem;\n",
              "  font-weight: lighter;\n",
              "  color: var(--sklearn-color-text-muted);\n",
              "}\n",
              "\n",
              "#sk-container-id-2 label.sk-toggleable__label-arrow:before {\n",
              "  /* Arrow on the left of the label */\n",
              "  content: \"▸\";\n",
              "  float: left;\n",
              "  margin-right: 0.25em;\n",
              "  color: var(--sklearn-color-icon);\n",
              "}\n",
              "\n",
              "#sk-container-id-2 label.sk-toggleable__label-arrow:hover:before {\n",
              "  color: var(--sklearn-color-text);\n",
              "}\n",
              "\n",
              "/* Toggleable content - dropdown */\n",
              "\n",
              "#sk-container-id-2 div.sk-toggleable__content {\n",
              "  max-height: 0;\n",
              "  max-width: 0;\n",
              "  overflow: hidden;\n",
              "  text-align: left;\n",
              "  /* unfitted */\n",
              "  background-color: var(--sklearn-color-unfitted-level-0);\n",
              "}\n",
              "\n",
              "#sk-container-id-2 div.sk-toggleable__content.fitted {\n",
              "  /* fitted */\n",
              "  background-color: var(--sklearn-color-fitted-level-0);\n",
              "}\n",
              "\n",
              "#sk-container-id-2 div.sk-toggleable__content pre {\n",
              "  margin: 0.2em;\n",
              "  border-radius: 0.25em;\n",
              "  color: var(--sklearn-color-text);\n",
              "  /* unfitted */\n",
              "  background-color: var(--sklearn-color-unfitted-level-0);\n",
              "}\n",
              "\n",
              "#sk-container-id-2 div.sk-toggleable__content.fitted pre {\n",
              "  /* unfitted */\n",
              "  background-color: var(--sklearn-color-fitted-level-0);\n",
              "}\n",
              "\n",
              "#sk-container-id-2 input.sk-toggleable__control:checked~div.sk-toggleable__content {\n",
              "  /* Expand drop-down */\n",
              "  max-height: 200px;\n",
              "  max-width: 100%;\n",
              "  overflow: auto;\n",
              "}\n",
              "\n",
              "#sk-container-id-2 input.sk-toggleable__control:checked~label.sk-toggleable__label-arrow:before {\n",
              "  content: \"▾\";\n",
              "}\n",
              "\n",
              "/* Pipeline/ColumnTransformer-specific style */\n",
              "\n",
              "#sk-container-id-2 div.sk-label input.sk-toggleable__control:checked~label.sk-toggleable__label {\n",
              "  color: var(--sklearn-color-text);\n",
              "  background-color: var(--sklearn-color-unfitted-level-2);\n",
              "}\n",
              "\n",
              "#sk-container-id-2 div.sk-label.fitted input.sk-toggleable__control:checked~label.sk-toggleable__label {\n",
              "  background-color: var(--sklearn-color-fitted-level-2);\n",
              "}\n",
              "\n",
              "/* Estimator-specific style */\n",
              "\n",
              "/* Colorize estimator box */\n",
              "#sk-container-id-2 div.sk-estimator input.sk-toggleable__control:checked~label.sk-toggleable__label {\n",
              "  /* unfitted */\n",
              "  background-color: var(--sklearn-color-unfitted-level-2);\n",
              "}\n",
              "\n",
              "#sk-container-id-2 div.sk-estimator.fitted input.sk-toggleable__control:checked~label.sk-toggleable__label {\n",
              "  /* fitted */\n",
              "  background-color: var(--sklearn-color-fitted-level-2);\n",
              "}\n",
              "\n",
              "#sk-container-id-2 div.sk-label label.sk-toggleable__label,\n",
              "#sk-container-id-2 div.sk-label label {\n",
              "  /* The background is the default theme color */\n",
              "  color: var(--sklearn-color-text-on-default-background);\n",
              "}\n",
              "\n",
              "/* On hover, darken the color of the background */\n",
              "#sk-container-id-2 div.sk-label:hover label.sk-toggleable__label {\n",
              "  color: var(--sklearn-color-text);\n",
              "  background-color: var(--sklearn-color-unfitted-level-2);\n",
              "}\n",
              "\n",
              "/* Label box, darken color on hover, fitted */\n",
              "#sk-container-id-2 div.sk-label.fitted:hover label.sk-toggleable__label.fitted {\n",
              "  color: var(--sklearn-color-text);\n",
              "  background-color: var(--sklearn-color-fitted-level-2);\n",
              "}\n",
              "\n",
              "/* Estimator label */\n",
              "\n",
              "#sk-container-id-2 div.sk-label label {\n",
              "  font-family: monospace;\n",
              "  font-weight: bold;\n",
              "  display: inline-block;\n",
              "  line-height: 1.2em;\n",
              "}\n",
              "\n",
              "#sk-container-id-2 div.sk-label-container {\n",
              "  text-align: center;\n",
              "}\n",
              "\n",
              "/* Estimator-specific */\n",
              "#sk-container-id-2 div.sk-estimator {\n",
              "  font-family: monospace;\n",
              "  border: 1px dotted var(--sklearn-color-border-box);\n",
              "  border-radius: 0.25em;\n",
              "  box-sizing: border-box;\n",
              "  margin-bottom: 0.5em;\n",
              "  /* unfitted */\n",
              "  background-color: var(--sklearn-color-unfitted-level-0);\n",
              "}\n",
              "\n",
              "#sk-container-id-2 div.sk-estimator.fitted {\n",
              "  /* fitted */\n",
              "  background-color: var(--sklearn-color-fitted-level-0);\n",
              "}\n",
              "\n",
              "/* on hover */\n",
              "#sk-container-id-2 div.sk-estimator:hover {\n",
              "  /* unfitted */\n",
              "  background-color: var(--sklearn-color-unfitted-level-2);\n",
              "}\n",
              "\n",
              "#sk-container-id-2 div.sk-estimator.fitted:hover {\n",
              "  /* fitted */\n",
              "  background-color: var(--sklearn-color-fitted-level-2);\n",
              "}\n",
              "\n",
              "/* Specification for estimator info (e.g. \"i\" and \"?\") */\n",
              "\n",
              "/* Common style for \"i\" and \"?\" */\n",
              "\n",
              ".sk-estimator-doc-link,\n",
              "a:link.sk-estimator-doc-link,\n",
              "a:visited.sk-estimator-doc-link {\n",
              "  float: right;\n",
              "  font-size: smaller;\n",
              "  line-height: 1em;\n",
              "  font-family: monospace;\n",
              "  background-color: var(--sklearn-color-background);\n",
              "  border-radius: 1em;\n",
              "  height: 1em;\n",
              "  width: 1em;\n",
              "  text-decoration: none !important;\n",
              "  margin-left: 0.5em;\n",
              "  text-align: center;\n",
              "  /* unfitted */\n",
              "  border: var(--sklearn-color-unfitted-level-1) 1pt solid;\n",
              "  color: var(--sklearn-color-unfitted-level-1);\n",
              "}\n",
              "\n",
              ".sk-estimator-doc-link.fitted,\n",
              "a:link.sk-estimator-doc-link.fitted,\n",
              "a:visited.sk-estimator-doc-link.fitted {\n",
              "  /* fitted */\n",
              "  border: var(--sklearn-color-fitted-level-1) 1pt solid;\n",
              "  color: var(--sklearn-color-fitted-level-1);\n",
              "}\n",
              "\n",
              "/* On hover */\n",
              "div.sk-estimator:hover .sk-estimator-doc-link:hover,\n",
              ".sk-estimator-doc-link:hover,\n",
              "div.sk-label-container:hover .sk-estimator-doc-link:hover,\n",
              ".sk-estimator-doc-link:hover {\n",
              "  /* unfitted */\n",
              "  background-color: var(--sklearn-color-unfitted-level-3);\n",
              "  color: var(--sklearn-color-background);\n",
              "  text-decoration: none;\n",
              "}\n",
              "\n",
              "div.sk-estimator.fitted:hover .sk-estimator-doc-link.fitted:hover,\n",
              ".sk-estimator-doc-link.fitted:hover,\n",
              "div.sk-label-container:hover .sk-estimator-doc-link.fitted:hover,\n",
              ".sk-estimator-doc-link.fitted:hover {\n",
              "  /* fitted */\n",
              "  background-color: var(--sklearn-color-fitted-level-3);\n",
              "  color: var(--sklearn-color-background);\n",
              "  text-decoration: none;\n",
              "}\n",
              "\n",
              "/* Span, style for the box shown on hovering the info icon */\n",
              ".sk-estimator-doc-link span {\n",
              "  display: none;\n",
              "  z-index: 9999;\n",
              "  position: relative;\n",
              "  font-weight: normal;\n",
              "  right: .2ex;\n",
              "  padding: .5ex;\n",
              "  margin: .5ex;\n",
              "  width: min-content;\n",
              "  min-width: 20ex;\n",
              "  max-width: 50ex;\n",
              "  color: var(--sklearn-color-text);\n",
              "  box-shadow: 2pt 2pt 4pt #999;\n",
              "  /* unfitted */\n",
              "  background: var(--sklearn-color-unfitted-level-0);\n",
              "  border: .5pt solid var(--sklearn-color-unfitted-level-3);\n",
              "}\n",
              "\n",
              ".sk-estimator-doc-link.fitted span {\n",
              "  /* fitted */\n",
              "  background: var(--sklearn-color-fitted-level-0);\n",
              "  border: var(--sklearn-color-fitted-level-3);\n",
              "}\n",
              "\n",
              ".sk-estimator-doc-link:hover span {\n",
              "  display: block;\n",
              "}\n",
              "\n",
              "/* \"?\"-specific style due to the `<a>` HTML tag */\n",
              "\n",
              "#sk-container-id-2 a.estimator_doc_link {\n",
              "  float: right;\n",
              "  font-size: 1rem;\n",
              "  line-height: 1em;\n",
              "  font-family: monospace;\n",
              "  background-color: var(--sklearn-color-background);\n",
              "  border-radius: 1rem;\n",
              "  height: 1rem;\n",
              "  width: 1rem;\n",
              "  text-decoration: none;\n",
              "  /* unfitted */\n",
              "  color: var(--sklearn-color-unfitted-level-1);\n",
              "  border: var(--sklearn-color-unfitted-level-1) 1pt solid;\n",
              "}\n",
              "\n",
              "#sk-container-id-2 a.estimator_doc_link.fitted {\n",
              "  /* fitted */\n",
              "  border: var(--sklearn-color-fitted-level-1) 1pt solid;\n",
              "  color: var(--sklearn-color-fitted-level-1);\n",
              "}\n",
              "\n",
              "/* On hover */\n",
              "#sk-container-id-2 a.estimator_doc_link:hover {\n",
              "  /* unfitted */\n",
              "  background-color: var(--sklearn-color-unfitted-level-3);\n",
              "  color: var(--sklearn-color-background);\n",
              "  text-decoration: none;\n",
              "}\n",
              "\n",
              "#sk-container-id-2 a.estimator_doc_link.fitted:hover {\n",
              "  /* fitted */\n",
              "  background-color: var(--sklearn-color-fitted-level-3);\n",
              "}\n",
              "</style><div id=\"sk-container-id-2\" class=\"sk-top-container\"><div class=\"sk-text-repr-fallback\"><pre>DecisionTreeClassifier()</pre><b>In a Jupyter environment, please rerun this cell to show the HTML representation or trust the notebook. <br />On GitHub, the HTML representation is unable to render, please try loading this page with nbviewer.org.</b></div><div class=\"sk-container\" hidden><div class=\"sk-item\"><div class=\"sk-estimator fitted sk-toggleable\"><input class=\"sk-toggleable__control sk-hidden--visually\" id=\"sk-estimator-id-2\" type=\"checkbox\" checked><label for=\"sk-estimator-id-2\" class=\"sk-toggleable__label fitted sk-toggleable__label-arrow\"><div><div>DecisionTreeClassifier</div></div><div><a class=\"sk-estimator-doc-link fitted\" rel=\"noreferrer\" target=\"_blank\" href=\"https://scikit-learn.org/1.6/modules/generated/sklearn.tree.DecisionTreeClassifier.html\">?<span>Documentation for DecisionTreeClassifier</span></a><span class=\"sk-estimator-doc-link fitted\">i<span>Fitted</span></span></div></label><div class=\"sk-toggleable__content fitted\"><pre>DecisionTreeClassifier()</pre></div> </div></div></div></div>"
            ]
          },
          "metadata": {},
          "execution_count": 38
        }
      ]
    },
    {
      "cell_type": "code",
      "source": [
        "y_pred_dt=model_dt.predict(x_test)"
      ],
      "metadata": {
        "id": "f0Rz0zXspcJj"
      },
      "execution_count": null,
      "outputs": []
    },
    {
      "cell_type": "code",
      "source": [
        "accuracy_score(y_pred_dt,y_test)*100"
      ],
      "metadata": {
        "colab": {
          "base_uri": "https://localhost:8080/"
        },
        "id": "-kXhC2tEpjTz",
        "outputId": "fd54657c-ebbb-4c3e-f4c1-ea57b69cb454"
      },
      "execution_count": null,
      "outputs": [
        {
          "output_type": "execute_result",
          "data": {
            "text/plain": [
              "88.33333333333333"
            ]
          },
          "metadata": {},
          "execution_count": 41
        }
      ]
    },
    {
      "cell_type": "code",
      "source": [
        "from sklearn.ensemble import RandomForestClassifier"
      ],
      "metadata": {
        "id": "oKYEsEhtpqQf"
      },
      "execution_count": null,
      "outputs": []
    },
    {
      "cell_type": "code",
      "source": [
        "model_rf=RandomForestClassifier()"
      ],
      "metadata": {
        "id": "6ZmsFlzzpz6a"
      },
      "execution_count": null,
      "outputs": []
    },
    {
      "cell_type": "code",
      "source": [
        "model_rf.fit(x_train,y_train)"
      ],
      "metadata": {
        "colab": {
          "base_uri": "https://localhost:8080/",
          "height": 79
        },
        "id": "usVfJHUxp4TE",
        "outputId": "6eadc5ac-6c56-4d3d-dac1-e9981bde5d66"
      },
      "execution_count": null,
      "outputs": [
        {
          "output_type": "execute_result",
          "data": {
            "text/plain": [
              "RandomForestClassifier()"
            ],
            "text/html": [
              "<style>#sk-container-id-3 {\n",
              "  /* Definition of color scheme common for light and dark mode */\n",
              "  --sklearn-color-text: #000;\n",
              "  --sklearn-color-text-muted: #666;\n",
              "  --sklearn-color-line: gray;\n",
              "  /* Definition of color scheme for unfitted estimators */\n",
              "  --sklearn-color-unfitted-level-0: #fff5e6;\n",
              "  --sklearn-color-unfitted-level-1: #f6e4d2;\n",
              "  --sklearn-color-unfitted-level-2: #ffe0b3;\n",
              "  --sklearn-color-unfitted-level-3: chocolate;\n",
              "  /* Definition of color scheme for fitted estimators */\n",
              "  --sklearn-color-fitted-level-0: #f0f8ff;\n",
              "  --sklearn-color-fitted-level-1: #d4ebff;\n",
              "  --sklearn-color-fitted-level-2: #b3dbfd;\n",
              "  --sklearn-color-fitted-level-3: cornflowerblue;\n",
              "\n",
              "  /* Specific color for light theme */\n",
              "  --sklearn-color-text-on-default-background: var(--sg-text-color, var(--theme-code-foreground, var(--jp-content-font-color1, black)));\n",
              "  --sklearn-color-background: var(--sg-background-color, var(--theme-background, var(--jp-layout-color0, white)));\n",
              "  --sklearn-color-border-box: var(--sg-text-color, var(--theme-code-foreground, var(--jp-content-font-color1, black)));\n",
              "  --sklearn-color-icon: #696969;\n",
              "\n",
              "  @media (prefers-color-scheme: dark) {\n",
              "    /* Redefinition of color scheme for dark theme */\n",
              "    --sklearn-color-text-on-default-background: var(--sg-text-color, var(--theme-code-foreground, var(--jp-content-font-color1, white)));\n",
              "    --sklearn-color-background: var(--sg-background-color, var(--theme-background, var(--jp-layout-color0, #111)));\n",
              "    --sklearn-color-border-box: var(--sg-text-color, var(--theme-code-foreground, var(--jp-content-font-color1, white)));\n",
              "    --sklearn-color-icon: #878787;\n",
              "  }\n",
              "}\n",
              "\n",
              "#sk-container-id-3 {\n",
              "  color: var(--sklearn-color-text);\n",
              "}\n",
              "\n",
              "#sk-container-id-3 pre {\n",
              "  padding: 0;\n",
              "}\n",
              "\n",
              "#sk-container-id-3 input.sk-hidden--visually {\n",
              "  border: 0;\n",
              "  clip: rect(1px 1px 1px 1px);\n",
              "  clip: rect(1px, 1px, 1px, 1px);\n",
              "  height: 1px;\n",
              "  margin: -1px;\n",
              "  overflow: hidden;\n",
              "  padding: 0;\n",
              "  position: absolute;\n",
              "  width: 1px;\n",
              "}\n",
              "\n",
              "#sk-container-id-3 div.sk-dashed-wrapped {\n",
              "  border: 1px dashed var(--sklearn-color-line);\n",
              "  margin: 0 0.4em 0.5em 0.4em;\n",
              "  box-sizing: border-box;\n",
              "  padding-bottom: 0.4em;\n",
              "  background-color: var(--sklearn-color-background);\n",
              "}\n",
              "\n",
              "#sk-container-id-3 div.sk-container {\n",
              "  /* jupyter's `normalize.less` sets `[hidden] { display: none; }`\n",
              "     but bootstrap.min.css set `[hidden] { display: none !important; }`\n",
              "     so we also need the `!important` here to be able to override the\n",
              "     default hidden behavior on the sphinx rendered scikit-learn.org.\n",
              "     See: https://github.com/scikit-learn/scikit-learn/issues/21755 */\n",
              "  display: inline-block !important;\n",
              "  position: relative;\n",
              "}\n",
              "\n",
              "#sk-container-id-3 div.sk-text-repr-fallback {\n",
              "  display: none;\n",
              "}\n",
              "\n",
              "div.sk-parallel-item,\n",
              "div.sk-serial,\n",
              "div.sk-item {\n",
              "  /* draw centered vertical line to link estimators */\n",
              "  background-image: linear-gradient(var(--sklearn-color-text-on-default-background), var(--sklearn-color-text-on-default-background));\n",
              "  background-size: 2px 100%;\n",
              "  background-repeat: no-repeat;\n",
              "  background-position: center center;\n",
              "}\n",
              "\n",
              "/* Parallel-specific style estimator block */\n",
              "\n",
              "#sk-container-id-3 div.sk-parallel-item::after {\n",
              "  content: \"\";\n",
              "  width: 100%;\n",
              "  border-bottom: 2px solid var(--sklearn-color-text-on-default-background);\n",
              "  flex-grow: 1;\n",
              "}\n",
              "\n",
              "#sk-container-id-3 div.sk-parallel {\n",
              "  display: flex;\n",
              "  align-items: stretch;\n",
              "  justify-content: center;\n",
              "  background-color: var(--sklearn-color-background);\n",
              "  position: relative;\n",
              "}\n",
              "\n",
              "#sk-container-id-3 div.sk-parallel-item {\n",
              "  display: flex;\n",
              "  flex-direction: column;\n",
              "}\n",
              "\n",
              "#sk-container-id-3 div.sk-parallel-item:first-child::after {\n",
              "  align-self: flex-end;\n",
              "  width: 50%;\n",
              "}\n",
              "\n",
              "#sk-container-id-3 div.sk-parallel-item:last-child::after {\n",
              "  align-self: flex-start;\n",
              "  width: 50%;\n",
              "}\n",
              "\n",
              "#sk-container-id-3 div.sk-parallel-item:only-child::after {\n",
              "  width: 0;\n",
              "}\n",
              "\n",
              "/* Serial-specific style estimator block */\n",
              "\n",
              "#sk-container-id-3 div.sk-serial {\n",
              "  display: flex;\n",
              "  flex-direction: column;\n",
              "  align-items: center;\n",
              "  background-color: var(--sklearn-color-background);\n",
              "  padding-right: 1em;\n",
              "  padding-left: 1em;\n",
              "}\n",
              "\n",
              "\n",
              "/* Toggleable style: style used for estimator/Pipeline/ColumnTransformer box that is\n",
              "clickable and can be expanded/collapsed.\n",
              "- Pipeline and ColumnTransformer use this feature and define the default style\n",
              "- Estimators will overwrite some part of the style using the `sk-estimator` class\n",
              "*/\n",
              "\n",
              "/* Pipeline and ColumnTransformer style (default) */\n",
              "\n",
              "#sk-container-id-3 div.sk-toggleable {\n",
              "  /* Default theme specific background. It is overwritten whether we have a\n",
              "  specific estimator or a Pipeline/ColumnTransformer */\n",
              "  background-color: var(--sklearn-color-background);\n",
              "}\n",
              "\n",
              "/* Toggleable label */\n",
              "#sk-container-id-3 label.sk-toggleable__label {\n",
              "  cursor: pointer;\n",
              "  display: flex;\n",
              "  width: 100%;\n",
              "  margin-bottom: 0;\n",
              "  padding: 0.5em;\n",
              "  box-sizing: border-box;\n",
              "  text-align: center;\n",
              "  align-items: start;\n",
              "  justify-content: space-between;\n",
              "  gap: 0.5em;\n",
              "}\n",
              "\n",
              "#sk-container-id-3 label.sk-toggleable__label .caption {\n",
              "  font-size: 0.6rem;\n",
              "  font-weight: lighter;\n",
              "  color: var(--sklearn-color-text-muted);\n",
              "}\n",
              "\n",
              "#sk-container-id-3 label.sk-toggleable__label-arrow:before {\n",
              "  /* Arrow on the left of the label */\n",
              "  content: \"▸\";\n",
              "  float: left;\n",
              "  margin-right: 0.25em;\n",
              "  color: var(--sklearn-color-icon);\n",
              "}\n",
              "\n",
              "#sk-container-id-3 label.sk-toggleable__label-arrow:hover:before {\n",
              "  color: var(--sklearn-color-text);\n",
              "}\n",
              "\n",
              "/* Toggleable content - dropdown */\n",
              "\n",
              "#sk-container-id-3 div.sk-toggleable__content {\n",
              "  max-height: 0;\n",
              "  max-width: 0;\n",
              "  overflow: hidden;\n",
              "  text-align: left;\n",
              "  /* unfitted */\n",
              "  background-color: var(--sklearn-color-unfitted-level-0);\n",
              "}\n",
              "\n",
              "#sk-container-id-3 div.sk-toggleable__content.fitted {\n",
              "  /* fitted */\n",
              "  background-color: var(--sklearn-color-fitted-level-0);\n",
              "}\n",
              "\n",
              "#sk-container-id-3 div.sk-toggleable__content pre {\n",
              "  margin: 0.2em;\n",
              "  border-radius: 0.25em;\n",
              "  color: var(--sklearn-color-text);\n",
              "  /* unfitted */\n",
              "  background-color: var(--sklearn-color-unfitted-level-0);\n",
              "}\n",
              "\n",
              "#sk-container-id-3 div.sk-toggleable__content.fitted pre {\n",
              "  /* unfitted */\n",
              "  background-color: var(--sklearn-color-fitted-level-0);\n",
              "}\n",
              "\n",
              "#sk-container-id-3 input.sk-toggleable__control:checked~div.sk-toggleable__content {\n",
              "  /* Expand drop-down */\n",
              "  max-height: 200px;\n",
              "  max-width: 100%;\n",
              "  overflow: auto;\n",
              "}\n",
              "\n",
              "#sk-container-id-3 input.sk-toggleable__control:checked~label.sk-toggleable__label-arrow:before {\n",
              "  content: \"▾\";\n",
              "}\n",
              "\n",
              "/* Pipeline/ColumnTransformer-specific style */\n",
              "\n",
              "#sk-container-id-3 div.sk-label input.sk-toggleable__control:checked~label.sk-toggleable__label {\n",
              "  color: var(--sklearn-color-text);\n",
              "  background-color: var(--sklearn-color-unfitted-level-2);\n",
              "}\n",
              "\n",
              "#sk-container-id-3 div.sk-label.fitted input.sk-toggleable__control:checked~label.sk-toggleable__label {\n",
              "  background-color: var(--sklearn-color-fitted-level-2);\n",
              "}\n",
              "\n",
              "/* Estimator-specific style */\n",
              "\n",
              "/* Colorize estimator box */\n",
              "#sk-container-id-3 div.sk-estimator input.sk-toggleable__control:checked~label.sk-toggleable__label {\n",
              "  /* unfitted */\n",
              "  background-color: var(--sklearn-color-unfitted-level-2);\n",
              "}\n",
              "\n",
              "#sk-container-id-3 div.sk-estimator.fitted input.sk-toggleable__control:checked~label.sk-toggleable__label {\n",
              "  /* fitted */\n",
              "  background-color: var(--sklearn-color-fitted-level-2);\n",
              "}\n",
              "\n",
              "#sk-container-id-3 div.sk-label label.sk-toggleable__label,\n",
              "#sk-container-id-3 div.sk-label label {\n",
              "  /* The background is the default theme color */\n",
              "  color: var(--sklearn-color-text-on-default-background);\n",
              "}\n",
              "\n",
              "/* On hover, darken the color of the background */\n",
              "#sk-container-id-3 div.sk-label:hover label.sk-toggleable__label {\n",
              "  color: var(--sklearn-color-text);\n",
              "  background-color: var(--sklearn-color-unfitted-level-2);\n",
              "}\n",
              "\n",
              "/* Label box, darken color on hover, fitted */\n",
              "#sk-container-id-3 div.sk-label.fitted:hover label.sk-toggleable__label.fitted {\n",
              "  color: var(--sklearn-color-text);\n",
              "  background-color: var(--sklearn-color-fitted-level-2);\n",
              "}\n",
              "\n",
              "/* Estimator label */\n",
              "\n",
              "#sk-container-id-3 div.sk-label label {\n",
              "  font-family: monospace;\n",
              "  font-weight: bold;\n",
              "  display: inline-block;\n",
              "  line-height: 1.2em;\n",
              "}\n",
              "\n",
              "#sk-container-id-3 div.sk-label-container {\n",
              "  text-align: center;\n",
              "}\n",
              "\n",
              "/* Estimator-specific */\n",
              "#sk-container-id-3 div.sk-estimator {\n",
              "  font-family: monospace;\n",
              "  border: 1px dotted var(--sklearn-color-border-box);\n",
              "  border-radius: 0.25em;\n",
              "  box-sizing: border-box;\n",
              "  margin-bottom: 0.5em;\n",
              "  /* unfitted */\n",
              "  background-color: var(--sklearn-color-unfitted-level-0);\n",
              "}\n",
              "\n",
              "#sk-container-id-3 div.sk-estimator.fitted {\n",
              "  /* fitted */\n",
              "  background-color: var(--sklearn-color-fitted-level-0);\n",
              "}\n",
              "\n",
              "/* on hover */\n",
              "#sk-container-id-3 div.sk-estimator:hover {\n",
              "  /* unfitted */\n",
              "  background-color: var(--sklearn-color-unfitted-level-2);\n",
              "}\n",
              "\n",
              "#sk-container-id-3 div.sk-estimator.fitted:hover {\n",
              "  /* fitted */\n",
              "  background-color: var(--sklearn-color-fitted-level-2);\n",
              "}\n",
              "\n",
              "/* Specification for estimator info (e.g. \"i\" and \"?\") */\n",
              "\n",
              "/* Common style for \"i\" and \"?\" */\n",
              "\n",
              ".sk-estimator-doc-link,\n",
              "a:link.sk-estimator-doc-link,\n",
              "a:visited.sk-estimator-doc-link {\n",
              "  float: right;\n",
              "  font-size: smaller;\n",
              "  line-height: 1em;\n",
              "  font-family: monospace;\n",
              "  background-color: var(--sklearn-color-background);\n",
              "  border-radius: 1em;\n",
              "  height: 1em;\n",
              "  width: 1em;\n",
              "  text-decoration: none !important;\n",
              "  margin-left: 0.5em;\n",
              "  text-align: center;\n",
              "  /* unfitted */\n",
              "  border: var(--sklearn-color-unfitted-level-1) 1pt solid;\n",
              "  color: var(--sklearn-color-unfitted-level-1);\n",
              "}\n",
              "\n",
              ".sk-estimator-doc-link.fitted,\n",
              "a:link.sk-estimator-doc-link.fitted,\n",
              "a:visited.sk-estimator-doc-link.fitted {\n",
              "  /* fitted */\n",
              "  border: var(--sklearn-color-fitted-level-1) 1pt solid;\n",
              "  color: var(--sklearn-color-fitted-level-1);\n",
              "}\n",
              "\n",
              "/* On hover */\n",
              "div.sk-estimator:hover .sk-estimator-doc-link:hover,\n",
              ".sk-estimator-doc-link:hover,\n",
              "div.sk-label-container:hover .sk-estimator-doc-link:hover,\n",
              ".sk-estimator-doc-link:hover {\n",
              "  /* unfitted */\n",
              "  background-color: var(--sklearn-color-unfitted-level-3);\n",
              "  color: var(--sklearn-color-background);\n",
              "  text-decoration: none;\n",
              "}\n",
              "\n",
              "div.sk-estimator.fitted:hover .sk-estimator-doc-link.fitted:hover,\n",
              ".sk-estimator-doc-link.fitted:hover,\n",
              "div.sk-label-container:hover .sk-estimator-doc-link.fitted:hover,\n",
              ".sk-estimator-doc-link.fitted:hover {\n",
              "  /* fitted */\n",
              "  background-color: var(--sklearn-color-fitted-level-3);\n",
              "  color: var(--sklearn-color-background);\n",
              "  text-decoration: none;\n",
              "}\n",
              "\n",
              "/* Span, style for the box shown on hovering the info icon */\n",
              ".sk-estimator-doc-link span {\n",
              "  display: none;\n",
              "  z-index: 9999;\n",
              "  position: relative;\n",
              "  font-weight: normal;\n",
              "  right: .2ex;\n",
              "  padding: .5ex;\n",
              "  margin: .5ex;\n",
              "  width: min-content;\n",
              "  min-width: 20ex;\n",
              "  max-width: 50ex;\n",
              "  color: var(--sklearn-color-text);\n",
              "  box-shadow: 2pt 2pt 4pt #999;\n",
              "  /* unfitted */\n",
              "  background: var(--sklearn-color-unfitted-level-0);\n",
              "  border: .5pt solid var(--sklearn-color-unfitted-level-3);\n",
              "}\n",
              "\n",
              ".sk-estimator-doc-link.fitted span {\n",
              "  /* fitted */\n",
              "  background: var(--sklearn-color-fitted-level-0);\n",
              "  border: var(--sklearn-color-fitted-level-3);\n",
              "}\n",
              "\n",
              ".sk-estimator-doc-link:hover span {\n",
              "  display: block;\n",
              "}\n",
              "\n",
              "/* \"?\"-specific style due to the `<a>` HTML tag */\n",
              "\n",
              "#sk-container-id-3 a.estimator_doc_link {\n",
              "  float: right;\n",
              "  font-size: 1rem;\n",
              "  line-height: 1em;\n",
              "  font-family: monospace;\n",
              "  background-color: var(--sklearn-color-background);\n",
              "  border-radius: 1rem;\n",
              "  height: 1rem;\n",
              "  width: 1rem;\n",
              "  text-decoration: none;\n",
              "  /* unfitted */\n",
              "  color: var(--sklearn-color-unfitted-level-1);\n",
              "  border: var(--sklearn-color-unfitted-level-1) 1pt solid;\n",
              "}\n",
              "\n",
              "#sk-container-id-3 a.estimator_doc_link.fitted {\n",
              "  /* fitted */\n",
              "  border: var(--sklearn-color-fitted-level-1) 1pt solid;\n",
              "  color: var(--sklearn-color-fitted-level-1);\n",
              "}\n",
              "\n",
              "/* On hover */\n",
              "#sk-container-id-3 a.estimator_doc_link:hover {\n",
              "  /* unfitted */\n",
              "  background-color: var(--sklearn-color-unfitted-level-3);\n",
              "  color: var(--sklearn-color-background);\n",
              "  text-decoration: none;\n",
              "}\n",
              "\n",
              "#sk-container-id-3 a.estimator_doc_link.fitted:hover {\n",
              "  /* fitted */\n",
              "  background-color: var(--sklearn-color-fitted-level-3);\n",
              "}\n",
              "</style><div id=\"sk-container-id-3\" class=\"sk-top-container\"><div class=\"sk-text-repr-fallback\"><pre>RandomForestClassifier()</pre><b>In a Jupyter environment, please rerun this cell to show the HTML representation or trust the notebook. <br />On GitHub, the HTML representation is unable to render, please try loading this page with nbviewer.org.</b></div><div class=\"sk-container\" hidden><div class=\"sk-item\"><div class=\"sk-estimator fitted sk-toggleable\"><input class=\"sk-toggleable__control sk-hidden--visually\" id=\"sk-estimator-id-3\" type=\"checkbox\" checked><label for=\"sk-estimator-id-3\" class=\"sk-toggleable__label fitted sk-toggleable__label-arrow\"><div><div>RandomForestClassifier</div></div><div><a class=\"sk-estimator-doc-link fitted\" rel=\"noreferrer\" target=\"_blank\" href=\"https://scikit-learn.org/1.6/modules/generated/sklearn.ensemble.RandomForestClassifier.html\">?<span>Documentation for RandomForestClassifier</span></a><span class=\"sk-estimator-doc-link fitted\">i<span>Fitted</span></span></div></label><div class=\"sk-toggleable__content fitted\"><pre>RandomForestClassifier()</pre></div> </div></div></div></div>"
            ]
          },
          "metadata": {},
          "execution_count": 44
        }
      ]
    },
    {
      "cell_type": "code",
      "source": [
        "y_pred_rf=model_rf.predict(x_test)"
      ],
      "metadata": {
        "id": "KsnTgpOrp7Qt"
      },
      "execution_count": null,
      "outputs": []
    },
    {
      "cell_type": "code",
      "source": [
        "accuracy_score(y_pred_rf,y_test)*100"
      ],
      "metadata": {
        "colab": {
          "base_uri": "https://localhost:8080/"
        },
        "id": "qQ3rOJHlp_km",
        "outputId": "ee06092f-3267-4abf-8314-e239d9c3736f"
      },
      "execution_count": null,
      "outputs": [
        {
          "output_type": "execute_result",
          "data": {
            "text/plain": [
              "96.38888888888889"
            ]
          },
          "metadata": {},
          "execution_count": 47
        }
      ]
    },
    {
      "cell_type": "code",
      "source": [
        "# RF -> LR -> DT"
      ],
      "metadata": {
        "id": "-TFsBJLQqCiJ"
      },
      "execution_count": null,
      "outputs": []
    }
  ]
}