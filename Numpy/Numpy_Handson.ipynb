{
  "nbformat": 4,
  "nbformat_minor": 0,
  "metadata": {
    "colab": {
      "provenance": []
    },
    "kernelspec": {
      "name": "python3",
      "display_name": "Python 3"
    },
    "language_info": {
      "name": "python"
    }
  },
  "cells": [
    {
      "cell_type": "markdown",
      "source": [
        "Create a numpy array with numpy.array module and with the data type integer and float."
      ],
      "metadata": {
        "id": "hhmBWaXi_H_8"
      }
    },
    {
      "cell_type": "code",
      "execution_count": null,
      "metadata": {
        "id": "-3KY6w9t9I0d"
      },
      "outputs": [],
      "source": [
        "import numpy as np"
      ]
    },
    {
      "cell_type": "code",
      "source": [
        "arr1=np.array([1,2,3,4,5,6,7.8],dtype='int')\n",
        "print(arr1)\n",
        "print(arr1.dtype)"
      ],
      "metadata": {
        "colab": {
          "base_uri": "https://localhost:8080/"
        },
        "id": "yybjOln0Aimn",
        "outputId": "472c7a42-2034-4eee-e911-8a4eea1d8f39"
      },
      "execution_count": null,
      "outputs": [
        {
          "output_type": "stream",
          "name": "stdout",
          "text": [
            "[1 2 3 4 5 6 7]\n",
            "int64\n"
          ]
        }
      ]
    },
    {
      "cell_type": "code",
      "source": [
        "arr2=np.array([2,4,5,6,3.5],dtype='float')\n",
        "print(arr2)\n",
        "print(arr2.dtype)"
      ],
      "metadata": {
        "colab": {
          "base_uri": "https://localhost:8080/"
        },
        "id": "XwpdFJd5Ar0j",
        "outputId": "b68506eb-b2bc-432d-b799-5a46ed8eda84"
      },
      "execution_count": null,
      "outputs": [
        {
          "output_type": "stream",
          "name": "stdout",
          "text": [
            "[2.  4.  5.  6.  3.5]\n",
            "float64\n"
          ]
        }
      ]
    },
    {
      "cell_type": "markdown",
      "source": [
        "Create numpy arrays that have zero,one,two,three dimensions respectively.Also print the shape and dimension of the numpy arrays created above."
      ],
      "metadata": {
        "id": "Zmzg-gKfA8p1"
      }
    },
    {
      "cell_type": "code",
      "source": [
        "'''The dimensionality of arrays=No of square bracket we used to create'''"
      ],
      "metadata": {
        "id": "ckb21rcwA3o4"
      },
      "execution_count": null,
      "outputs": []
    },
    {
      "cell_type": "code",
      "source": [
        "#0d-use no brackets and pass single value\n",
        "arr=np.array(34)\n",
        "print(arr)\n",
        "\n",
        "#Shape of the array\n",
        "print(arr.shape)\n",
        "\n",
        "#Dimension of the array\n",
        "print(arr.ndim)"
      ],
      "metadata": {
        "colab": {
          "base_uri": "https://localhost:8080/"
        },
        "id": "AOREfWF8DfQu",
        "outputId": "b9fa18df-f4cd-408a-fff8-2d17a2ce68ec"
      },
      "execution_count": null,
      "outputs": [
        {
          "output_type": "stream",
          "name": "stdout",
          "text": [
            "34\n",
            "()\n",
            "0\n"
          ]
        }
      ]
    },
    {
      "cell_type": "code",
      "source": [
        "#1d-use 1 square brackets\n",
        "arr=np.array([1,2,3,4,5])\n",
        "print(arr)\n",
        "\n",
        "print(arr.shape)\n",
        "\n",
        "print(arr.ndim)"
      ],
      "metadata": {
        "colab": {
          "base_uri": "https://localhost:8080/"
        },
        "id": "gmtVezU3DncY",
        "outputId": "7e16b369-582c-4665-a73e-eed4ec7dd877"
      },
      "execution_count": null,
      "outputs": [
        {
          "output_type": "stream",
          "name": "stdout",
          "text": [
            "[1 2 3 4 5]\n",
            "(5,)\n",
            "1\n"
          ]
        }
      ]
    },
    {
      "cell_type": "code",
      "source": [
        "#2d array\n",
        "arr=np.array([[1,2],[3,4]])\n",
        "print(arr)\n",
        "\n",
        "print(arr.shape)\n",
        "\n",
        "print(arr.ndim)"
      ],
      "metadata": {
        "colab": {
          "base_uri": "https://localhost:8080/"
        },
        "id": "-BVTIi1UD4cU",
        "outputId": "d4ae6a39-ba0f-4039-f8a7-7b15551a2f6d"
      },
      "execution_count": null,
      "outputs": [
        {
          "output_type": "stream",
          "name": "stdout",
          "text": [
            "[[1 2]\n",
            " [3 4]]\n",
            "(2, 2)\n",
            "2\n"
          ]
        }
      ]
    },
    {
      "cell_type": "code",
      "source": [
        "#3d array\n",
        "arr=np.array([[[1,2,3],[4,5,6]],[[7,8,9],[10,11,12]]])\n",
        "print(arr)\n",
        "\n",
        "print(arr.shape)"
      ],
      "metadata": {
        "colab": {
          "base_uri": "https://localhost:8080/"
        },
        "id": "nQIH-f7nECot",
        "outputId": "8ac71ddd-7686-4d62-835e-a89589fe2771"
      },
      "execution_count": null,
      "outputs": [
        {
          "output_type": "stream",
          "name": "stdout",
          "text": [
            "[[[ 1  2  3]\n",
            "  [ 4  5  6]]\n",
            "\n",
            " [[ 7  8  9]\n",
            "  [10 11 12]]]\n",
            "(2, 2, 3)\n"
          ]
        }
      ]
    },
    {
      "cell_type": "markdown",
      "source": [
        "Create a 2x3, 3x3, 4x4 identity matrix using numpy."
      ],
      "metadata": {
        "id": "5e2kloRDEv3x"
      }
    },
    {
      "cell_type": "code",
      "source": [
        "#Identity Matrix-All diagonal elements will be 1 and non diagonal elements will be 0\n",
        "arr=np.identity(2)    #2x2\n",
        "print(arr)\n",
        "\n",
        "arr=np.identity(3)     #3x3\n",
        "print(arr)\n",
        "\n",
        "arr=np.identity(4)    #4x4\n",
        "print(arr)"
      ],
      "metadata": {
        "colab": {
          "base_uri": "https://localhost:8080/"
        },
        "id": "SI0UdbroEbZN",
        "outputId": "caf540ed-a039-4996-f8a5-d7dfb189c7c9"
      },
      "execution_count": null,
      "outputs": [
        {
          "output_type": "stream",
          "name": "stdout",
          "text": [
            "[[1. 0.]\n",
            " [0. 1.]]\n",
            "[[1. 0. 0.]\n",
            " [0. 1. 0.]\n",
            " [0. 0. 1.]]\n",
            "[[1. 0. 0. 0.]\n",
            " [0. 1. 0. 0.]\n",
            " [0. 0. 1. 0.]\n",
            " [0. 0. 0. 1.]]\n"
          ]
        }
      ]
    },
    {
      "cell_type": "code",
      "source": [
        "arr=np.eye(2,3)\n",
        "print(arr)"
      ],
      "metadata": {
        "colab": {
          "base_uri": "https://localhost:8080/"
        },
        "id": "FKTOf_z5G7qf",
        "outputId": "598b0308-48d0-4c27-8055-f56dc7c5683b"
      },
      "execution_count": null,
      "outputs": [
        {
          "output_type": "stream",
          "name": "stdout",
          "text": [
            "[[1. 0. 0.]\n",
            " [0. 1. 0.]]\n"
          ]
        }
      ]
    },
    {
      "cell_type": "markdown",
      "source": [
        "Create a numpy array with shape 2x5 that has all the elements as zero."
      ],
      "metadata": {
        "id": "hnjDCW4DID9l"
      }
    },
    {
      "cell_type": "code",
      "source": [
        "arr=np.zeros((2,5))\n",
        "print(arr)"
      ],
      "metadata": {
        "colab": {
          "base_uri": "https://localhost:8080/"
        },
        "id": "mYVHBX1VHXhN",
        "outputId": "000234d5-4af4-4eb1-f40c-b9ec39afeba8"
      },
      "execution_count": null,
      "outputs": [
        {
          "output_type": "stream",
          "name": "stdout",
          "text": [
            "[[0. 0. 0. 0. 0.]\n",
            " [0. 0. 0. 0. 0.]]\n"
          ]
        }
      ]
    },
    {
      "cell_type": "code",
      "source": [
        "arr=np.full((2,5),0)\n",
        "print(arr)"
      ],
      "metadata": {
        "colab": {
          "base_uri": "https://localhost:8080/"
        },
        "id": "yxB3SxBgJWRb",
        "outputId": "36920b3a-f556-42f5-ba7b-ca7c5d216996"
      },
      "execution_count": null,
      "outputs": [
        {
          "output_type": "stream",
          "name": "stdout",
          "text": [
            "[[0 0 0 0 0]\n",
            " [0 0 0 0 0]]\n"
          ]
        }
      ]
    },
    {
      "cell_type": "markdown",
      "source": [
        "Create a numpy array that has shape 3x5 and all the elements are 5."
      ],
      "metadata": {
        "id": "Agevh1UxJjhT"
      }
    },
    {
      "cell_type": "code",
      "source": [
        "arr=np.full((3,5),5)\n",
        "print(arr)"
      ],
      "metadata": {
        "colab": {
          "base_uri": "https://localhost:8080/"
        },
        "id": "BkBZRUbJJgqo",
        "outputId": "58ba0063-0407-40d0-a86b-f240774b0c6f"
      },
      "execution_count": null,
      "outputs": [
        {
          "output_type": "stream",
          "name": "stdout",
          "text": [
            "[[5 5 5 5 5]\n",
            " [5 5 5 5 5]\n",
            " [5 5 5 5 5]]\n"
          ]
        }
      ]
    },
    {
      "cell_type": "code",
      "source": [
        "arr=np.ones((3,5),dtype='int')*5\n",
        "print(arr)"
      ],
      "metadata": {
        "colab": {
          "base_uri": "https://localhost:8080/"
        },
        "id": "2Bzz12USJ4hE",
        "outputId": "380a8b16-d7af-441c-d801-c6391a06f1ba"
      },
      "execution_count": null,
      "outputs": [
        {
          "output_type": "stream",
          "name": "stdout",
          "text": [
            "[[5 5 5 5 5]\n",
            " [5 5 5 5 5]\n",
            " [5 5 5 5 5]]\n"
          ]
        }
      ]
    },
    {
      "cell_type": "markdown",
      "source": [
        "Create a numpy array with random integers in the range 0-100 and the size should be 25."
      ],
      "metadata": {
        "id": "tyq3zwyHKnCi"
      }
    },
    {
      "cell_type": "code",
      "source": [
        "arr=np.random.randint(0,101,size=25)\n",
        "print(arr)"
      ],
      "metadata": {
        "colab": {
          "base_uri": "https://localhost:8080/"
        },
        "id": "lhXOdsmcKX1_",
        "outputId": "90e5160f-90ea-4a5a-84fa-65a2144278bb"
      },
      "execution_count": null,
      "outputs": [
        {
          "output_type": "stream",
          "name": "stdout",
          "text": [
            "[ 53  95  86   5  35  93  72  75  74  22   2  90  20  25  87  14  33  33\n",
            "  47  99  34  73   0  23 100]\n"
          ]
        }
      ]
    },
    {
      "cell_type": "markdown",
      "source": [
        "Create a numpy array in the shape 2x3 with random integers in the range 0-100.Reshape the array in the shape 3x2 and print the updated shape of the resultant array."
      ],
      "metadata": {
        "id": "rV9b3UKCNr92"
      }
    },
    {
      "cell_type": "code",
      "source": [
        "arr=np.random.randint(0,101,size=(2,3))\n",
        "print(arr)\n",
        "print(arr.shape)   #2 rows and 3 columns\n",
        "newarr=arr.reshape(3,2,order='c')  #c means row wise filling and f means column wise filling\n",
        "print(newarr)\n",
        "print(newarr.shape) #3 rows and 2 columns"
      ],
      "metadata": {
        "colab": {
          "base_uri": "https://localhost:8080/"
        },
        "id": "e42ECORBNEZv",
        "outputId": "0b42d2e3-8dcd-469f-f278-a687e3433d50"
      },
      "execution_count": null,
      "outputs": [
        {
          "output_type": "stream",
          "name": "stdout",
          "text": [
            "[[31  3  6]\n",
            " [ 2 38 26]]\n",
            "(2, 3)\n",
            "[[31  3]\n",
            " [ 6  2]\n",
            " [38 26]]\n",
            "(3, 2)\n"
          ]
        }
      ]
    },
    {
      "cell_type": "code",
      "source": [],
      "metadata": {
        "id": "HDOz23ViQBhL"
      },
      "execution_count": null,
      "outputs": []
    }
  ]
}