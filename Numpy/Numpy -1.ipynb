{
 "cells": [
  {
   "cell_type": "code",
   "execution_count": 8,
   "id": "d9636f74-88cc-4571-a0c8-1384a0b2da21",
   "metadata": {},
   "outputs": [
    {
     "name": "stdout",
     "output_type": "stream",
     "text": [
      "The history saving thread hit an unexpected error (OperationalError('attempt to write a readonly database')).History will not be written to the database.\n"
     ]
    }
   ],
   "source": [
    "import numpy # if this line runs without any error --> numpy is already available"
   ]
  },
  {
   "cell_type": "code",
   "execution_count": 9,
   "id": "291311e4-ee8f-4ab8-ab67-38331a802090",
   "metadata": {},
   "outputs": [
    {
     "ename": "ModuleNotFoundError",
     "evalue": "No module named 'xyz'",
     "output_type": "error",
     "traceback": [
      "\u001b[0;31m---------------------------------------------------------------------------\u001b[0m",
      "\u001b[0;31mModuleNotFoundError\u001b[0m                       Traceback (most recent call last)",
      "Cell \u001b[0;32mIn[9], line 1\u001b[0m\n\u001b[0;32m----> 1\u001b[0m \u001b[38;5;28;01mimport\u001b[39;00m \u001b[38;5;21;01mxyz\u001b[39;00m\n",
      "\u001b[0;31mModuleNotFoundError\u001b[0m: No module named 'xyz'"
     ]
    }
   ],
   "source": [
    "import xyz # there is no package called xyz so it will always throw error"
   ]
  },
  {
   "cell_type": "code",
   "execution_count": 10,
   "id": "9be1a5e9-5997-4ccb-a2d7-6c72cbe68f7a",
   "metadata": {},
   "outputs": [
    {
     "ename": "ModuleNotFoundError",
     "evalue": "No module named 'Numpy'",
     "output_type": "error",
     "traceback": [
      "\u001b[0;31m---------------------------------------------------------------------------\u001b[0m",
      "\u001b[0;31mModuleNotFoundError\u001b[0m                       Traceback (most recent call last)",
      "Cell \u001b[0;32mIn[10], line 1\u001b[0m\n\u001b[0;32m----> 1\u001b[0m \u001b[38;5;28;01mimport\u001b[39;00m \u001b[38;5;21;01mNumpy\u001b[39;00m\n",
      "\u001b[0;31mModuleNotFoundError\u001b[0m: No module named 'Numpy'"
     ]
    }
   ],
   "source": [
    "import Numpy"
   ]
  },
  {
   "cell_type": "code",
   "execution_count": 11,
   "id": "0c5c0ffa-26b8-4dfb-a7b7-4f919ef90ee3",
   "metadata": {},
   "outputs": [
    {
     "ename": "ModuleNotFoundError",
     "evalue": "No module named 'nummpy'",
     "output_type": "error",
     "traceback": [
      "\u001b[0;31m---------------------------------------------------------------------------\u001b[0m",
      "\u001b[0;31mModuleNotFoundError\u001b[0m                       Traceback (most recent call last)",
      "Cell \u001b[0;32mIn[11], line 1\u001b[0m\n\u001b[0;32m----> 1\u001b[0m \u001b[38;5;28;01mimport\u001b[39;00m \u001b[38;5;21;01mnummpy\u001b[39;00m\n",
      "\u001b[0;31mModuleNotFoundError\u001b[0m: No module named 'nummpy'"
     ]
    }
   ],
   "source": [
    "import nummpy"
   ]
  },
  {
   "cell_type": "code",
   "execution_count": 12,
   "id": "69ddc944-52fd-4738-88d7-fe829df69d5d",
   "metadata": {},
   "outputs": [
    {
     "ename": "SyntaxError",
     "evalue": "invalid syntax (3571142353.py, line 1)",
     "output_type": "error",
     "traceback": [
      "\u001b[0;36m  Cell \u001b[0;32mIn[12], line 1\u001b[0;36m\u001b[0m\n\u001b[0;31m    ModuleNotFoundError:\u001b[0m\n\u001b[0m                         ^\u001b[0m\n\u001b[0;31mSyntaxError\u001b[0m\u001b[0;31m:\u001b[0m invalid syntax\n"
     ]
    }
   ],
   "source": [
    "ModuleNotFoundError: \n",
    "1. Case sensitive \n",
    "2. Spelling \n",
    "3. Install that module from pypi website"
   ]
  },
  {
   "cell_type": "code",
   "execution_count": 13,
   "id": "eda16949-d6fe-4808-bd6c-2563b62aeacf",
   "metadata": {},
   "outputs": [],
   "source": [
    "# use this command pip install <package_name> from pypi website whenever you face modulenot found error"
   ]
  },
  {
   "cell_type": "code",
   "execution_count": 14,
   "id": "c48a41e4-79b9-4f3f-9d68-002eaeee8a56",
   "metadata": {},
   "outputs": [],
   "source": [
    "# !pip install numpy # requirement already satisfied( because numpy is already installed)\n",
    "# when you use ! mark --> it opens terminal and executes your code"
   ]
  },
  {
   "cell_type": "code",
   "execution_count": null,
   "id": "efe52e70-fb55-45cd-ba51-ec4f0d9d4134",
   "metadata": {},
   "outputs": [],
   "source": []
  },
  {
   "cell_type": "markdown",
   "id": "929ade60-c281-4fd5-871b-163ef2db8dce",
   "metadata": {},
   "source": [
    "#### Creation of Array"
   ]
  },
  {
   "cell_type": "code",
   "execution_count": null,
   "id": "4836c3e9-14a2-4907-9527-ead6c4581c46",
   "metadata": {},
   "outputs": [],
   "source": [
    "# arrays are not default in python \n",
    "# we use list / tuple and convert them into an array"
   ]
  },
  {
   "cell_type": "code",
   "execution_count": 15,
   "id": "f0193a9d-4454-40f0-800b-ebd26eb4e745",
   "metadata": {},
   "outputs": [
    {
     "data": {
      "text/plain": [
       "array([1, 2, 3, 4, 5])"
      ]
     },
     "execution_count": 15,
     "metadata": {},
     "output_type": "execute_result"
    }
   ],
   "source": [
    "import numpy\n",
    "ar1 = numpy.array([1,2,3,4,5])\n",
    "ar1"
   ]
  },
  {
   "cell_type": "code",
   "execution_count": 16,
   "id": "6d4111bc-e7a7-48b8-9ced-7cfb2770d246",
   "metadata": {},
   "outputs": [
    {
     "data": {
      "text/plain": [
       "numpy.ndarray"
      ]
     },
     "execution_count": 16,
     "metadata": {},
     "output_type": "execute_result"
    }
   ],
   "source": [
    "type(ar1)"
   ]
  },
  {
   "cell_type": "code",
   "execution_count": 17,
   "id": "207a3dd7-365a-4a6d-a33b-345bebe0f2b7",
   "metadata": {},
   "outputs": [
    {
     "data": {
      "text/plain": [
       "[1, 1.2, 'python']"
      ]
     },
     "execution_count": 17,
     "metadata": {},
     "output_type": "execute_result"
    }
   ],
   "source": [
    "list1 = [1,1.2,'python']\n",
    "list1"
   ]
  },
  {
   "cell_type": "code",
   "execution_count": null,
   "id": "47d1b5fb-ce52-4a4c-aaea-58ccf5855e1c",
   "metadata": {},
   "outputs": [],
   "source": []
  },
  {
   "cell_type": "code",
   "execution_count": null,
   "id": "c990f251-c5b5-451c-b491-1f20f74252ac",
   "metadata": {},
   "outputs": [],
   "source": []
  },
  {
   "cell_type": "code",
   "execution_count": 18,
   "id": "d5aeb130-c9af-45b5-98d1-e93564d3792f",
   "metadata": {},
   "outputs": [
    {
     "data": {
      "text/plain": [
       "array(['1', '1.2', 'python'], dtype='<U32')"
      ]
     },
     "execution_count": 18,
     "metadata": {},
     "output_type": "execute_result"
    }
   ],
   "source": [
    "ar2 = numpy.array([1,1.2,'python'])\n",
    "ar2"
   ]
  },
  {
   "cell_type": "code",
   "execution_count": null,
   "id": "7740758a-4bdd-4026-a148-505c648923cc",
   "metadata": {},
   "outputs": [],
   "source": [
    "# bool --> int --> float --> complex --> string\n",
    "# if you have 1 string value in array entire array will be converted into strings "
   ]
  },
  {
   "cell_type": "code",
   "execution_count": 19,
   "id": "d1048bb0-ab58-4ee1-91d4-c1c058777cbc",
   "metadata": {},
   "outputs": [
    {
     "data": {
      "text/plain": [
       "[100, 400, 900, 1600, 2500]"
      ]
     },
     "execution_count": 19,
     "metadata": {},
     "output_type": "execute_result"
    }
   ],
   "source": [
    "list1 = [10,20,30,40,50]\n",
    "[i**2 for i in list1]"
   ]
  },
  {
   "cell_type": "code",
   "execution_count": 20,
   "id": "166073d2-6172-4b0c-a978-578abc16a2b1",
   "metadata": {},
   "outputs": [
    {
     "data": {
      "text/plain": [
       "array([1, 2, 3, 4, 5])"
      ]
     },
     "execution_count": 20,
     "metadata": {},
     "output_type": "execute_result"
    }
   ],
   "source": [
    "ar1"
   ]
  },
  {
   "cell_type": "code",
   "execution_count": 21,
   "id": "64c9798b-314c-437e-a9dd-c5eeade39245",
   "metadata": {},
   "outputs": [
    {
     "data": {
      "text/plain": [
       "array([ 1,  4,  9, 16, 25])"
      ]
     },
     "execution_count": 21,
     "metadata": {},
     "output_type": "execute_result"
    }
   ],
   "source": [
    "ar1**2"
   ]
  },
  {
   "cell_type": "code",
   "execution_count": null,
   "id": "57e51268-64f0-40eb-9eac-fa2b3e1b8f0b",
   "metadata": {},
   "outputs": [],
   "source": []
  }
 ],
 "metadata": {
  "kernelspec": {
   "display_name": "Python 3 (ipykernel)",
   "language": "python",
   "name": "python3"
  },
  "language_info": {
   "codemirror_mode": {
    "name": "ipython",
    "version": 3
   },
   "file_extension": ".py",
   "mimetype": "text/x-python",
   "name": "python",
   "nbconvert_exporter": "python",
   "pygments_lexer": "ipython3",
   "version": "3.12.7"
  }
 },
 "nbformat": 4,
 "nbformat_minor": 5
}
