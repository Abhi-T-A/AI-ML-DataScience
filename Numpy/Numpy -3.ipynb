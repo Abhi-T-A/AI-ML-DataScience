{
 "cells": [
  {
   "cell_type": "code",
   "execution_count": 1,
   "id": "7aedaffc-e9f8-45f3-8b14-37b547c23a39",
   "metadata": {},
   "outputs": [],
   "source": [
    "import numpy as np"
   ]
  },
  {
   "cell_type": "code",
   "execution_count": 2,
   "id": "3c7130bc-e22e-4c99-ace8-d2943d7aebad",
   "metadata": {},
   "outputs": [
    {
     "data": {
      "text/plain": [
       "array([[10, 20],\n",
       "       [30, 40]])"
      ]
     },
     "execution_count": 2,
     "metadata": {},
     "output_type": "execute_result"
    }
   ],
   "source": [
    "ar1 = np.array([[10,20],[30,40]])\n",
    "ar1"
   ]
  },
  {
   "cell_type": "code",
   "execution_count": 3,
   "id": "885e76fa-7f5d-4d4a-a439-ef940c750b22",
   "metadata": {},
   "outputs": [
    {
     "data": {
      "text/plain": [
       "100"
      ]
     },
     "execution_count": 3,
     "metadata": {},
     "output_type": "execute_result"
    }
   ],
   "source": [
    "np.sum(ar1)"
   ]
  },
  {
   "cell_type": "code",
   "execution_count": 4,
   "id": "dec2ff61-7136-463a-a926-97d3b0bddc7d",
   "metadata": {},
   "outputs": [
    {
     "data": {
      "text/plain": [
       "array([40, 60])"
      ]
     },
     "execution_count": 4,
     "metadata": {},
     "output_type": "execute_result"
    }
   ],
   "source": [
    "np.sum(ar1, axis = 0) # axis = 0 ; perform sum operation on rows # calculate row sum"
   ]
  },
  {
   "cell_type": "code",
   "execution_count": 5,
   "id": "aef4be0e-4aaf-441e-bae2-bc8d1528095a",
   "metadata": {},
   "outputs": [
    {
     "data": {
      "text/plain": [
       "array([30, 70])"
      ]
     },
     "execution_count": 5,
     "metadata": {},
     "output_type": "execute_result"
    }
   ],
   "source": [
    "np.sum(ar1, axis = 1) # axis =1; calculate column sum"
   ]
  },
  {
   "cell_type": "code",
   "execution_count": null,
   "id": "49190d25-8de1-43e6-a9fc-ff582690029a",
   "metadata": {},
   "outputs": [],
   "source": [
    "# axis parameter exist only in sum function "
   ]
  },
  {
   "cell_type": "code",
   "execution_count": 7,
   "id": "8f2148e7-4b02-43eb-ae2f-e68bf3b3d9fd",
   "metadata": {},
   "outputs": [
    {
     "name": "stdout",
     "output_type": "stream",
     "text": [
      "10\n",
      "200\n",
      "2.0\n",
      "2.995732273553991\n",
      "485165195.4097903\n",
      "4.47213595499958\n",
      "0.9129452507276277\n"
     ]
    }
   ],
   "source": [
    "print(np.subtract(20,10))\n",
    "print(np.multiply(20,10))\n",
    "print(np.divide(20,10))\n",
    "print(np.log(20))\n",
    "print(np.exp(20)) # exponential \n",
    "print(np.sqrt(20)) # square root\n",
    "print(np.sin(20)) "
   ]
  },
  {
   "cell_type": "code",
   "execution_count": null,
   "id": "7ba29608-fdb0-48a8-8ae8-c610506c0395",
   "metadata": {},
   "outputs": [],
   "source": []
  },
  {
   "cell_type": "code",
   "execution_count": 10,
   "id": "5176cb23-851b-4530-86d1-607c85a9e114",
   "metadata": {},
   "outputs": [],
   "source": [
    "# slicing"
   ]
  },
  {
   "cell_type": "code",
   "execution_count": null,
   "id": "b88961ca-3c11-400d-abcf-9efec6ddae43",
   "metadata": {},
   "outputs": [],
   "source": [
    "# 1. Index will always start from zero\n",
    "# 2. End value is not included"
   ]
  },
  {
   "cell_type": "code",
   "execution_count": 12,
   "id": "ba53b87a-83bf-4322-ab4c-095dffd4c847",
   "metadata": {},
   "outputs": [
    {
     "data": {
      "text/plain": [
       "[20, 30, 40]"
      ]
     },
     "execution_count": 12,
     "metadata": {},
     "output_type": "execute_result"
    }
   ],
   "source": [
    "list1 = [10,20,30,40,50]# 20,30,40 \n",
    "list1[1:4] # [start : end-1]"
   ]
  },
  {
   "cell_type": "code",
   "execution_count": 21,
   "id": "8e12c425-a519-4977-9376-103d34cd1bde",
   "metadata": {},
   "outputs": [
    {
     "data": {
      "text/plain": [
       "[20, 30, 40, 50]"
      ]
     },
     "execution_count": 21,
     "metadata": {},
     "output_type": "execute_result"
    }
   ],
   "source": [
    "# if i want to extract 20,30,40,50\n",
    "list1[1:5] # "
   ]
  },
  {
   "cell_type": "code",
   "execution_count": 22,
   "id": "a25c97e6-1856-4240-9764-bbd97848aaab",
   "metadata": {},
   "outputs": [
    {
     "data": {
      "text/plain": [
       "[20, 30, 40, 50]"
      ]
     },
     "execution_count": 22,
     "metadata": {},
     "output_type": "execute_result"
    }
   ],
   "source": [
    "list1[1:] # if end is not mentioned python will execute till end/last / available"
   ]
  },
  {
   "cell_type": "code",
   "execution_count": 24,
   "id": "97cc78c2-14c0-4f86-b5ed-0eed0b3352ea",
   "metadata": {},
   "outputs": [
    {
     "data": {
      "text/plain": [
       "[10, 20, 30]"
      ]
     },
     "execution_count": 24,
     "metadata": {},
     "output_type": "execute_result"
    }
   ],
   "source": [
    "# if i want to extract 10,20,30\n",
    "list1[0:3]"
   ]
  },
  {
   "cell_type": "code",
   "execution_count": 25,
   "id": "cfdcbbde-e536-4ca5-8d58-d52614ec773d",
   "metadata": {},
   "outputs": [
    {
     "data": {
      "text/plain": [
       "[10, 20, 30]"
      ]
     },
     "execution_count": 25,
     "metadata": {},
     "output_type": "execute_result"
    }
   ],
   "source": [
    "list1[:3] # if start is not mentioned python will execute it as 0"
   ]
  },
  {
   "cell_type": "code",
   "execution_count": 15,
   "id": "eed163e0-8f88-44b0-9c48-dcdc0f189024",
   "metadata": {},
   "outputs": [
    {
     "data": {
      "text/plain": [
       "array([20, 30, 40])"
      ]
     },
     "execution_count": 15,
     "metadata": {},
     "output_type": "execute_result"
    }
   ],
   "source": [
    "ar1 = np.array([10,20,30,40,50])\n",
    "ar1[1:4]"
   ]
  },
  {
   "cell_type": "code",
   "execution_count": 16,
   "id": "c77157f2-14f1-4aa3-9309-9490c5ff8ba2",
   "metadata": {},
   "outputs": [
    {
     "data": {
      "text/plain": [
       "array([[ 1,  2,  3,  4],\n",
       "       [ 5,  6,  7,  8],\n",
       "       [ 9, 10, 11, 12],\n",
       "       [13, 14, 15, 16],\n",
       "       [17, 18, 19, 20],\n",
       "       [21, 22, 23, 24]])"
      ]
     },
     "execution_count": 16,
     "metadata": {},
     "output_type": "execute_result"
    }
   ],
   "source": [
    "ar1 = np.arange(1,25).reshape(6,4)\n",
    "ar1"
   ]
  },
  {
   "cell_type": "code",
   "execution_count": 17,
   "id": "8a9b9950-538a-45a6-8b66-b19bd8d82ba7",
   "metadata": {},
   "outputs": [
    {
     "data": {
      "text/plain": [
       "array([[10, 11],\n",
       "       [14, 15]])"
      ]
     },
     "execution_count": 17,
     "metadata": {},
     "output_type": "execute_result"
    }
   ],
   "source": [
    "ar1[2:4,1:3] # 2:4 : 2,3 ( end is excluded )\n",
    "             # 1:3 : 1,2 ( end is excluded )"
   ]
  },
  {
   "cell_type": "code",
   "execution_count": 19,
   "id": "068c4623-3353-4ccf-ba02-31d4021ccc52",
   "metadata": {},
   "outputs": [
    {
     "data": {
      "text/plain": [
       "array([[ 9, 10, 11, 12],\n",
       "       [13, 14, 15, 16],\n",
       "       [17, 18, 19, 20],\n",
       "       [21, 22, 23, 24]])"
      ]
     },
     "execution_count": 19,
     "metadata": {},
     "output_type": "execute_result"
    }
   ],
   "source": [
    "ar1[2:6,0:4]"
   ]
  },
  {
   "cell_type": "code",
   "execution_count": 23,
   "id": "55a1b5ca-ecee-42c6-801f-151ee6c06bfc",
   "metadata": {},
   "outputs": [
    {
     "data": {
      "text/plain": [
       "array([[ 9, 10, 11, 12],\n",
       "       [13, 14, 15, 16],\n",
       "       [17, 18, 19, 20],\n",
       "       [21, 22, 23, 24]])"
      ]
     },
     "execution_count": 23,
     "metadata": {},
     "output_type": "execute_result"
    }
   ],
   "source": [
    "ar1[2:,0:]"
   ]
  },
  {
   "cell_type": "code",
   "execution_count": 26,
   "id": "dd7a3d68-8b95-4e58-aa7b-363e8629eb42",
   "metadata": {},
   "outputs": [
    {
     "data": {
      "text/plain": [
       "array([[ 9, 10, 11, 12],\n",
       "       [13, 14, 15, 16],\n",
       "       [17, 18, 19, 20],\n",
       "       [21, 22, 23, 24]])"
      ]
     },
     "execution_count": 26,
     "metadata": {},
     "output_type": "execute_result"
    }
   ],
   "source": [
    "ar1[2:,:]"
   ]
  },
  {
   "cell_type": "code",
   "execution_count": 27,
   "id": "3efacdaf-6fc6-444e-af3b-47e796b03eb6",
   "metadata": {},
   "outputs": [
    {
     "data": {
      "text/plain": [
       "array([[ 9, 10, 11, 12],\n",
       "       [13, 14, 15, 16],\n",
       "       [17, 18, 19, 20],\n",
       "       [21, 22, 23, 24]])"
      ]
     },
     "execution_count": 27,
     "metadata": {},
     "output_type": "execute_result"
    }
   ],
   "source": [
    "# if you want to take partition in rows with all the columns\n",
    "ar1[2:]"
   ]
  },
  {
   "cell_type": "code",
   "execution_count": 28,
   "id": "8a3dbe7f-c3bb-4a96-bf47-4eee000a70f8",
   "metadata": {},
   "outputs": [
    {
     "data": {
      "text/plain": [
       "array([[ 2,  3],\n",
       "       [ 6,  7],\n",
       "       [10, 11],\n",
       "       [14, 15],\n",
       "       [18, 19],\n",
       "       [22, 23]])"
      ]
     },
     "execution_count": 28,
     "metadata": {},
     "output_type": "execute_result"
    }
   ],
   "source": [
    "# if you want to take few columns and all the rows\n",
    "ar1[:,1:3]"
   ]
  },
  {
   "cell_type": "code",
   "execution_count": 29,
   "id": "226a3587-9920-4534-a9eb-a00f3a82729b",
   "metadata": {},
   "outputs": [],
   "source": [
    "# array manipulation"
   ]
  },
  {
   "cell_type": "code",
   "execution_count": 34,
   "id": "ab69005c-1aae-46cd-a224-10e0ef6d821d",
   "metadata": {},
   "outputs": [
    {
     "data": {
      "text/plain": [
       "array([[10, 20],\n",
       "       [30, 40]])"
      ]
     },
     "execution_count": 34,
     "metadata": {},
     "output_type": "execute_result"
    }
   ],
   "source": [
    "ar1 = np.array([[10,20],[30,40]])\n",
    "ar2 = np.array([[50,60],[70,80]])\n",
    "\n",
    "ar1 # 2 rows and 2 columns"
   ]
  },
  {
   "cell_type": "code",
   "execution_count": 35,
   "id": "5a43170d-2a91-466c-aa69-ed1292474631",
   "metadata": {},
   "outputs": [
    {
     "data": {
      "text/plain": [
       "array([[10, 20],\n",
       "       [30, 40],\n",
       "       [50, 60],\n",
       "       [70, 80]])"
      ]
     },
     "execution_count": 35,
     "metadata": {},
     "output_type": "execute_result"
    }
   ],
   "source": [
    "np.concatenate([ar1,ar2], axis = 0) # apply function at rows"
   ]
  },
  {
   "cell_type": "code",
   "execution_count": null,
   "id": "17ed7334-5fb6-4330-a73a-3f2a6a0feeff",
   "metadata": {},
   "outputs": [],
   "source": []
  },
  {
   "cell_type": "code",
   "execution_count": 38,
   "id": "446a6b2c-8c6b-4a4b-9bd2-8a06cff33dfb",
   "metadata": {},
   "outputs": [
    {
     "data": {
      "text/plain": [
       "array([[10, 20],\n",
       "       [30, 40],\n",
       "       [50, 60],\n",
       "       [70, 80]])"
      ]
     },
     "execution_count": 38,
     "metadata": {},
     "output_type": "execute_result"
    }
   ],
   "source": [
    "np.row_stack([ar1,ar2])"
   ]
  },
  {
   "cell_type": "code",
   "execution_count": 39,
   "id": "3eba4267-fe55-429c-b8b9-8ebc86d299bf",
   "metadata": {},
   "outputs": [
    {
     "data": {
      "text/plain": [
       "array([[10, 20],\n",
       "       [30, 40],\n",
       "       [50, 60],\n",
       "       [70, 80]])"
      ]
     },
     "execution_count": 39,
     "metadata": {},
     "output_type": "execute_result"
    }
   ],
   "source": [
    "np.vstack([ar1,ar2])"
   ]
  },
  {
   "cell_type": "code",
   "execution_count": 37,
   "id": "cd542fb0-cf93-4c57-9a54-303ee65aaa0a",
   "metadata": {},
   "outputs": [
    {
     "data": {
      "text/plain": [
       "array([[10, 20, 50, 60],\n",
       "       [30, 40, 70, 80]])"
      ]
     },
     "execution_count": 37,
     "metadata": {},
     "output_type": "execute_result"
    }
   ],
   "source": [
    "np.concatenate([ar1,ar2], axis = 1) # apply function at columns"
   ]
  },
  {
   "cell_type": "code",
   "execution_count": 40,
   "id": "79d1bc2a-43fa-491e-8f15-631544302b2e",
   "metadata": {},
   "outputs": [
    {
     "data": {
      "text/plain": [
       "array([[10, 20, 50, 60],\n",
       "       [30, 40, 70, 80]])"
      ]
     },
     "execution_count": 40,
     "metadata": {},
     "output_type": "execute_result"
    }
   ],
   "source": [
    "np.column_stack([ar1,ar2])"
   ]
  },
  {
   "cell_type": "code",
   "execution_count": 41,
   "id": "5f567135-0b01-4da4-9fd2-18aee3fb2412",
   "metadata": {},
   "outputs": [
    {
     "data": {
      "text/plain": [
       "array([[10, 20, 50, 60],\n",
       "       [30, 40, 70, 80]])"
      ]
     },
     "execution_count": 41,
     "metadata": {},
     "output_type": "execute_result"
    }
   ],
   "source": [
    "np.hstack([ar1,ar2])"
   ]
  },
  {
   "cell_type": "code",
   "execution_count": 44,
   "id": "1448cf80-c737-48a8-9472-079650bd6b89",
   "metadata": {},
   "outputs": [
    {
     "data": {
      "text/plain": [
       "array([[10, 20, 50, 60, 10, 20],\n",
       "       [30, 40, 70, 80, 30, 40]])"
      ]
     },
     "execution_count": 44,
     "metadata": {},
     "output_type": "execute_result"
    }
   ],
   "source": [
    "ar3 = np.hstack([ar1,ar2,ar1])\n",
    "ar3"
   ]
  },
  {
   "cell_type": "code",
   "execution_count": 45,
   "id": "22cf35dc-f017-4f7e-aa12-087d18824ff4",
   "metadata": {},
   "outputs": [
    {
     "data": {
      "text/plain": [
       "[array([[10, 20],\n",
       "        [30, 40]]),\n",
       " array([[50, 60],\n",
       "        [70, 80]]),\n",
       " array([[10, 20],\n",
       "        [30, 40]])]"
      ]
     },
     "execution_count": 45,
     "metadata": {},
     "output_type": "execute_result"
    }
   ],
   "source": [
    "np.hsplit(ar3,3) # split array into 3 equal portions"
   ]
  },
  {
   "cell_type": "code",
   "execution_count": null,
   "id": "0e048b3d-d54c-49bd-b537-bc78758b8d05",
   "metadata": {},
   "outputs": [],
   "source": []
  },
  {
   "cell_type": "code",
   "execution_count": null,
   "id": "f783d38c-6154-4686-80fd-6564b8737a62",
   "metadata": {},
   "outputs": [],
   "source": []
  }
 ],
 "metadata": {
  "kernelspec": {
   "display_name": "Python 3 (ipykernel)",
   "language": "python",
   "name": "python3"
  },
  "language_info": {
   "codemirror_mode": {
    "name": "ipython",
    "version": 3
   },
   "file_extension": ".py",
   "mimetype": "text/x-python",
   "name": "python",
   "nbconvert_exporter": "python",
   "pygments_lexer": "ipython3",
   "version": "3.12.7"
  }
 },
 "nbformat": 4,
 "nbformat_minor": 5
}
