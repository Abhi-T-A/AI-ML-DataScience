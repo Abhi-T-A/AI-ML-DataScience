{
 "cells": [
  {
   "cell_type": "code",
   "execution_count": 1,
   "id": "192cf3a2-f36c-42a7-91d4-670343ae27a8",
   "metadata": {},
   "outputs": [
    {
     "data": {
      "text/plain": [
       "array([1, 2, 3, 4, 5])"
      ]
     },
     "execution_count": 1,
     "metadata": {},
     "output_type": "execute_result"
    }
   ],
   "source": [
    "import numpy \n",
    "ar1 = numpy.array([1,2,3,4,5]) # list/tuple \n",
    "ar1"
   ]
  },
  {
   "cell_type": "code",
   "execution_count": 2,
   "id": "95564766-d07a-463d-89f8-8725b83fcf79",
   "metadata": {},
   "outputs": [
    {
     "data": {
      "text/plain": [
       "array([1, 2, 3, 4, 5])"
      ]
     },
     "execution_count": 2,
     "metadata": {},
     "output_type": "execute_result"
    }
   ],
   "source": [
    "import numpy as np # alias name \n",
    "ar1 = np.array([1,2,3,4,5])\n",
    "ar1"
   ]
  },
  {
   "cell_type": "code",
   "execution_count": 3,
   "id": "dfb402bf-ae1d-4ec9-805f-d7b59f3d5032",
   "metadata": {},
   "outputs": [
    {
     "data": {
      "text/plain": [
       "array([[0., 0., 0., 0.],\n",
       "       [0., 0., 0., 0.],\n",
       "       [0., 0., 0., 0.]])"
      ]
     },
     "execution_count": 3,
     "metadata": {},
     "output_type": "execute_result"
    }
   ],
   "source": [
    "np.zeros([3,4]) # 1 parameter --> [3,4] --> shape --> no of rows and columns\n",
    "# create an array with 3 rows and 4 columns and fill the array with zeros"
   ]
  },
  {
   "cell_type": "code",
   "execution_count": 8,
   "id": "172bd1cf-2b75-4d53-8c78-4b811afd099b",
   "metadata": {},
   "outputs": [
    {
     "data": {
      "text/plain": [
       "array([[0.25393748, 0.68920361, 0.14766371, 0.3946416 ],\n",
       "       [0.17349261, 0.30413606, 0.63571417, 0.49299459],\n",
       "       [0.82731675, 0.46492826, 0.91898179, 0.77760488]])"
      ]
     },
     "execution_count": 8,
     "metadata": {},
     "output_type": "execute_result"
    }
   ],
   "source": [
    "np.random.random([3,4]) # shape parameter\n",
    "# create a random array between 0 to 1"
   ]
  },
  {
   "cell_type": "code",
   "execution_count": 15,
   "id": "e9dd2505-e376-4904-89e4-1f1f569c6373",
   "metadata": {},
   "outputs": [
    {
     "name": "stdout",
     "output_type": "stream",
     "text": [
      "Help on built-in function random:\n",
      "\n",
      "random(...) method of numpy.random.mtrand.RandomState instance\n",
      "    random(size=None)\n",
      "\n",
      "    Return random floats in the half-open interval [0.0, 1.0). Alias for\n",
      "    `random_sample` to ease forward-porting to the new random API.\n",
      "\n"
     ]
    }
   ],
   "source": [
    "help(np.random.random)"
   ]
  },
  {
   "cell_type": "markdown",
   "id": "9822580f-a91f-4a32-8271-df9fce5605a1",
   "metadata": {},
   "source": [
    "#### Initiating an array"
   ]
  },
  {
   "cell_type": "code",
   "execution_count": 16,
   "id": "e128a6bf-a014-4c36-9116-f639e8bd934a",
   "metadata": {},
   "outputs": [
    {
     "data": {
      "text/plain": [
       "array([[10, 10, 10, 10],\n",
       "       [10, 10, 10, 10],\n",
       "       [10, 10, 10, 10]])"
      ]
     },
     "execution_count": 16,
     "metadata": {},
     "output_type": "execute_result"
    }
   ],
   "source": [
    "np.full([3,4], 10) # 2 parameters (shape,value)\n",
    "# create an array with 3 rows and 4 columns and fill the array with value 10"
   ]
  },
  {
   "cell_type": "code",
   "execution_count": 17,
   "id": "c1f7e43c-ff73-4f7f-b84c-1e66647f151f",
   "metadata": {},
   "outputs": [
    {
     "data": {
      "text/plain": [
       "array([['a', 'a'],\n",
       "       ['a', 'a']], dtype='<U1')"
      ]
     },
     "execution_count": 17,
     "metadata": {},
     "output_type": "execute_result"
    }
   ],
   "source": [
    "np.full([2,2], 'a') # u1 is representig strings "
   ]
  },
  {
   "cell_type": "code",
   "execution_count": 18,
   "id": "96e8ae97-3adc-44e3-97a3-47eb06fbbe9c",
   "metadata": {},
   "outputs": [
    {
     "data": {
      "text/plain": [
       "range(1, 5)"
      ]
     },
     "execution_count": 18,
     "metadata": {},
     "output_type": "execute_result"
    }
   ],
   "source": [
    "range(1,5)"
   ]
  },
  {
   "cell_type": "code",
   "execution_count": 19,
   "id": "4d603277-3328-477b-8e7a-91834fd6e02b",
   "metadata": {},
   "outputs": [
    {
     "name": "stdout",
     "output_type": "stream",
     "text": [
      "1\n",
      "2\n",
      "3\n",
      "4\n"
     ]
    }
   ],
   "source": [
    "for i in range(1,5):\n",
    "    print(i)"
   ]
  },
  {
   "cell_type": "code",
   "execution_count": 20,
   "id": "47da8450-855a-4f5f-8f2b-ef4d6124889b",
   "metadata": {},
   "outputs": [
    {
     "data": {
      "text/plain": [
       "[1, 2, 3, 4]"
      ]
     },
     "execution_count": 20,
     "metadata": {},
     "output_type": "execute_result"
    }
   ],
   "source": [
    "list(range(1,5))"
   ]
  },
  {
   "cell_type": "code",
   "execution_count": 21,
   "id": "4886b1ea-96f1-4add-a647-9a7bb214a83d",
   "metadata": {},
   "outputs": [
    {
     "data": {
      "text/plain": [
       "[1, 3, 5, 7, 9]"
      ]
     },
     "execution_count": 21,
     "metadata": {},
     "output_type": "execute_result"
    }
   ],
   "source": [
    "list(range(1,10,2)) # start , end(excluding), step (-1)\n",
    "# from 1 till 10 skip 1 numbers in between "
   ]
  },
  {
   "cell_type": "code",
   "execution_count": 22,
   "id": "3f674a5e-e7cc-4830-b651-66b8dff44018",
   "metadata": {},
   "outputs": [
    {
     "data": {
      "text/plain": [
       "array([1, 3, 5, 7, 9])"
      ]
     },
     "execution_count": 22,
     "metadata": {},
     "output_type": "execute_result"
    }
   ],
   "source": [
    "np.arange(1,10,2) # array + range"
   ]
  },
  {
   "cell_type": "code",
   "execution_count": 23,
   "id": "f23f3d25-a4ab-497a-a1f2-d515d5c6e403",
   "metadata": {},
   "outputs": [
    {
     "data": {
      "text/plain": [
       "array([ 1. ,  2.8,  4.6,  6.4,  8.2, 10. ])"
      ]
     },
     "execution_count": 23,
     "metadata": {},
     "output_type": "execute_result"
    }
   ],
   "source": [
    "np.linspace(1,10,6) # start , end (including), no.of values \n",
    "# from 1 till 10(including ) generate 6 numbers with equal interval / difference "
   ]
  },
  {
   "cell_type": "code",
   "execution_count": 27,
   "id": "05585206-c70d-45c7-9ce3-af5d2cda387b",
   "metadata": {},
   "outputs": [
    {
     "data": {
      "text/plain": [
       "array([ 1.   ,  3.375,  5.75 ,  8.125, 10.5  , 12.875, 15.25 , 17.625,\n",
       "       20.   ])"
      ]
     },
     "execution_count": 27,
     "metadata": {},
     "output_type": "execute_result"
    }
   ],
   "source": [
    "np.linspace(1,20,9)"
   ]
  },
  {
   "cell_type": "code",
   "execution_count": null,
   "id": "7223fffd-c1fc-431b-bfc8-8978ada6f75b",
   "metadata": {},
   "outputs": [],
   "source": []
  },
  {
   "cell_type": "markdown",
   "id": "afa9b5a9-12de-4f09-8a5f-579b9a383b22",
   "metadata": {},
   "source": [
    "#### Array Inspection"
   ]
  },
  {
   "cell_type": "code",
   "execution_count": 36,
   "id": "9f4344f3-ceef-43ba-ad97-03872a70ffb4",
   "metadata": {},
   "outputs": [
    {
     "data": {
      "text/plain": [
       "array([ 1,  2,  3,  4,  5,  6,  7,  8,  9, 10, 11, 12, 13, 14, 15, 16, 17,\n",
       "       18, 19, 20, 21, 22, 23, 24])"
      ]
     },
     "execution_count": 36,
     "metadata": {},
     "output_type": "execute_result"
    }
   ],
   "source": [
    "ar1 = np.arange(1,25)\n",
    "ar1"
   ]
  },
  {
   "cell_type": "code",
   "execution_count": 29,
   "id": "83033de2-c266-47d5-95c1-ff290c554b96",
   "metadata": {},
   "outputs": [
    {
     "data": {
      "text/plain": [
       "24"
      ]
     },
     "execution_count": 29,
     "metadata": {},
     "output_type": "execute_result"
    }
   ],
   "source": [
    "ar1.size # no.of elements in array"
   ]
  },
  {
   "cell_type": "code",
   "execution_count": 30,
   "id": "339370cf-9fa8-496a-bf20-c58e29075d6d",
   "metadata": {},
   "outputs": [
    {
     "data": {
      "text/plain": [
       "dtype('int64')"
      ]
     },
     "execution_count": 30,
     "metadata": {},
     "output_type": "execute_result"
    }
   ],
   "source": [
    "ar1.dtype"
   ]
  },
  {
   "cell_type": "code",
   "execution_count": null,
   "id": "3e20e597-444e-4ec2-867d-f03deb6e2026",
   "metadata": {},
   "outputs": [],
   "source": [
    "# data types : python is dynamically typed programming language --> python decides data type of variable\n",
    "# sql : bigint / smallint (64,32)\n",
    "# numbers: int/float \n",
    "# character: strings / U"
   ]
  },
  {
   "cell_type": "code",
   "execution_count": 31,
   "id": "a95f31a0-3a68-4310-9867-53108ff23961",
   "metadata": {},
   "outputs": [
    {
     "data": {
      "text/plain": [
       "numpy.ndarray"
      ]
     },
     "execution_count": 31,
     "metadata": {},
     "output_type": "execute_result"
    }
   ],
   "source": [
    "type(ar1)"
   ]
  },
  {
   "cell_type": "code",
   "execution_count": 34,
   "id": "8dcf5ade-0bb1-43c9-9350-caeda87390fa",
   "metadata": {},
   "outputs": [
    {
     "data": {
      "text/plain": [
       "1"
      ]
     },
     "execution_count": 34,
     "metadata": {},
     "output_type": "execute_result"
    }
   ],
   "source": [
    "ar1.ndim # no.of dimension "
   ]
  },
  {
   "cell_type": "code",
   "execution_count": null,
   "id": "2bce9caf-4437-4b64-876a-0c06a2ced0f0",
   "metadata": {},
   "outputs": [],
   "source": [
    "# when you want to change dimensions use reshape\n",
    "# rows * columns == size\n"
   ]
  },
  {
   "cell_type": "code",
   "execution_count": 40,
   "id": "4a23eeb9-b91c-4c53-8cdd-355805ec008e",
   "metadata": {},
   "outputs": [
    {
     "data": {
      "text/plain": [
       "24"
      ]
     },
     "execution_count": 40,
     "metadata": {},
     "output_type": "execute_result"
    }
   ],
   "source": [
    "ar1.size"
   ]
  },
  {
   "cell_type": "code",
   "execution_count": null,
   "id": "307457b9-99d5-4ac5-94f3-7111dcc99c06",
   "metadata": {},
   "outputs": [],
   "source": [
    "1*24 \n",
    "2*12\n",
    "3*8\n",
    "4*6\n",
    "."
   ]
  },
  {
   "cell_type": "code",
   "execution_count": 38,
   "id": "6ec2e272-5892-4543-8da4-8f37a8ac3582",
   "metadata": {},
   "outputs": [
    {
     "data": {
      "text/plain": [
       "array([[ 1,  2,  3,  4],\n",
       "       [ 5,  6,  7,  8],\n",
       "       [ 9, 10, 11, 12],\n",
       "       [13, 14, 15, 16],\n",
       "       [17, 18, 19, 20],\n",
       "       [21, 22, 23, 24]])"
      ]
     },
     "execution_count": 38,
     "metadata": {},
     "output_type": "execute_result"
    }
   ],
   "source": [
    "ar2 = ar1.reshape(6,4) \n",
    "ar2"
   ]
  },
  {
   "cell_type": "code",
   "execution_count": 39,
   "id": "59e50929-ad7a-475e-a7be-2a2ccee53cbe",
   "metadata": {},
   "outputs": [
    {
     "data": {
      "text/plain": [
       "2"
      ]
     },
     "execution_count": 39,
     "metadata": {},
     "output_type": "execute_result"
    }
   ],
   "source": [
    "ar2.ndim"
   ]
  },
  {
   "cell_type": "code",
   "execution_count": 41,
   "id": "e6533cf6-883a-4aa3-99ee-78d1faf033e2",
   "metadata": {},
   "outputs": [
    {
     "ename": "ValueError",
     "evalue": "cannot reshape array of size 24 into shape (5,5)",
     "output_type": "error",
     "traceback": [
      "\u001b[0;31m---------------------------------------------------------------------------\u001b[0m",
      "\u001b[0;31mValueError\u001b[0m                                Traceback (most recent call last)",
      "Cell \u001b[0;32mIn[41], line 1\u001b[0m\n\u001b[0;32m----> 1\u001b[0m ar1\u001b[38;5;241m.\u001b[39mreshape(\u001b[38;5;241m5\u001b[39m,\u001b[38;5;241m5\u001b[39m)\n",
      "\u001b[0;31mValueError\u001b[0m: cannot reshape array of size 24 into shape (5,5)"
     ]
    }
   ],
   "source": [
    "ar1.reshape(5,5)\n",
    "# 5*5 != 24"
   ]
  },
  {
   "cell_type": "code",
   "execution_count": 42,
   "id": "e0213709-c565-4cc7-90e7-029f0d824f8b",
   "metadata": {},
   "outputs": [
    {
     "ename": "ValueError",
     "evalue": "cannot reshape array of size 24 into shape (3,3)",
     "output_type": "error",
     "traceback": [
      "\u001b[0;31m---------------------------------------------------------------------------\u001b[0m",
      "\u001b[0;31mValueError\u001b[0m                                Traceback (most recent call last)",
      "Cell \u001b[0;32mIn[42], line 1\u001b[0m\n\u001b[0;32m----> 1\u001b[0m ar1\u001b[38;5;241m.\u001b[39mreshape(\u001b[38;5;241m3\u001b[39m,\u001b[38;5;241m3\u001b[39m)\n",
      "\u001b[0;31mValueError\u001b[0m: cannot reshape array of size 24 into shape (3,3)"
     ]
    }
   ],
   "source": [
    "ar1.reshape(3,3)\n",
    "# 3*3 != 24"
   ]
  },
  {
   "cell_type": "code",
   "execution_count": 44,
   "id": "8345aafd-53ec-4ed9-91c7-160a86b30c7d",
   "metadata": {},
   "outputs": [
    {
     "data": {
      "text/plain": [
       "array([[[ 1,  2,  3,  4],\n",
       "        [ 5,  6,  7,  8]],\n",
       "\n",
       "       [[ 9, 10, 11, 12],\n",
       "        [13, 14, 15, 16]],\n",
       "\n",
       "       [[17, 18, 19, 20],\n",
       "        [21, 22, 23, 24]]])"
      ]
     },
     "execution_count": 44,
     "metadata": {},
     "output_type": "execute_result"
    }
   ],
   "source": [
    "ar3 = ar1.reshape(3,2,4) # create 3 arrays with 2 rows and 4 columns\n",
    "ar3"
   ]
  },
  {
   "cell_type": "code",
   "execution_count": 45,
   "id": "d31e93a5-ec5d-4858-b97d-6ad8635bd4c7",
   "metadata": {},
   "outputs": [
    {
     "data": {
      "text/plain": [
       "3"
      ]
     },
     "execution_count": 45,
     "metadata": {},
     "output_type": "execute_result"
    }
   ],
   "source": [
    "ar3.ndim"
   ]
  },
  {
   "cell_type": "code",
   "execution_count": null,
   "id": "f4c4388d-d615-45e0-960c-99b7dc3d6068",
   "metadata": {},
   "outputs": [],
   "source": []
  }
 ],
 "metadata": {
  "kernelspec": {
   "display_name": "Python 3 (ipykernel)",
   "language": "python",
   "name": "python3"
  },
  "language_info": {
   "codemirror_mode": {
    "name": "ipython",
    "version": 3
   },
   "file_extension": ".py",
   "mimetype": "text/x-python",
   "name": "python",
   "nbconvert_exporter": "python",
   "pygments_lexer": "ipython3",
   "version": "3.12.7"
  }
 },
 "nbformat": 4,
 "nbformat_minor": 5
}
