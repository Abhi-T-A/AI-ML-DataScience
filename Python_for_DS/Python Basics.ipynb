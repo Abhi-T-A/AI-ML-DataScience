{
  "cells": [
    {
      "cell_type": "code",
      "execution_count": null,
      "metadata": {
        "id": "EMPZrW0Zld30"
      },
      "outputs": [],
      "source": [
        "#Notes File(Refer after recordings): https://docs.google.com/document/d/1kYJaYewuJZxqWVLxru8fDyrnUn45TbVp_ZVNyXB_YeA/edit?usp=sharing"
      ]
    },
    {
      "cell_type": "markdown",
      "metadata": {
        "id": "ZBHqfYSXQMbs"
      },
      "source": [
        "Who invented Python?\n",
        "- Guido van Rossum, in 1991."
      ]
    },
    {
      "cell_type": "markdown",
      "metadata": {
        "id": "yFyGGa25It27"
      },
      "source": [
        "What is Python?\n",
        "- programming language: mediator between the programmer and a machine.\n",
        "- high-level language: human readable code\n",
        "- case-sensitive: \"A\" and \"a\" are different\n",
        "- interpreter language: reads code line by line"
      ]
    },
    {
      "cell_type": "markdown",
      "metadata": {
        "id": "-4cFgV7TRHTy"
      },
      "source": [
        "Why Python?\n",
        "- Easy to learn\n",
        "- Simple Syntax, english-like\n",
        "- User Friendly\n",
        "- Large library domain\n",
        "- Open-Source"
      ]
    },
    {
      "cell_type": "markdown",
      "metadata": {
        "id": "_03YZT2NRfYD"
      },
      "source": [
        "Where do we use Python?\n",
        "- Web Development\n",
        "- Application Development\n",
        "- AI/ML\n",
        "- Automation\n",
        "- Game Building"
      ]
    },
    {
      "cell_type": "code",
      "execution_count": null,
      "metadata": {
        "colab": {
          "base_uri": "https://localhost:8080/"
        },
        "id": "bZtVoIqeIpKS",
        "outputId": "3bce758a-1dd1-4fe9-f269-5dde31acf1ac"
      },
      "outputs": [
        {
          "name": "stdout",
          "output_type": "stream",
          "text": [
            "Hello Learners!\n"
          ]
        }
      ],
      "source": [
        "#Introduction to python\n",
        "print(\"Hello Learners!\") #print: show something on the screen"
      ]
    },
    {
      "cell_type": "markdown",
      "metadata": {
        "id": "LLgBeM_1SrQ2"
      },
      "source": [
        "##VARIABLES:\n",
        "- containers that store your data\n",
        "\n",
        "**Variable Naming Conventions**\n",
        "- a variable name must start with a letter or _.\n",
        "- a variable name cannot begin with a digit.\n",
        "- a variable cannot have whitespaces.\n",
        "- a variable name cannot be a keyword"
      ]
    },
    {
      "cell_type": "code",
      "execution_count": null,
      "metadata": {
        "id": "QeyFQSE2Sqx5"
      },
      "outputs": [],
      "source": [
        "a=10\n",
        "print(a)\n",
        "\n",
        "_Sri=20\n",
        "print(_Sri)\n",
        "\n",
        "# 4b=30\n",
        "# print(4b)\n",
        "\n",
        "a b=40\n",
        "print(a b)"
      ]
    },
    {
      "cell_type": "markdown",
      "metadata": {
        "id": "pUhy_vZcUWvX"
      },
      "source": [
        "##DATA TYPES:\n",
        "- defines the kind of value a variable can hold\n",
        "\n",
        "**TYPES**\n",
        "- integer\n",
        "- float\n",
        "- string\n",
        "- boolean"
      ]
    },
    {
      "cell_type": "code",
      "execution_count": null,
      "metadata": {
        "id": "S-DlUVebUHW_"
      },
      "outputs": [],
      "source": [
        "#Integer : non-decimal value\n",
        "a=0\n",
        "print(\"Integer value:\",a) #comma: concatenates\n",
        "\n",
        "#Float : decimal value\n",
        "b=10.234\n",
        "print(\"Float value: \", b)\n",
        "\n",
        "#String\n",
        "greet=\"Hi, I am a Learner!123#$%\"\n",
        "print(\"String value:\", greet)\n",
        "\n",
        "#Boolean : True/False : non-zero/0\n",
        "light_on=False\n",
        "print(\"Is the light on?\", light_on)"
      ]
    },
    {
      "cell_type": "code",
      "execution_count": null,
      "metadata": {
        "id": "aWmQlfLaaY8j"
      },
      "outputs": [],
      "source": [
        "#Type-Casting: change/convert the data type of a variable forcefully\n",
        "light_on2=0.1 #int\n",
        "print(\"Is the light on?\", bool(light_on2)) #changing to boolean, and 0 =False\n",
        "\n",
        "a=10.345\n",
        "print(int(a))\n",
        "\n",
        "b=200\n",
        "print(float(b))\n",
        "\n",
        "c=10/3\n",
        "print(c)"
      ]
    },
    {
      "cell_type": "code",
      "execution_count": null,
      "metadata": {
        "id": "MQjxEUvoYy13"
      },
      "outputs": [],
      "source": [
        "#Type function: tells you the data type of a variable\n",
        "a=100\n",
        "b=\"100\"\n",
        "print(a, type(a))\n",
        "print(b, type(b))"
      ]
    },
    {
      "cell_type": "markdown",
      "metadata": {
        "id": "OKlgBOExYBMG"
      },
      "source": [
        "##OPERATORS\n",
        "- special symbols that perform operations on values(operands)\n",
        "- Arithmetic\n",
        "- Exponential\n",
        "- Comparison\n",
        "- Logical\n",
        "- Assignment"
      ]
    },
    {
      "cell_type": "code",
      "execution_count": null,
      "metadata": {
        "id": "oe0PGvmBZ110"
      },
      "outputs": [],
      "source": [
        "#Arithmetic\n",
        "\n",
        "#addition\n",
        "v1=100\n",
        "v2=20\n",
        "print(v1+v2)"
      ]
    },
    {
      "cell_type": "code",
      "execution_count": null,
      "metadata": {
        "id": "Y0vPbqszZrMX"
      },
      "outputs": [],
      "source": [
        "#subtraction\n",
        "print(v1-v2)"
      ]
    },
    {
      "cell_type": "code",
      "execution_count": null,
      "metadata": {
        "id": "KWjb6g4UZzJy"
      },
      "outputs": [],
      "source": [
        "#multiplication\n",
        "a=4\n",
        "b=2\n",
        "print(a*b)"
      ]
    },
    {
      "cell_type": "code",
      "execution_count": null,
      "metadata": {
        "id": "3N1UuL9SZ5j2"
      },
      "outputs": [],
      "source": [
        "#division (/) : exact float value\n",
        "c=11\n",
        "d=2\n",
        "print(c/d)"
      ]
    },
    {
      "cell_type": "code",
      "execution_count": null,
      "metadata": {
        "id": "0gSQMAgjaEUO"
      },
      "outputs": [],
      "source": [
        "#floor division (//) : integer value\n",
        "print(c//d)"
      ]
    },
    {
      "cell_type": "code",
      "execution_count": null,
      "metadata": {
        "id": "VXG3vx1laPi5"
      },
      "outputs": [],
      "source": [
        "#modulus (%) : gives the remainder\n",
        "print(c%d)"
      ]
    },
    {
      "cell_type": "code",
      "execution_count": null,
      "metadata": {
        "id": "--uulX_obw1r"
      },
      "outputs": [],
      "source": [
        "#Exponential :  a to the power b (a**b)\n",
        "\n",
        "b1=2\n",
        "b2=4\n",
        "print(b1**b2) #2*2*2*2=16"
      ]
    },
    {
      "cell_type": "code",
      "execution_count": null,
      "metadata": {
        "id": "C8QOX0g4cK3w"
      },
      "outputs": [],
      "source": [
        "#Comparison : Boolean Output\n",
        "\n",
        "a=23\n",
        "b=50\n",
        "print(a==b) #(a is equal to b) 23 = 50? False"
      ]
    },
    {
      "cell_type": "code",
      "execution_count": null,
      "metadata": {
        "id": "sOrWiniYceml"
      },
      "outputs": [],
      "source": [
        "print(a!=b) #(a is not equal to b) 23 not equal to 50? True"
      ]
    },
    {
      "cell_type": "code",
      "execution_count": null,
      "metadata": {
        "id": "Z-NMl2pxdPK0"
      },
      "outputs": [],
      "source": [
        "print(a<b) # 23 < 50? yes"
      ]
    },
    {
      "cell_type": "code",
      "execution_count": null,
      "metadata": {
        "colab": {
          "base_uri": "https://localhost:8080/",
          "height": 141
        },
        "id": "ovgdIw4mdUVr",
        "outputId": "a3ed0899-c784-46c7-8866-dcc7100de7a6"
      },
      "outputs": [
        {
          "ename": "NameError",
          "evalue": "name 'a' is not defined",
          "output_type": "error",
          "traceback": [
            "\u001b[0;31m---------------------------------------------------------------------------\u001b[0m",
            "\u001b[0;31mNameError\u001b[0m                                 Traceback (most recent call last)",
            "\u001b[0;32m<ipython-input-6-ed2666671173>\u001b[0m in \u001b[0;36m<cell line: 0>\u001b[0;34m()\u001b[0m\n\u001b[0;32m----> 1\u001b[0;31m \u001b[0mprint\u001b[0m\u001b[0;34m(\u001b[0m\u001b[0ma\u001b[0m\u001b[0;34m>\u001b[0m\u001b[0mb\u001b[0m\u001b[0;34m)\u001b[0m \u001b[0;31m# 23 > 50? no\u001b[0m\u001b[0;34m\u001b[0m\u001b[0;34m\u001b[0m\u001b[0m\n\u001b[0m",
            "\u001b[0;31mNameError\u001b[0m: name 'a' is not defined"
          ]
        }
      ],
      "source": [
        "print(a>b) # 23 > 50? no"
      ]
    },
    {
      "cell_type": "code",
      "execution_count": null,
      "metadata": {
        "id": "mzvhwfB8dX6u"
      },
      "outputs": [],
      "source": [
        "c=50\n",
        "print(a<=b) #23 < or equal to 50? True\n",
        "print(c<=b) #50 < or equal to 50? True"
      ]
    },
    {
      "cell_type": "code",
      "execution_count": null,
      "metadata": {
        "id": "zZYC1CuNdnNs"
      },
      "outputs": [],
      "source": [
        "print(a>=b)"
      ]
    },
    {
      "cell_type": "code",
      "execution_count": null,
      "metadata": {
        "id": "RSyhx4Xrfo-P"
      },
      "outputs": [],
      "source": [
        "#Alisha's query:\n",
        "\n",
        "a=True #boolean\n",
        "b=False #boolean\n",
        "print(a+b) #arithmetic operator(+), a(true)=1, b(false)=0"
      ]
    },
    {
      "cell_type": "code",
      "execution_count": null,
      "metadata": {
        "id": "DdzrR8iPdxHy"
      },
      "outputs": [],
      "source": [
        "#Logical Operators  : not, and ,or\n",
        "\n",
        "#AND both conditions need to be true, final output : true\n",
        "var1=True\n",
        "var2=True\n",
        "print(var1 and var2)"
      ]
    },
    {
      "cell_type": "code",
      "execution_count": null,
      "metadata": {
        "id": "gTVoQl5HgVK1"
      },
      "outputs": [],
      "source": [
        "var1=True\n",
        "var2=False\n",
        "print(var1 and var2)"
      ]
    },
    {
      "cell_type": "code",
      "execution_count": null,
      "metadata": {
        "id": "BUHmagC0gbee"
      },
      "outputs": [],
      "source": [
        "var1=False\n",
        "var2=False\n",
        "print(var1 and var2)"
      ]
    },
    {
      "cell_type": "code",
      "execution_count": null,
      "metadata": {
        "id": "o5Ru5Okfghtl"
      },
      "outputs": [],
      "source": [
        "#OR : any one condition = True, final output: true\n",
        "var1=True\n",
        "var2=True\n",
        "print(var1 or var2)"
      ]
    },
    {
      "cell_type": "code",
      "execution_count": null,
      "metadata": {
        "id": "BzhgtxJ1gxQ_"
      },
      "outputs": [],
      "source": [
        "var1=True\n",
        "var2=False\n",
        "print(var1 or var2)"
      ]
    },
    {
      "cell_type": "code",
      "execution_count": null,
      "metadata": {
        "id": "-V0MpOYSg052"
      },
      "outputs": [],
      "source": [
        "var1=False\n",
        "var2=False\n",
        "print(var1 or var2)"
      ]
    },
    {
      "cell_type": "code",
      "execution_count": null,
      "metadata": {
        "id": "Y5jLFF8Ug9YK"
      },
      "outputs": [],
      "source": [
        "#NOT : reverses the input\n",
        "\n",
        "a=True\n",
        "print(not a)\n",
        "\n",
        "b=False\n",
        "print(not b)"
      ]
    },
    {
      "cell_type": "code",
      "execution_count": null,
      "metadata": {
        "id": "wQm0sb4ahoei"
      },
      "outputs": [],
      "source": [
        "#Assignments Operators\n",
        "\n",
        "var1=34\n",
        "print(var1)"
      ]
    },
    {
      "cell_type": "code",
      "execution_count": null,
      "metadata": {
        "id": "cw2fJnPLiD1U"
      },
      "outputs": [],
      "source": [
        "var3=7\n",
        "var3+=3 #var3 = var3 + 3\n",
        "print(var3)"
      ]
    },
    {
      "cell_type": "code",
      "execution_count": null,
      "metadata": {
        "id": "JT_ALaJmirCM"
      },
      "outputs": [],
      "source": [
        "var3-=3 #var3 = var3 - 3\n",
        "print(var3)"
      ]
    },
    {
      "cell_type": "code",
      "execution_count": null,
      "metadata": {
        "id": "UZSg1GnZi4n8"
      },
      "outputs": [],
      "source": [
        "var3*=2 #var3 = var3 * 2\n",
        "print(var3)"
      ]
    },
    {
      "cell_type": "code",
      "execution_count": null,
      "metadata": {
        "id": "0hRkkk8gi-bW"
      },
      "outputs": [],
      "source": [
        "var3/=2 #var3 = var3 / 2\n",
        "print(var3)"
      ]
    },
    {
      "cell_type": "code",
      "execution_count": null,
      "metadata": {
        "id": "E8KA1kxElqVX"
      },
      "outputs": [],
      "source": [
        "b=10\n",
        "b//=2\n",
        "print(b)"
      ]
    },
    {
      "cell_type": "code",
      "execution_count": null,
      "metadata": {
        "id": "XUIzar3WjKG2"
      },
      "outputs": [],
      "source": [
        "a=10\n",
        "a/=2\n",
        "print(a)\n",
        "\n",
        "a//=2\n",
        "print(a)"
      ]
    },
    {
      "cell_type": "code",
      "execution_count": null,
      "metadata": {
        "id": "NxHgqTsAmB5f"
      },
      "outputs": [],
      "source": [
        "c=10\n",
        "c%=3 # c=c%3\n",
        "print(c)"
      ]
    },
    {
      "cell_type": "markdown",
      "metadata": {
        "id": "3w4S0yH3mYPA"
      },
      "source": [
        "1. Assign two numbers and print their arithmetic answers(operators).\n",
        "2. Convert a float value to an integer value.\n",
        "3. Take two variables (one as true and one as false), and give the output of: ((var1 or var2) and (not var2))\n"
      ]
    },
    {
      "cell_type": "code",
      "execution_count": null,
      "metadata": {
        "id": "D9qrHYRimxqu"
      },
      "outputs": [],
      "source": [
        "1. # Assign two numbers\n",
        "num1 = 10\n",
        "num2 = 3\n",
        "# Addition\n",
        "print(\"Addition:\", num1 + num2)  # Output: Addition: 13\n",
        "# Subtraction\n",
        "print(\"Subtraction:\", num1 - num2)  # Output: Subtraction: 7\n",
        "# Multiplication\n",
        "print(\"Multiplication:\", num1 * num2)  # Output: Multiplication: 30\n",
        "# Division\n",
        "print(\"Division:\", num1 / num2)  # Output: Division: 3.3333333333333335\n",
        "# Modulus\n",
        "print(\"Modulus:\", num1 % num2)  # Output: Modulus: 1\n",
        "# Exponentiation\n",
        "print(\"Exponentiation:\", num1 ** num2)  # Output: Exponentiation: 1000\n",
        "# Floor division\n",
        "print(\"Floor division:\", num1 // num2)  # Output: Floor division: 3"
      ]
    },
    {
      "cell_type": "code",
      "execution_count": null,
      "metadata": {
        "id": "Ts1af-zehLKg"
      },
      "outputs": [],
      "source": [
        "#f-string(format-string): a way of printing things"
      ]
    },
    {
      "cell_type": "code",
      "execution_count": null,
      "metadata": {
        "id": "yosRA7xGg9xK"
      },
      "outputs": [],
      "source": [
        "#2.\n",
        "a=100.86\n",
        "print(f\"{a} is a float value which is typecasted to {int(a)}\")\n",
        "print(a,\"is a float value which is typecasted to\",(int(a)))\n",
        "\n",
        "print(a,'X',2,'=',a*2)\n",
        "print(f\"{a} X 2 = {a*2}\")"
      ]
    },
    {
      "cell_type": "code",
      "execution_count": null,
      "metadata": {
        "id": "QPqJfcQ1i0ZB"
      },
      "outputs": [],
      "source": [
        "#3.\n",
        "#Priority(Operator Precendence)\n",
        "#1. brackets\n",
        "#2. Not\n",
        "#3. And\n",
        "#4. Or\n",
        "var1=True\n",
        "var2=False\n",
        "print((var1 or var2) and (not var2))#output is True"
      ]
    },
    {
      "cell_type": "markdown",
      "metadata": {
        "id": "sGC3Q1K0lSdH"
      },
      "source": [
        "#Sequential Data Types: indexing\n",
        "- can store multiple data type of values\n",
        "\n",
        "**Types**:\n",
        "- list\n",
        "- tuple\n",
        "- strings"
      ]
    },
    {
      "cell_type": "code",
      "execution_count": null,
      "metadata": {
        "id": "Q5B8nrytkli8"
      },
      "outputs": [],
      "source": [
        "#List []:  ordered, mutable(can be modified), duplicates allowed\n",
        "\n",
        "l1=['Shifa','12','Nayan',12,12,23,45,56.23,89.10,True,False]\n",
        "#     0        1      2      3  4  5   6      7   8    9\n",
        "\n",
        "print(l1, type(l1))\n",
        "print(l1[2], type(l1[2]))\n",
        "print(len(l1)) #gives the length"
      ]
    },
    {
      "cell_type": "code",
      "execution_count": null,
      "metadata": {
        "id": "wjbJiUVkrgu0"
      },
      "outputs": [],
      "source": [
        "#      -6     - 5    -4     -3  -2  -1\n",
        "l2=['harsh','rustam',12,'harsh',4.6,True]\n",
        "#     0        1     2    3      4    5\n",
        "\n",
        "print(len(l2))\n",
        "print(l2[1])\n",
        "print(l2[-4])"
      ]
    },
    {
      "cell_type": "code",
      "execution_count": null,
      "metadata": {
        "id": "XbDRoUpxsJD2"
      },
      "outputs": [],
      "source": [
        "print(l2.index('harsh')) # gives the index of a value"
      ]
    },
    {
      "cell_type": "code",
      "execution_count": null,
      "metadata": {
        "id": "5GqprVLMsilD"
      },
      "outputs": [],
      "source": [
        "l2[3]=50 #modified 12 to 50\n",
        "print(l2)"
      ]
    },
    {
      "cell_type": "code",
      "execution_count": null,
      "metadata": {
        "id": "cbmp_iictGxh"
      },
      "outputs": [],
      "source": [
        "l2.append(\"India\") #adds a value at the end of the list\n",
        "print(l2)"
      ]
    },
    {
      "cell_type": "code",
      "execution_count": null,
      "metadata": {
        "id": "t9KqYaQItQXf"
      },
      "outputs": [],
      "source": [
        "l2.insert(1,'Laasya') #inserts value at a given index\n",
        "print(l2)"
      ]
    },
    {
      "cell_type": "code",
      "execution_count": null,
      "metadata": {
        "id": "WLcPUhc1tsRZ"
      },
      "outputs": [],
      "source": [
        "print(l2.index(50))\n",
        "l2.pop(4) #deletes value at a given index"
      ]
    },
    {
      "cell_type": "code",
      "execution_count": null,
      "metadata": {
        "id": "mgvmh5hXuECF"
      },
      "outputs": [],
      "source": [
        "print(l2)"
      ]
    },
    {
      "cell_type": "code",
      "execution_count": null,
      "metadata": {
        "id": "kM_WJlINuJ2S"
      },
      "outputs": [],
      "source": [
        "l2.pop() #by default: removes last element\n",
        "print(l2)"
      ]
    },
    {
      "cell_type": "code",
      "execution_count": null,
      "metadata": {
        "id": "QejZlcOWuTCQ"
      },
      "outputs": [],
      "source": [
        "l2.remove('harsh') #delete element using value\n",
        "print(l2)"
      ]
    },
    {
      "cell_type": "code",
      "execution_count": null,
      "metadata": {
        "id": "rCSkSRbsurgD"
      },
      "outputs": [],
      "source": [
        "ls=[1,2,3,1,2,3,1,2,3,3,4,2,1,3]\n",
        "print(len(ls))\n",
        "print(ls.count(3)) #number of occurences of a value"
      ]
    },
    {
      "cell_type": "code",
      "execution_count": null,
      "metadata": {
        "id": "lzZTP4sGvmo3"
      },
      "outputs": [],
      "source": [
        "#Tuples (): ordered, immutable(can't be modified), duplicates allowed\n",
        "#index,count\n",
        "\n",
        "t1=('Nikhil',155,80.34,True)\n",
        "print(t1, type(t1))"
      ]
    },
    {
      "cell_type": "code",
      "execution_count": null,
      "metadata": {
        "id": "BLOi_SF_vIJH"
      },
      "outputs": [],
      "source": [
        "print(t1[1])\n",
        "print(t1[-2])"
      ]
    },
    {
      "cell_type": "code",
      "execution_count": null,
      "metadata": {
        "id": "NRItURqvwtPF"
      },
      "outputs": [],
      "source": [
        "t1[1]='Python'\n",
        "print(t1)"
      ]
    },
    {
      "cell_type": "code",
      "execution_count": null,
      "metadata": {
        "id": "oOpnEcBGyUXj"
      },
      "outputs": [],
      "source": [
        "#Slicing: getting a part of something [start:end+1]\n",
        "a=['a','b','c','d','e']\n",
        "print(a[1:4],a[1:])\n",
        "\n",
        "print(a[::3])\n",
        "print(a[::-2])\n",
        "print(a[0:1:2])"
      ]
    },
    {
      "cell_type": "code",
      "execution_count": null,
      "metadata": {
        "id": "4iEk3nTRxRvb"
      },
      "outputs": [],
      "source": [
        "b=['Aisha','Aashika','Laasya']\n",
        "print(b[::1])\n",
        "print(b[:], b[0:], b[::])"
      ]
    },
    {
      "cell_type": "code",
      "execution_count": null,
      "metadata": {
        "id": "H_cdWbglxksi"
      },
      "outputs": [],
      "source": [
        "#String : ordered, immutable(can't be modified), duplicates allowed\n",
        "\n",
        "s=\"Rajalakshmi\"\n",
        "print(s)"
      ]
    },
    {
      "cell_type": "code",
      "execution_count": null,
      "metadata": {
        "id": "6kwDPG7UydcM"
      },
      "outputs": [],
      "source": [
        "print(len(s))\n",
        "s[3]='Y'\n",
        "print(s)"
      ]
    },
    {
      "cell_type": "code",
      "execution_count": null,
      "metadata": {
        "id": "mVD_rXvuy0EH"
      },
      "outputs": [],
      "source": [
        "C=list(s)\n",
        "C[3]='Y'\n",
        "print(C)\n",
        "str(C)"
      ]
    },
    {
      "cell_type": "code",
      "execution_count": null,
      "metadata": {
        "id": "bFe3AUPDy4yx"
      },
      "outputs": [],
      "source": [
        "a='Aisha',123 #if multiple values are given to a variable, by default they're clubbed inside a tuple\n",
        "print(a)"
      ]
    },
    {
      "cell_type": "code",
      "execution_count": null,
      "metadata": {
        "id": "NxIZzAIp0gZG"
      },
      "outputs": [],
      "source": [
        "s1=\"Hi \"\n",
        "s2=\"Learners! :)\"\n",
        "s3=s1+s2 #concatenating strings\n",
        "print(s3)"
      ]
    },
    {
      "cell_type": "code",
      "execution_count": null,
      "metadata": {
        "id": "4MJeVNxF1Bvt"
      },
      "outputs": [],
      "source": [
        "print(s3.upper()) #changes to uppercase"
      ]
    },
    {
      "cell_type": "code",
      "execution_count": null,
      "metadata": {
        "id": "FOHfhKcL1SSB"
      },
      "outputs": [],
      "source": [
        "print(s3.lower())"
      ]
    },
    {
      "cell_type": "code",
      "execution_count": null,
      "metadata": {
        "id": "6vMFhG5B1Wch"
      },
      "outputs": [],
      "source": [
        "print(s3.capitalize()) #Capitalizes first letter"
      ]
    },
    {
      "cell_type": "code",
      "execution_count": null,
      "metadata": {
        "id": "W1KZj0Zz1dlT"
      },
      "outputs": [],
      "source": [
        "b= \" Aisha \"\n",
        "print(b.strip()) #removes whitespaces from both ends"
      ]
    },
    {
      "cell_type": "markdown",
      "metadata": {
        "id": "WcjuwR3M0xa0"
      },
      "source": [
        "#Non-Sequential Datatypes\n",
        "- Unordered, no indexing\n",
        "\n",
        "**Types**\n",
        "- Sets\n",
        "- Dictionary"
      ]
    },
    {
      "cell_type": "code",
      "execution_count": null,
      "metadata": {
        "id": "4D44u5lU2MJ4"
      },
      "outputs": [],
      "source": [
        "#Set {}: unordered, immutable(can't be modified), duplicates are not allowed\n",
        "\n",
        "s1={1,2,3,4,5,1,2,3,4,5,1,2,3,4,5,1,2,3,4,5}\n",
        "print(s1, type(s1))"
      ]
    },
    {
      "cell_type": "code",
      "execution_count": null,
      "metadata": {
        "id": "OLU5s-ib2pfq"
      },
      "outputs": [],
      "source": [
        "s2={'Krish','Raju','Hyndhavi',12,34,25.65}\n",
        "print(len(s2))"
      ]
    },
    {
      "cell_type": "code",
      "execution_count": null,
      "metadata": {
        "id": "2sglHvoZ3f97"
      },
      "outputs": [],
      "source": [
        "s2[1]='Sagar'\n",
        "print(s2)"
      ]
    },
    {
      "cell_type": "code",
      "execution_count": null,
      "metadata": {
        "id": "oSWv3GDM3JC8"
      },
      "outputs": [],
      "source": [
        "#add an element\n",
        "s2.add('Nayan')\n",
        "print(s2)\n",
        "s2.add('Harsh')\n",
        "print(s2)"
      ]
    },
    {
      "cell_type": "code",
      "execution_count": null,
      "metadata": {
        "id": "MG1g-Muz33yj"
      },
      "outputs": [],
      "source": [
        "#Remove a specific value, value is not in the set,it gives an error\n",
        "s2.remove(100)\n",
        "print(s2)"
      ]
    },
    {
      "cell_type": "code",
      "execution_count": null,
      "metadata": {
        "id": "X3w8ndlu4IHL"
      },
      "outputs": [],
      "source": [
        "s2.discard(100) #removes a value, value is not in the set, it doesn't give error"
      ]
    },
    {
      "cell_type": "code",
      "execution_count": null,
      "metadata": {
        "id": "vbdmua5e4p-0"
      },
      "outputs": [],
      "source": [
        "s2.pop() #unordered, removes element randomly"
      ]
    },
    {
      "cell_type": "code",
      "execution_count": null,
      "metadata": {
        "id": "tvBaVJlB5nM7"
      },
      "outputs": [],
      "source": [
        "s2.clear()"
      ]
    },
    {
      "cell_type": "code",
      "execution_count": null,
      "metadata": {
        "id": "qMxY52mF5Y-Q"
      },
      "outputs": [],
      "source": [
        "print(s2)"
      ]
    },
    {
      "cell_type": "code",
      "execution_count": null,
      "metadata": {
        "colab": {
          "base_uri": "https://localhost:8080/"
        },
        "id": "Et4tW44J6PoU",
        "outputId": "96d319c2-7e0d-4381-bfdb-5587538a5750"
      },
      "outputs": [
        {
          "name": "stdout",
          "output_type": "stream",
          "text": [
            "{1, 2, 3, 4, 5}\n",
            "{3}\n",
            "{1, 2}\n",
            "{4, 5}\n",
            "{1, 2, 4, 5}\n"
          ]
        }
      ],
      "source": [
        "s4={1,2,3}\n",
        "s5={3,4,5}\n",
        "\n",
        "#Union\n",
        "print(s4.union(s5))\n",
        "\n",
        "#Intersection\n",
        "print(s5.intersection(s4))\n",
        "\n",
        "#Difference\n",
        "print(s4.difference(s5))\n",
        "print(s5.difference(s4))\n",
        "\n",
        "#Symmetric Difference : Opposite of Intersection\n",
        "print(s4.symmetric_difference(s5))"
      ]
    },
    {
      "cell_type": "code",
      "execution_count": null,
      "metadata": {
        "id": "ySo5w7ljJG6Z"
      },
      "outputs": [],
      "source": [
        "#Dictionary: unordered collection of key-values pairs\n",
        "#each key is unique, and used to access its associated value\n",
        "\n",
        "dict1={\n",
        "    'Name':'Gaurav',\n",
        "    'Age': 26,\n",
        "    'Course':'Data Science'\n",
        "    }\n",
        "\n",
        "print(dict1, type(dict1))"
      ]
    },
    {
      "cell_type": "code",
      "execution_count": null,
      "metadata": {
        "id": "MGAhSIJrKuR3"
      },
      "outputs": [],
      "source": [
        "print(dict1.keys()) #gives all the keys"
      ]
    },
    {
      "cell_type": "code",
      "execution_count": null,
      "metadata": {
        "id": "Yo6j1o4ELknC"
      },
      "outputs": [],
      "source": [
        "print(dict1.values()) #gives all the values"
      ]
    },
    {
      "cell_type": "code",
      "execution_count": null,
      "metadata": {
        "id": "3aww_286Lz17"
      },
      "outputs": [],
      "source": [
        "print(dict1.items()) #gives me the key value pair"
      ]
    },
    {
      "cell_type": "code",
      "execution_count": null,
      "metadata": {
        "id": "aUCqw2GJL9ph"
      },
      "outputs": [],
      "source": [
        "print(dict1.get(\"Name\")) #gives me the values of associated key\n",
        "print(dict1.get(\"Course\"))"
      ]
    },
    {
      "cell_type": "code",
      "execution_count": null,
      "metadata": {
        "id": "bWEqGMilNOjE"
      },
      "outputs": [],
      "source": [
        "dict1.update({\"ID\":\"ABC1\",\"Contact\":12345,\"Country\":\"India\",'Marks':90})\n",
        "print(dict1)"
      ]
    },
    {
      "cell_type": "code",
      "execution_count": null,
      "metadata": {
        "id": "U9FLTOmlNtRY"
      },
      "outputs": [],
      "source": [
        "dict1.pop(\"Course\") #deletes values using certain key\n",
        "print(dict1)"
      ]
    },
    {
      "cell_type": "code",
      "execution_count": null,
      "metadata": {
        "id": "YzAH-wRpOaJu"
      },
      "outputs": [],
      "source": [
        "dict1['Marks']=95\n",
        "print(dict1)"
      ]
    },
    {
      "cell_type": "code",
      "execution_count": null,
      "metadata": {
        "id": "hpojpT_bPAkb"
      },
      "outputs": [],
      "source": [
        "dict1.clear()\n",
        "print(dict1)"
      ]
    },
    {
      "cell_type": "code",
      "execution_count": null,
      "metadata": {
        "colab": {
          "base_uri": "https://localhost:8080/"
        },
        "id": "81uMYCKKPMzt",
        "outputId": "c1dca6d5-9bd3-4aeb-e148-ab41ac0508c3"
      },
      "outputs": [
        {
          "name": "stdout",
          "output_type": "stream",
          "text": [
            "{'ABC1': {'name': 'Madhan', 'age': 20, 'marks': 85}, 'ABC2': {'name': 'Krish', 'age': 21, 'marks': 90}, 'ABC3': {'name': 'Ashlesha', 'age': 19, 'marks': 78}}\n",
            "Ashlesha\n"
          ]
        }
      ],
      "source": [
        "#Nested dictionary\n",
        "#madhan,krish,ashlesha\n",
        "students={\n",
        "    \"ABC1\":{\n",
        "        \"name\":\"Madhan\",\n",
        "        \"age\":20,\n",
        "        \"marks\":85\n",
        "        },\n",
        "    \"ABC2\":{\n",
        "        \"name\":\"Krish\",\n",
        "        \"age\":21,\n",
        "        \"marks\":90\n",
        "    },\n",
        "    \"ABC3\":{\n",
        "        \"name\":\"Ashlesha\",\n",
        "        \"age\":19,\n",
        "        \"marks\":78\n",
        "    }\n",
        "}\n",
        "\n",
        "print(students)\n",
        "print(students['ABC3']['name'])"
      ]
    },
    {
      "cell_type": "code",
      "execution_count": null,
      "metadata": {
        "id": "loZk__0KSkYW"
      },
      "outputs": [],
      "source": [
        "#INPUT FUNCTION : gets input/data from the user\n",
        "\n",
        "v=input(\"Enter your name: \") #by default: string\n",
        "print(v)"
      ]
    },
    {
      "cell_type": "code",
      "execution_count": null,
      "metadata": {
        "id": "LOPQDq-rTX1a"
      },
      "outputs": [],
      "source": [
        "age=int(input(\"Enter age: \"))\n",
        "print(age)"
      ]
    },
    {
      "cell_type": "markdown",
      "metadata": {
        "id": "ShnFv7-nVNjK"
      },
      "source": [
        "1. Create a list and apply all the functions on it.\n",
        "2. Create a tuple and apply all the functions on it.\n",
        "3. Perform Typecasting to change 170 to float and string."
      ]
    },
    {
      "cell_type": "code",
      "execution_count": null,
      "metadata": {
        "id": "NiwDvcKYVM8O"
      },
      "outputs": [],
      "source": [
        "a=[10,20,30,40]\n",
        "print(a)\n",
        "a.append(50)\n",
        "print(a)\n",
        "a.insert(2,25)\n",
        "print(a)\n",
        "a.extend([70,80])\n",
        "print(a)\n",
        "a.remove(25)\n",
        "print(a)\n",
        "a.pop()\n",
        "print(a)\n",
        "a.reverse()\n",
        "print(a)\n",
        "a.sort(reverse=True)\n",
        "print(a)\n",
        "a.clear()\n",
        "print(a)"
      ]
    },
    {
      "cell_type": "code",
      "execution_count": null,
      "metadata": {
        "id": "SQDwg1r0X5OQ"
      },
      "outputs": [],
      "source": [
        "a=('Aisha',23,56.0,23,23,23)\n",
        "print(a.index(\"Aisha\"))\n",
        "print(a.count(23))"
      ]
    },
    {
      "cell_type": "code",
      "execution_count": null,
      "metadata": {
        "id": "JaLEQcrPXBEY"
      },
      "outputs": [],
      "source": [
        "a=170\n",
        "print(\"Float of a\",float(a),\"String of a\",str(a))"
      ]
    },
    {
      "cell_type": "markdown",
      "metadata": {
        "id": "1hHZnsicQmLc"
      },
      "source": [
        "#Conditional Statements"
      ]
    },
    {
      "cell_type": "code",
      "execution_count": null,
      "metadata": {
        "id": "lf6-7NcnS8xy"
      },
      "outputs": [],
      "source": [
        "#Decision Making Statements\n",
        "\n",
        "#If-else\n",
        "age=int(input(\"Enter your age: \"))\n",
        "\n",
        "if(age>=18):\n",
        "  print(f\"Person is {age} years old hence why eligible to vote.\")\n",
        "else:\n",
        "  print(f\"Person is {age} years old hence why ineligible to vote.\")"
      ]
    },
    {
      "cell_type": "code",
      "execution_count": null,
      "metadata": {
        "id": "tuQM9EKGWTjB"
      },
      "outputs": [],
      "source": [
        "#If-elif-else\n",
        "\n",
        "age=int(input(\"Enter your age: \"))\n",
        "\n",
        "if(age>=18 and age < 45):\n",
        "  print(f\"Person is {age} years old hence why eligible to vote.\")\n",
        "elif(age>=45):\n",
        "  print(f\"Person is {age} years old hence why eligible to vote twice.\")\n",
        "else:\n",
        "  print(f\"Person is {age} years old hence why ineligible to vote.\")"
      ]
    },
    {
      "cell_type": "markdown",
      "metadata": {
        "id": "hQs1Hz9gYAgn"
      },
      "source": [
        "#Looping statements"
      ]
    },
    {
      "cell_type": "code",
      "execution_count": null,
      "metadata": {
        "id": "2SxC8_YsYD-a"
      },
      "outputs": [],
      "source": [
        "#FOR : runs till the range\n",
        "#Range function : (start:end+1:step), step=optional\n",
        "\n",
        "for i in range(1,10):\n",
        "  print(i)"
      ]
    },
    {
      "cell_type": "code",
      "execution_count": null,
      "metadata": {
        "id": "9LLoU5Eqbt-y"
      },
      "outputs": [],
      "source": [
        "for i in range(10,0,-1):\n",
        "  print(i)"
      ]
    },
    {
      "cell_type": "code",
      "execution_count": null,
      "metadata": {
        "id": "1f1P6us1Y57K"
      },
      "outputs": [],
      "source": [
        "#WHILE : runs till a condition is satisfied\n",
        "\n",
        "a=10\n",
        "while(a>=1):\n",
        "  print(a)\n",
        "  a-=1"
      ]
    },
    {
      "cell_type": "code",
      "execution_count": null,
      "metadata": {
        "id": "nc4iCUBqdqMC"
      },
      "outputs": [],
      "source": [
        "a=1\n",
        "while(a<=5):\n",
        "  a+=1\n",
        "  print(a)"
      ]
    },
    {
      "cell_type": "code",
      "execution_count": null,
      "metadata": {
        "id": "qBevbSSgfrxl"
      },
      "outputs": [],
      "source": [
        "#For : range\n",
        "\n",
        "customers=['Laasya','Mohan','Alisha','Sandhya','Varshith','Ashwini','Madhav']\n",
        "\n",
        "for name in customers:\n",
        "  print(f\"{name} is a customer! :)\")"
      ]
    },
    {
      "cell_type": "code",
      "execution_count": null,
      "metadata": {
        "id": "jHjcjLOBgYTV"
      },
      "outputs": [],
      "source": [
        "#While : condition\n",
        "\n",
        "Pin=\"1234\"\n",
        "attempts=0\n",
        "\n",
        "while attempts < 3:\n",
        "  p=input(\"Enter your PIN: \")\n",
        "  if p == Pin:\n",
        "    print(\"Access granted!\")\n",
        "    break\n",
        "  else:\n",
        "    print(\"Incorrect PIN\")\n",
        "    print(\"Attempts :\" ,attempts+1)\n",
        "    attempts+=1\n",
        "\n",
        "if attempts==3:\n",
        "  print(\"CARD BLOCKED! too many attempts.\")"
      ]
    },
    {
      "cell_type": "code",
      "execution_count": null,
      "metadata": {
        "id": "YtqDccn5i3-G"
      },
      "outputs": [],
      "source": []
    },
    {
      "cell_type": "markdown",
      "metadata": {
        "id": "VOJLHqv3ix0v"
      },
      "source": [
        "#Control Statements"
      ]
    },
    {
      "cell_type": "code",
      "execution_count": null,
      "metadata": {
        "id": "78BtWEsNk3mI"
      },
      "outputs": [],
      "source": [
        "#break : stops the loop forcefully\n",
        "\n",
        "i=1\n",
        "while(i<=10):\n",
        "  if i == 5:\n",
        "    break\n",
        "  print(i)\n",
        "  i+=1"
      ]
    },
    {
      "cell_type": "code",
      "execution_count": null,
      "metadata": {
        "id": "qe4B9WxRl7ob"
      },
      "outputs": [],
      "source": [
        "#Continue : skips the current iteration and goes to the next\n",
        "\n",
        "i=0\n",
        "while(i<10):\n",
        "  i+=1\n",
        "  if i == 5:\n",
        "    continue\n",
        "  print(i)\n"
      ]
    },
    {
      "cell_type": "code",
      "execution_count": null,
      "metadata": {
        "id": "6BJf2a-dqHEc"
      },
      "outputs": [],
      "source": [
        "#Pass : placeholder for code\n",
        "\n",
        "a=1\n",
        "if(a==1):\n",
        "  pass\n",
        "\n",
        "print(a)"
      ]
    },
    {
      "cell_type": "markdown",
      "metadata": {
        "id": "_LyMoHdPkjx2"
      },
      "source": [
        "#Functions:\n",
        "- block of code that performs a specific task\n",
        "- used for code reusability"
      ]
    },
    {
      "cell_type": "code",
      "execution_count": null,
      "metadata": {
        "id": "5Ot9kHfflsgx"
      },
      "outputs": [],
      "source": [
        "def Greet(): #Function declaration\n",
        "  print(\"Hi Learners! :)\") #Function definition\n",
        "Greet() #Function call"
      ]
    },
    {
      "cell_type": "code",
      "execution_count": null,
      "metadata": {
        "id": "AD7uwq3ypqkr"
      },
      "outputs": [],
      "source": [
        "#return: used to exit a function and return a value that can be assigned to a variable or used in any expression\n",
        "#display: only shows the output, can't be used to get/store data and perform functions on it"
      ]
    },
    {
      "cell_type": "code",
      "execution_count": null,
      "metadata": {
        "id": "6R8Wgz8ypVs6"
      },
      "outputs": [],
      "source": [
        "#Type1: no return, no parameter\n",
        "\n",
        "def type1():\n",
        "  print(\"Type 1 function\")\n",
        "type1()"
      ]
    },
    {
      "cell_type": "code",
      "execution_count": null,
      "metadata": {
        "id": "yfKZG4EGr_vU"
      },
      "outputs": [],
      "source": [
        "#Arguments: values given at the time of function call\n",
        "#Parameters: variables that store the values passed through arguments"
      ]
    },
    {
      "cell_type": "code",
      "execution_count": null,
      "metadata": {
        "id": "t1HUpkwGqlkn"
      },
      "outputs": [],
      "source": [
        "#Type2: no return, with parameter\n",
        "\n",
        "def type2(a,b): #a=2, b=3 : parameters\n",
        "  print(a+b)\n",
        "type2(2,3) #arguments"
      ]
    },
    {
      "cell_type": "code",
      "execution_count": null,
      "metadata": {
        "id": "NHsHrGg5seuS"
      },
      "outputs": [],
      "source": [
        "\n",
        "a=int(input(\"Enter first number: \")) #a=3\n",
        "b=int(input(\"Enter second number: \")) #b=4\n",
        "\n",
        "def Sum(a1,b1): #a1=3, b1=4\n",
        "  print(f\"Sum of {a1} and {b1} is {a1+b1}\")\n",
        "Sum(a,b) #parameters"
      ]
    },
    {
      "cell_type": "code",
      "execution_count": null,
      "metadata": {
        "id": "NxVWi5kquqI9"
      },
      "outputs": [],
      "source": [
        "#Type3: with return, no parameter\n",
        "\n",
        "def type3():\n",
        "  return \"Aisha\"\n",
        "type3()\n",
        "# name=type3()\n",
        "# print(name)"
      ]
    },
    {
      "cell_type": "code",
      "execution_count": null,
      "metadata": {
        "id": "vDW8brSCxBNK"
      },
      "outputs": [],
      "source": [
        "#Type4: with return, with parameter\n",
        "\n",
        "def type4(a): #3. parameter\n",
        "  return a  #4. return value\n",
        "\n",
        "name=input(\"Enter name\") #1. user input\n",
        "type4(name) #2. argument"
      ]
    },
    {
      "cell_type": "markdown",
      "metadata": {
        "id": "3CSvQmS11fwL"
      },
      "source": [
        "#HANDS-ON Questions"
      ]
    },
    {
      "cell_type": "markdown",
      "metadata": {
        "id": "BW1I6ejh2yW0"
      },
      "source": [
        "#Basic Billing System\n",
        "\n",
        "**TASK**\n",
        "- Ask the user how many products they want to enter\n",
        "- For each product, input name and price\n",
        "- store in a dictionary\n",
        "- Write a function \"generate_bill(items_dict)\" that:\n",
        "  - prints each item and price\n",
        "  - calculates and prints total bill"
      ]
    },
    {
      "cell_type": "code",
      "execution_count": null,
      "metadata": {
        "id": "iH56_lUg3W7P"
      },
      "outputs": [],
      "source": [
        "def generate_bill(items_dict): #parameter\n",
        "  total= 0\n",
        "  for item, prices in items_dict.items():\n",
        "    print(f\"{item}:{price}\")\n",
        "    total+=price\n",
        "  print(\"Total Bill Generated: \", total)\n",
        "\n",
        "items={}\n",
        "\n",
        "n=int(input(\"How many products do you want?\"))\n",
        "\n",
        "for i in range(n):\n",
        "  name=input(\"Enter product name: \")\n",
        "  price= float(input(\"Enter price\"))\n",
        "  items[name]=price\n",
        "\n",
        "generate_bill(items) #argument"
      ]
    },
    {
      "cell_type": "markdown",
      "metadata": {
        "id": "f8BKYra0zN7T"
      },
      "source": [
        "#Student Report Generator:\n",
        "\n",
        "- Write a program that:\n",
        "  - take names and marks of 5 students as input\n",
        "  - store them in a dictionary\n",
        "  - calculate the average\n",
        "  - prints:\n",
        "     - \"pass\" if marks>=40\n",
        "     - \"fail\" otherwise\n",
        "  - use a function \"print_result(name, mark)\" to display the result\n",
        "  for each student."
      ]
    },
    {
      "cell_type": "code",
      "execution_count": null,
      "metadata": {
        "colab": {
          "base_uri": "https://localhost:8080/"
        },
        "id": "Wvyygy9YABdZ",
        "outputId": "7d941661-275e-4598-b93f-67fed5d73d32"
      },
      "outputs": [
        {
          "name": "stdout",
          "output_type": "stream",
          "text": [
            "Enter student name: a\n",
            "Enter a's marks: 34\n",
            "Enter student name: f\n",
            "Enter f's marks: 70\n",
            "Enter student name: h\n",
            "Enter h's marks: 90\n",
            "Enter student name: n\n",
            "Enter n's marks: 24\n",
            "Enter student name: b\n",
            "Enter b's marks: 67\n",
            "Fail\n",
            "Pass\n",
            "Pass\n",
            "Fail\n",
            "Pass\n",
            "Average marks: 57.0\n"
          ]
        }
      ],
      "source": [
        "def print_result(name,mark):\n",
        "  if mark >= 40:\n",
        "    print(\"Pass\")\n",
        "  else:\n",
        "    print(\"Fail\")\n",
        "\n",
        "students={}\n",
        "\n",
        "for i in range(5):\n",
        "  n=input(\"Enter student name: \")\n",
        "  m=int(input(f\"Enter {n}'s marks: \"))\n",
        "  students[n]=m\n",
        "\n",
        "total=0\n",
        "\n",
        "for na in students:\n",
        "  ma=students[na]\n",
        "  total+=ma\n",
        "  print_result(na,ma)\n",
        "\n",
        "avg=total/5\n",
        "print(f'Average marks: {avg}')\n"
      ]
    },
    {
      "cell_type": "code",
      "execution_count": null,
      "metadata": {
        "colab": {
          "base_uri": "https://localhost:8080/"
        },
        "id": "NfTSamv1zqGr",
        "outputId": "d6e670a4-9fc0-40c7-907c-dfc7549df522"
      },
      "outputs": [
        {
          "name": "stdout",
          "output_type": "stream",
          "text": [
            "Enter the name of student 1: Krish\n",
            "Enter the mark of Krish: 90\n",
            "Enter the name of student 2: A\n",
            "Enter the mark of A: 45\n",
            "Enter the name of student 3: B\n",
            "Enter the mark of B: 70\n",
            "Enter the name of student 4: C\n",
            "Enter the mark of C: 37\n",
            "Enter the name of student 5: D\n",
            "Enter the mark of D: 78\n",
            "\n",
            "Average Marks: 64.0\n",
            "\n",
            "Krish: 90 - Pass\n",
            "A: 45 - Pass\n",
            "B: 70 - Pass\n",
            "C: 37 - Fail\n",
            "D: 78 - Pass\n"
          ]
        }
      ],
      "source": [
        "def print_result(name, mark):\n",
        "    if mark >= 40:\n",
        "        print(f\"{name}: {mark} - Pass\")\n",
        "    else:\n",
        "        print(f\"{name}: {mark} - Fail\")\n",
        "\n",
        "# Take input and store in dictionary\n",
        "students = {}\n",
        "for i in range(5):\n",
        "    name = input(f\"Enter the name of student {i+1}: \")\n",
        "    mark = int(input(f\"Enter the mark of {name}: \"))\n",
        "    students[name] = mark\n",
        "\n",
        "# Calculate average\n",
        "average = sum(students.values()) / len(students)\n",
        "print(f\"\\nAverage Marks: {average}\\n\")\n",
        "\n",
        "# Display result using the function\n",
        "for name, mark in students.items():\n",
        "    print_result(name, mark)"
      ]
    }
  ],
  "metadata": {
    "colab": {
      "provenance": []
    },
    "kernelspec": {
      "display_name": "Python 3",
      "name": "python3"
    },
    "language_info": {
      "name": "python"
    }
  },
  "nbformat": 4,
  "nbformat_minor": 0
}
