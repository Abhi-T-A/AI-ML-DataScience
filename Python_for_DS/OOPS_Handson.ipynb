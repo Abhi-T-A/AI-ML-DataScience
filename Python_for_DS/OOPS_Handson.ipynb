{
  "nbformat": 4,
  "nbformat_minor": 0,
  "metadata": {
    "colab": {
      "provenance": []
    },
    "kernelspec": {
      "name": "python3",
      "display_name": "Python 3"
    },
    "language_info": {
      "name": "python"
    }
  },
  "cells": [
    {
      "cell_type": "markdown",
      "source": [
        "# Good Evening Everyone Guys let's wait for everyone to join the session we will be starting the session by 9:07 PM"
      ],
      "metadata": {
        "id": "3btao-faS4nP"
      }
    },
    {
      "cell_type": "markdown",
      "source": [
        "# Question:1\n",
        "\n",
        "* Design a class BankAccount that has the following attributes:\n",
        "\n",
        "* account_number\n",
        "\n",
        "* account_holder\n",
        "\n",
        "* balance\n",
        "\n",
        "* Add methods:\n",
        "\n",
        "* deposit(amount)\n",
        "\n",
        "* withdraw(amount)\n",
        "\n",
        "* display_balance()\n",
        "\n",
        "* Create an object and demonstrate all methods."
      ],
      "metadata": {
        "id": "Pp0SWz4uM1nq"
      }
    },
    {
      "cell_type": "code",
      "execution_count": null,
      "metadata": {
        "id": "AjgLn1UWMKke"
      },
      "outputs": [],
      "source": [
        "class BankAccount:\n",
        "  def __init__(self,account_number,account_holder,balance = 0):\n",
        "    self.account_number = account_number\n",
        "    self.account_holder = account_holder\n",
        "    self.balance = balance\n",
        "\n",
        "  def deposit(self,amount):\n",
        "    self.balance += amount\n",
        "\n",
        "  def withdraw(self,amount):\n",
        "    if amount <= self.balance:\n",
        "      self.balance -= amount\n",
        "    else:\n",
        "      print(\"Insufficient balance\")\n",
        "\n",
        "  def display_balance(self):\n",
        "    print(f\"Account : {self.account_holder} , Balance : {self.balance}\")\n",
        "\n",
        "acc = BankAccount(\"123432\",\"Alice\",500)"
      ]
    },
    {
      "cell_type": "code",
      "source": [
        "acc.display_balance()"
      ],
      "metadata": {
        "colab": {
          "base_uri": "https://localhost:8080/"
        },
        "id": "k4VwLMjbRr1o",
        "outputId": "9323f038-7bac-41af-f130-9f12f33c9888"
      },
      "execution_count": null,
      "outputs": [
        {
          "output_type": "stream",
          "name": "stdout",
          "text": [
            "Account : Alice , Balance : 500\n"
          ]
        }
      ]
    },
    {
      "cell_type": "code",
      "source": [
        "acc.deposit(200)"
      ],
      "metadata": {
        "id": "x79fhn8VR0Xf"
      },
      "execution_count": null,
      "outputs": []
    },
    {
      "cell_type": "code",
      "source": [
        "acc.display_balance()"
      ],
      "metadata": {
        "colab": {
          "base_uri": "https://localhost:8080/"
        },
        "id": "d1Clol_1R4yd",
        "outputId": "87d00f89-0af4-4832-842a-1488e73c4108"
      },
      "execution_count": null,
      "outputs": [
        {
          "output_type": "stream",
          "name": "stdout",
          "text": [
            "Account : Alice , Balance : 700\n"
          ]
        }
      ]
    },
    {
      "cell_type": "code",
      "source": [
        "acc.withdraw(100)"
      ],
      "metadata": {
        "id": "L1pK-h8fR6qI"
      },
      "execution_count": null,
      "outputs": []
    },
    {
      "cell_type": "code",
      "source": [
        "acc.display_balance()"
      ],
      "metadata": {
        "colab": {
          "base_uri": "https://localhost:8080/"
        },
        "id": "OIVXikYkSGBA",
        "outputId": "4df88a4b-2fe9-490a-c176-678be43af24f"
      },
      "execution_count": null,
      "outputs": [
        {
          "output_type": "stream",
          "name": "stdout",
          "text": [
            "Account : Alice , Balance : 600\n"
          ]
        }
      ]
    },
    {
      "cell_type": "code",
      "source": [
        "class bankaccount:\n",
        "    def __init__(self,account_number,account_holder,balance):\n",
        "        self.account_number=account_number\n",
        "        self.account_holder=account_holder\n",
        "        self.balance=balance\n",
        "\n",
        "\n",
        "    def deposit(self,amount):\n",
        "       self.balance+=amount\n",
        "\n",
        "\n",
        "    def withdraw(self,amount):\n",
        "        self.balance-=amount\n",
        "\n",
        "    def display(self):\n",
        "        return f\"Your current balance is {self.balance}\"\n",
        "\n",
        "\n",
        "a = bankaccount(\"123445\",\"raja\",6789)\n",
        "a.withdraw(500)\n",
        "a.display()"
      ],
      "metadata": {
        "colab": {
          "base_uri": "https://localhost:8080/",
          "height": 36
        },
        "id": "aVU76e34ShAc",
        "outputId": "8cf4d53d-fb1c-42a6-f5e9-9615e2195463"
      },
      "execution_count": null,
      "outputs": [
        {
          "output_type": "execute_result",
          "data": {
            "text/plain": [
              "'Your current balance is 6289'"
            ],
            "application/vnd.google.colaboratory.intrinsic+json": {
              "type": "string"
            }
          },
          "metadata": {},
          "execution_count": 10
        }
      ]
    },
    {
      "cell_type": "markdown",
      "source": [
        "# Question:2\n",
        "\n",
        "* Write a class Rectangle that has attributes: length and width. Add methods to compute:\n",
        "\n",
        "* area()\n",
        "\n",
        "* perimeter()\n",
        "\n",
        "* Instantiate the class and call both methods."
      ],
      "metadata": {
        "id": "3DXGdpisTgg9"
      }
    },
    {
      "cell_type": "code",
      "source": [
        "9:50"
      ],
      "metadata": {
        "id": "T5d9yDAaShEk"
      },
      "execution_count": null,
      "outputs": []
    },
    {
      "cell_type": "code",
      "source": [
        "class Rectangle:\n",
        "  def __init__(self,length,width):\n",
        "    self.length = length\n",
        "    self.width = width\n",
        "\n",
        "  def area(self):\n",
        "    return self.length * self.width\n",
        "\n",
        "  def perimeter(self):\n",
        "    return 2 * (self.length + self.width)\n",
        "\n"
      ],
      "metadata": {
        "id": "d_3IQ2VwShH9"
      },
      "execution_count": null,
      "outputs": []
    },
    {
      "cell_type": "code",
      "source": [
        "rect = Rectangle(10,5)\n",
        "print(rect.area())"
      ],
      "metadata": {
        "colab": {
          "base_uri": "https://localhost:8080/"
        },
        "id": "f4ykmQqcWlOj",
        "outputId": "e3553851-69d0-4255-a15a-dfadeea3a511"
      },
      "execution_count": null,
      "outputs": [
        {
          "output_type": "stream",
          "name": "stdout",
          "text": [
            "50\n"
          ]
        }
      ]
    },
    {
      "cell_type": "code",
      "source": [
        "print(rect.perimeter())"
      ],
      "metadata": {
        "colab": {
          "base_uri": "https://localhost:8080/"
        },
        "id": "m2y8HUBKW_5R",
        "outputId": "11d99b68-e9d9-4d74-b7e1-6e36fb059928"
      },
      "execution_count": null,
      "outputs": [
        {
          "output_type": "stream",
          "name": "stdout",
          "text": [
            "30\n"
          ]
        }
      ]
    },
    {
      "cell_type": "markdown",
      "source": [
        "# Question:3\n",
        "Create a class Person with private attributes __name and __age. Add getter and setter methods for both."
      ],
      "metadata": {
        "id": "Dt2TJsdlXgr_"
      }
    },
    {
      "cell_type": "code",
      "source": [
        "class Person:\n",
        "  def __init__(self,name,age):\n",
        "    self.__name = name\n",
        "    self.__age = age\n",
        "\n",
        "  def get_name(self):\n",
        "    return self.__name\n",
        "\n",
        "  def set_name(self,name):\n",
        "    self.__name = name\n",
        "\n",
        "  def get_age(self):\n",
        "    return self.__age\n",
        "\n",
        "  def set_age(self,age):\n",
        "    if age > 0:\n",
        "      self.__age = age\n",
        "\n"
      ],
      "metadata": {
        "id": "LChg6hGpXFKE"
      },
      "execution_count": null,
      "outputs": []
    },
    {
      "cell_type": "code",
      "source": [
        "p = Person(\"John\",30)"
      ],
      "metadata": {
        "id": "raR08zelX7mG"
      },
      "execution_count": null,
      "outputs": []
    },
    {
      "cell_type": "code",
      "source": [
        "p.set_age(35)"
      ],
      "metadata": {
        "id": "nKn56jYfYCG2"
      },
      "execution_count": null,
      "outputs": []
    },
    {
      "cell_type": "code",
      "source": [
        "p.get_name()"
      ],
      "metadata": {
        "colab": {
          "base_uri": "https://localhost:8080/",
          "height": 36
        },
        "id": "2V9UUAYsYEma",
        "outputId": "a7b8e78c-34c8-466e-a3d7-aa81792d9b8d"
      },
      "execution_count": null,
      "outputs": [
        {
          "output_type": "execute_result",
          "data": {
            "text/plain": [
              "'John'"
            ],
            "application/vnd.google.colaboratory.intrinsic+json": {
              "type": "string"
            }
          },
          "metadata": {},
          "execution_count": 24
        }
      ]
    },
    {
      "cell_type": "code",
      "source": [
        "p.get_age()"
      ],
      "metadata": {
        "colab": {
          "base_uri": "https://localhost:8080/"
        },
        "id": "X6LgVC7wa6aS",
        "outputId": "30e3e6ed-8696-428a-cb6a-0aa122daf20b"
      },
      "execution_count": null,
      "outputs": [
        {
          "output_type": "execute_result",
          "data": {
            "text/plain": [
              "35"
            ]
          },
          "metadata": {},
          "execution_count": 25
        }
      ]
    },
    {
      "cell_type": "markdown",
      "source": [
        "# Question: 4\n",
        "Create a base class Animal with method speak(). Inherit it in Dog and Cat classes and override the speak() method in each."
      ],
      "metadata": {
        "id": "oeSc-0T6X2jN"
      }
    },
    {
      "cell_type": "code",
      "source": [
        "class Animal:\n",
        "  def speak(self):\n",
        "    print(\"Animal speaks\")\n",
        "\n",
        "class Dog(Animal):\n",
        "  def speak(self):\n",
        "    print(\"Barking\")\n",
        "\n",
        "class Cat(Animal):\n",
        "  def speak(self):\n",
        "    print(\"Meow\")"
      ],
      "metadata": {
        "id": "c1RXc2vnbE6K"
      },
      "execution_count": null,
      "outputs": []
    },
    {
      "cell_type": "code",
      "source": [
        "dog = Dog()\n",
        "cat = Cat()\n",
        "dog.speak()"
      ],
      "metadata": {
        "colab": {
          "base_uri": "https://localhost:8080/"
        },
        "id": "w3yv6jGybNx1",
        "outputId": "565a35a7-40c3-4adc-a0fd-8b163cdff18f"
      },
      "execution_count": null,
      "outputs": [
        {
          "output_type": "stream",
          "name": "stdout",
          "text": [
            "Barking\n"
          ]
        }
      ]
    },
    {
      "cell_type": "code",
      "source": [
        "cat.speak()"
      ],
      "metadata": {
        "colab": {
          "base_uri": "https://localhost:8080/"
        },
        "id": "z2cmBAzed8zr",
        "outputId": "a6783196-a5f5-4326-bafd-8b5d5a40d9f1"
      },
      "execution_count": null,
      "outputs": [
        {
          "output_type": "stream",
          "name": "stdout",
          "text": [
            "Meow\n"
          ]
        }
      ]
    },
    {
      "cell_type": "markdown",
      "source": [
        "Create a class Student with class variable school_name and instance variables name and grade. Create two objects and print their school name."
      ],
      "metadata": {
        "id": "L11uDqFAeKPI"
      }
    },
    {
      "cell_type": "markdown",
      "source": [
        "# Question 5\n",
        "\n",
        "\n",
        "You are designing a system for a library. Create a base class LibraryItem with common attributes like title, author, and id. Derive two classes Book and Magazine from it. Each derived class should override a display_info() method to show specific info."
      ],
      "metadata": {
        "id": "8XDjC27oXMvi"
      }
    },
    {
      "cell_type": "code",
      "source": [
        "class LibraryItem:\n",
        "  def __init__(self,title,author,item_id):\n",
        "    self.title = title\n",
        "    self.author = author\n",
        "    self.item_id = item_id\n",
        "\n",
        "    def display_info(self):\n",
        "      print(f\"Title : {self.title} , Author : {self.author} , ID : {self.item_id}\")\n",
        "\n",
        "class Book(LibraryItem):\n",
        "  def display_info(self):\n",
        "     print(f\"Book : {self.title} by {self.author} (ID : {self.item_id})\")\n",
        "\n",
        "class Magazine(LibraryItem):\n",
        "  def display_info(self):\n",
        "    print(f\"Magazine  - {self.title} , Editor : {self.author} (ID : {self.item_id})\")\n"
      ],
      "metadata": {
        "id": "GHbAyjNZeAa6"
      },
      "execution_count": null,
      "outputs": []
    },
    {
      "cell_type": "code",
      "source": [
        "b = Book(\"Alchemist\",\"paul coehelo\", 102)\n",
        "\n"
      ],
      "metadata": {
        "id": "PNlR7IsTbuE0"
      },
      "execution_count": null,
      "outputs": []
    },
    {
      "cell_type": "code",
      "source": [
        "b.display_info()"
      ],
      "metadata": {
        "colab": {
          "base_uri": "https://localhost:8080/"
        },
        "id": "_LAdjVAHbuBQ",
        "outputId": "be21c9df-ce14-477c-dce8-26b95221068c"
      },
      "execution_count": null,
      "outputs": [
        {
          "output_type": "stream",
          "name": "stdout",
          "text": [
            "Book : Alchemist by paul coehelo (ID : 102)\n"
          ]
        }
      ]
    },
    {
      "cell_type": "code",
      "source": [
        "m = Magazine(\"Time\",\"John Doe\",123)"
      ],
      "metadata": {
        "id": "dY3XrRYLbt2r"
      },
      "execution_count": null,
      "outputs": []
    },
    {
      "cell_type": "code",
      "source": [
        "m.display_info()"
      ],
      "metadata": {
        "colab": {
          "base_uri": "https://localhost:8080/"
        },
        "id": "A2FSxTvWbtrF",
        "outputId": "2353afa5-00a4-449e-c736-3d5645033efb"
      },
      "execution_count": null,
      "outputs": [
        {
          "output_type": "stream",
          "name": "stdout",
          "text": [
            "Magazine  - Time , Editor : John Doe (ID : 123)\n"
          ]
        }
      ]
    },
    {
      "cell_type": "markdown",
      "source": [
        "# Question : 6\n",
        "\n",
        "Create a class Employee with a method calculate_bonus(). Derive two classes: Manager and Developer, each overriding calculate_bonus() differently. Demonstrate polymorphism by calling this method for a list of employees."
      ],
      "metadata": {
        "id": "I5gEd_ZacYAl"
      }
    },
    {
      "cell_type": "code",
      "source": [
        "class Employee:\n",
        "  def calculate_bonus(self):\n",
        "    return 0\n",
        "\n",
        "class Manager(Employee):\n",
        "  def calculate_bonus(self):\n",
        "    return 1000\n",
        "\n",
        "class Developer(Employee):\n",
        "  def calculate_bonus(self):\n",
        "    return 500"
      ],
      "metadata": {
        "id": "LUNh5AXecOS-"
      },
      "execution_count": null,
      "outputs": []
    },
    {
      "cell_type": "code",
      "source": [
        "emp = Manager()"
      ],
      "metadata": {
        "id": "_h1KVqXggI8O"
      },
      "execution_count": null,
      "outputs": []
    },
    {
      "cell_type": "code",
      "source": [
        "emp.calculate_bonus()"
      ],
      "metadata": {
        "colab": {
          "base_uri": "https://localhost:8080/"
        },
        "id": "1u1d2fb1gIx-",
        "outputId": "ee696a81-560f-4865-cc8f-f63fcc334497"
      },
      "execution_count": null,
      "outputs": [
        {
          "output_type": "execute_result",
          "data": {
            "text/plain": [
              "1000"
            ]
          },
          "metadata": {},
          "execution_count": 10
        }
      ]
    },
    {
      "cell_type": "code",
      "source": [
        "employee = [Manager(),Developer(),Developer()]\n",
        "\n",
        "for emp in employee:\n",
        "  print(emp.calculate_bonus())"
      ],
      "metadata": {
        "colab": {
          "base_uri": "https://localhost:8080/"
        },
        "id": "xwALx0epgISv",
        "outputId": "789948bd-bc60-486a-e74e-3e8633853b1e"
      },
      "execution_count": null,
      "outputs": [
        {
          "output_type": "stream",
          "name": "stdout",
          "text": [
            "1000\n",
            "500\n",
            "500\n"
          ]
        }
      ]
    },
    {
      "cell_type": "markdown",
      "source": [
        "# Question 7\n",
        "\n",
        "Create a class Student and another class Course. A student can enroll in multiple courses. Model this using composition, i.e., include a list of Course objects inside the Student class. Implement a method to display all course names a student is enrolled in."
      ],
      "metadata": {
        "id": "cMXzrP5Agls8"
      }
    },
    {
      "cell_type": "code",
      "source": [
        "class Student:\n",
        "  def __init__(self,name):\n",
        "    self.name = name\n",
        "    self.courses = []\n",
        "\n",
        "  def enroll(self,course_name):\n",
        "    self.courses.append(course_name)\n",
        "\n",
        "  def list_courses(self):\n",
        "    for course in self.courses:\n",
        "      print(course)"
      ],
      "metadata": {
        "id": "lAqvW7Goglbe"
      },
      "execution_count": null,
      "outputs": []
    },
    {
      "cell_type": "code",
      "source": [
        "s = Student(\"Alice\")\n",
        "s.enroll(\"Math\")\n",
        "s.enroll(\"Science\")"
      ],
      "metadata": {
        "id": "b9GXwss6glX0"
      },
      "execution_count": null,
      "outputs": []
    },
    {
      "cell_type": "code",
      "source": [
        "s.list_courses()"
      ],
      "metadata": {
        "colab": {
          "base_uri": "https://localhost:8080/"
        },
        "id": "UT4oYgAaglK4",
        "outputId": "13c617b1-6bd5-4e19-f596-1067f9d88dd0"
      },
      "execution_count": null,
      "outputs": [
        {
          "output_type": "stream",
          "name": "stdout",
          "text": [
            "Math\n",
            "Science\n"
          ]
        }
      ]
    },
    {
      "cell_type": "code",
      "source": [
        "class Course:\n",
        "  def __init__(self,course_name):\n",
        "    self.course_name = course_name\n",
        "\n",
        "class Student:\n",
        "  def __init__(self,name):\n",
        "    self.name = name\n",
        "    self.courses = []\n",
        "\n",
        "  def enroll(self,course):\n",
        "    self.courses.append(course)\n",
        "\n",
        "  def list_courses(self):\n",
        "    for course in self.courses:\n",
        "      print(course.course_name)"
      ],
      "metadata": {
        "id": "f-zniR4NglHg"
      },
      "execution_count": null,
      "outputs": []
    },
    {
      "cell_type": "code",
      "source": [
        "s = Student(\"Alice\")\n",
        "c1 = Course(\"Math\")\n",
        "c2 = Course(\"science\")"
      ],
      "metadata": {
        "id": "hewny5GiglEI"
      },
      "execution_count": null,
      "outputs": []
    },
    {
      "cell_type": "code",
      "source": [
        "s.enroll(c1)\n",
        "s.enroll(c2)"
      ],
      "metadata": {
        "id": "mP72zmeIka_r"
      },
      "execution_count": null,
      "outputs": []
    },
    {
      "cell_type": "code",
      "source": [
        "s.list_courses()"
      ],
      "metadata": {
        "colab": {
          "base_uri": "https://localhost:8080/"
        },
        "id": "VrK5d2SskyK6",
        "outputId": "e83054d6-7de7-45fb-852d-9ebd185b0fa9"
      },
      "execution_count": null,
      "outputs": [
        {
          "output_type": "stream",
          "name": "stdout",
          "text": [
            "Math\n",
            "science\n"
          ]
        }
      ]
    },
    {
      "cell_type": "markdown",
      "source": [
        "# Question 8:\n",
        "\n",
        "Design a ride booking system with an abstract class Ride having an abstract method calculate_fare(). Create two concrete classes BikeRide and CarRide implementing this method differently. Use Python's abc module."
      ],
      "metadata": {
        "id": "3bfw3il4k_ND"
      }
    },
    {
      "cell_type": "code",
      "source": [
        "from abc import ABC , abstractmethod\n",
        "\n",
        "class Ride(ABC):\n",
        "  @abstractmethod\n",
        "  def calculate_fare(self,distance):\n",
        "    pass\n",
        "\n",
        "class BikeRide(Ride):\n",
        "  def calculate_fare(self, distance):\n",
        "    return distance * 5\n",
        "\n",
        "class CarRide(Ride):\n",
        "  def calculate_fare(self,distance):\n",
        "    return distance * 10"
      ],
      "metadata": {
        "id": "kOAAav-VkzkT"
      },
      "execution_count": null,
      "outputs": []
    },
    {
      "cell_type": "code",
      "source": [
        "b = BikeRide()\n",
        "c = CarRide()"
      ],
      "metadata": {
        "id": "EseJMys0n-CE"
      },
      "execution_count": null,
      "outputs": []
    },
    {
      "cell_type": "code",
      "source": [
        "b.calculate_fare(10)"
      ],
      "metadata": {
        "colab": {
          "base_uri": "https://localhost:8080/"
        },
        "id": "ZOguBhvbn9-q",
        "outputId": "7ba0363e-995e-4fc3-8b65-98d6a4f39c1a"
      },
      "execution_count": null,
      "outputs": [
        {
          "output_type": "execute_result",
          "data": {
            "text/plain": [
              "50"
            ]
          },
          "metadata": {},
          "execution_count": 26
        }
      ]
    },
    {
      "cell_type": "code",
      "source": [
        "c.calculate_fare(10)"
      ],
      "metadata": {
        "colab": {
          "base_uri": "https://localhost:8080/"
        },
        "id": "1ntZo75tn97K",
        "outputId": "fa0b718c-bec0-4131-f210-a6f22aaf07c8"
      },
      "execution_count": null,
      "outputs": [
        {
          "output_type": "execute_result",
          "data": {
            "text/plain": [
              "100"
            ]
          },
          "metadata": {},
          "execution_count": 27
        }
      ]
    },
    {
      "cell_type": "code",
      "source": [],
      "metadata": {
        "id": "u5PooA_kn9rl"
      },
      "execution_count": null,
      "outputs": []
    },
    {
      "cell_type": "code",
      "source": [],
      "metadata": {
        "id": "JkLtXGlooNRT"
      },
      "execution_count": null,
      "outputs": []
    }
  ]
}