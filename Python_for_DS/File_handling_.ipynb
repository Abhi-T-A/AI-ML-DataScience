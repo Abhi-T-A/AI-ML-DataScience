{
  "nbformat": 4,
  "nbformat_minor": 0,
  "metadata": {
    "colab": {
      "provenance": []
    },
    "kernelspec": {
      "name": "python3",
      "display_name": "Python 3"
    },
    "language_info": {
      "name": "python"
    }
  },
  "cells": [
    {
      "cell_type": "markdown",
      "source": [
        "# File handling in python allows you to create , read write , and delete files . It is essential for task like reading data from a text files ."
      ],
      "metadata": {
        "id": "MrGc8zwwqD5p"
      }
    },
    {
      "cell_type": "markdown",
      "source": [
        "# Opening a file"
      ],
      "metadata": {
        "id": "85STqScpqtxD"
      }
    },
    {
      "cell_type": "markdown",
      "source": [
        "Use the built - in open() function"
      ],
      "metadata": {
        "id": "ZKxQJdv6qwqf"
      }
    },
    {
      "cell_type": "markdown",
      "source": [
        "# To make a .txt file"
      ],
      "metadata": {
        "id": "yPF7dFfZsrwz"
      }
    },
    {
      "cell_type": "markdown",
      "source": [],
      "metadata": {
        "id": "kGx4xNg53Zs9"
      }
    },
    {
      "cell_type": "code",
      "source": [
        "from google.colab import files\n",
        "\n",
        "uploaded = files.upload()  # Choose a file from your computer\n"
      ],
      "metadata": {
        "colab": {
          "base_uri": "https://localhost:8080/",
          "height": 73
        },
        "id": "3dpiTxIqq-By",
        "outputId": "bd3d5bb6-b495-4413-fbea-58d6f2c0b70f"
      },
      "execution_count": null,
      "outputs": [
        {
          "output_type": "display_data",
          "data": {
            "text/plain": [
              "<IPython.core.display.HTML object>"
            ],
            "text/html": [
              "\n",
              "     <input type=\"file\" id=\"files-10c1bb56-5490-4ed0-8151-b7c0cd3fc066\" name=\"files[]\" multiple disabled\n",
              "        style=\"border:none\" />\n",
              "     <output id=\"result-10c1bb56-5490-4ed0-8151-b7c0cd3fc066\">\n",
              "      Upload widget is only available when the cell has been executed in the\n",
              "      current browser session. Please rerun this cell to enable.\n",
              "      </output>\n",
              "      <script>// Copyright 2017 Google LLC\n",
              "//\n",
              "// Licensed under the Apache License, Version 2.0 (the \"License\");\n",
              "// you may not use this file except in compliance with the License.\n",
              "// You may obtain a copy of the License at\n",
              "//\n",
              "//      http://www.apache.org/licenses/LICENSE-2.0\n",
              "//\n",
              "// Unless required by applicable law or agreed to in writing, software\n",
              "// distributed under the License is distributed on an \"AS IS\" BASIS,\n",
              "// WITHOUT WARRANTIES OR CONDITIONS OF ANY KIND, either express or implied.\n",
              "// See the License for the specific language governing permissions and\n",
              "// limitations under the License.\n",
              "\n",
              "/**\n",
              " * @fileoverview Helpers for google.colab Python module.\n",
              " */\n",
              "(function(scope) {\n",
              "function span(text, styleAttributes = {}) {\n",
              "  const element = document.createElement('span');\n",
              "  element.textContent = text;\n",
              "  for (const key of Object.keys(styleAttributes)) {\n",
              "    element.style[key] = styleAttributes[key];\n",
              "  }\n",
              "  return element;\n",
              "}\n",
              "\n",
              "// Max number of bytes which will be uploaded at a time.\n",
              "const MAX_PAYLOAD_SIZE = 100 * 1024;\n",
              "\n",
              "function _uploadFiles(inputId, outputId) {\n",
              "  const steps = uploadFilesStep(inputId, outputId);\n",
              "  const outputElement = document.getElementById(outputId);\n",
              "  // Cache steps on the outputElement to make it available for the next call\n",
              "  // to uploadFilesContinue from Python.\n",
              "  outputElement.steps = steps;\n",
              "\n",
              "  return _uploadFilesContinue(outputId);\n",
              "}\n",
              "\n",
              "// This is roughly an async generator (not supported in the browser yet),\n",
              "// where there are multiple asynchronous steps and the Python side is going\n",
              "// to poll for completion of each step.\n",
              "// This uses a Promise to block the python side on completion of each step,\n",
              "// then passes the result of the previous step as the input to the next step.\n",
              "function _uploadFilesContinue(outputId) {\n",
              "  const outputElement = document.getElementById(outputId);\n",
              "  const steps = outputElement.steps;\n",
              "\n",
              "  const next = steps.next(outputElement.lastPromiseValue);\n",
              "  return Promise.resolve(next.value.promise).then((value) => {\n",
              "    // Cache the last promise value to make it available to the next\n",
              "    // step of the generator.\n",
              "    outputElement.lastPromiseValue = value;\n",
              "    return next.value.response;\n",
              "  });\n",
              "}\n",
              "\n",
              "/**\n",
              " * Generator function which is called between each async step of the upload\n",
              " * process.\n",
              " * @param {string} inputId Element ID of the input file picker element.\n",
              " * @param {string} outputId Element ID of the output display.\n",
              " * @return {!Iterable<!Object>} Iterable of next steps.\n",
              " */\n",
              "function* uploadFilesStep(inputId, outputId) {\n",
              "  const inputElement = document.getElementById(inputId);\n",
              "  inputElement.disabled = false;\n",
              "\n",
              "  const outputElement = document.getElementById(outputId);\n",
              "  outputElement.innerHTML = '';\n",
              "\n",
              "  const pickedPromise = new Promise((resolve) => {\n",
              "    inputElement.addEventListener('change', (e) => {\n",
              "      resolve(e.target.files);\n",
              "    });\n",
              "  });\n",
              "\n",
              "  const cancel = document.createElement('button');\n",
              "  inputElement.parentElement.appendChild(cancel);\n",
              "  cancel.textContent = 'Cancel upload';\n",
              "  const cancelPromise = new Promise((resolve) => {\n",
              "    cancel.onclick = () => {\n",
              "      resolve(null);\n",
              "    };\n",
              "  });\n",
              "\n",
              "  // Wait for the user to pick the files.\n",
              "  const files = yield {\n",
              "    promise: Promise.race([pickedPromise, cancelPromise]),\n",
              "    response: {\n",
              "      action: 'starting',\n",
              "    }\n",
              "  };\n",
              "\n",
              "  cancel.remove();\n",
              "\n",
              "  // Disable the input element since further picks are not allowed.\n",
              "  inputElement.disabled = true;\n",
              "\n",
              "  if (!files) {\n",
              "    return {\n",
              "      response: {\n",
              "        action: 'complete',\n",
              "      }\n",
              "    };\n",
              "  }\n",
              "\n",
              "  for (const file of files) {\n",
              "    const li = document.createElement('li');\n",
              "    li.append(span(file.name, {fontWeight: 'bold'}));\n",
              "    li.append(span(\n",
              "        `(${file.type || 'n/a'}) - ${file.size} bytes, ` +\n",
              "        `last modified: ${\n",
              "            file.lastModifiedDate ? file.lastModifiedDate.toLocaleDateString() :\n",
              "                                    'n/a'} - `));\n",
              "    const percent = span('0% done');\n",
              "    li.appendChild(percent);\n",
              "\n",
              "    outputElement.appendChild(li);\n",
              "\n",
              "    const fileDataPromise = new Promise((resolve) => {\n",
              "      const reader = new FileReader();\n",
              "      reader.onload = (e) => {\n",
              "        resolve(e.target.result);\n",
              "      };\n",
              "      reader.readAsArrayBuffer(file);\n",
              "    });\n",
              "    // Wait for the data to be ready.\n",
              "    let fileData = yield {\n",
              "      promise: fileDataPromise,\n",
              "      response: {\n",
              "        action: 'continue',\n",
              "      }\n",
              "    };\n",
              "\n",
              "    // Use a chunked sending to avoid message size limits. See b/62115660.\n",
              "    let position = 0;\n",
              "    do {\n",
              "      const length = Math.min(fileData.byteLength - position, MAX_PAYLOAD_SIZE);\n",
              "      const chunk = new Uint8Array(fileData, position, length);\n",
              "      position += length;\n",
              "\n",
              "      const base64 = btoa(String.fromCharCode.apply(null, chunk));\n",
              "      yield {\n",
              "        response: {\n",
              "          action: 'append',\n",
              "          file: file.name,\n",
              "          data: base64,\n",
              "        },\n",
              "      };\n",
              "\n",
              "      let percentDone = fileData.byteLength === 0 ?\n",
              "          100 :\n",
              "          Math.round((position / fileData.byteLength) * 100);\n",
              "      percent.textContent = `${percentDone}% done`;\n",
              "\n",
              "    } while (position < fileData.byteLength);\n",
              "  }\n",
              "\n",
              "  // All done.\n",
              "  yield {\n",
              "    response: {\n",
              "      action: 'complete',\n",
              "    }\n",
              "  };\n",
              "}\n",
              "\n",
              "scope.google = scope.google || {};\n",
              "scope.google.colab = scope.google.colab || {};\n",
              "scope.google.colab._files = {\n",
              "  _uploadFiles,\n",
              "  _uploadFilesContinue,\n",
              "};\n",
              "})(self);\n",
              "</script> "
            ]
          },
          "metadata": {}
        },
        {
          "output_type": "stream",
          "name": "stdout",
          "text": [
            "Saving example.txt to example (1).txt\n"
          ]
        }
      ]
    },
    {
      "cell_type": "markdown",
      "source": [
        "# Reading the file"
      ],
      "metadata": {
        "id": "2n8F3fAgvhJP"
      }
    },
    {
      "cell_type": "code",
      "execution_count": null,
      "metadata": {
        "id": "LR02NCbCpGrI"
      },
      "outputs": [],
      "source": [
        "file = open(\"example.txt\",\"r\")  # 'r', 'w','a','x','b'"
      ]
    },
    {
      "cell_type": "code",
      "source": [
        "file"
      ],
      "metadata": {
        "colab": {
          "base_uri": "https://localhost:8080/"
        },
        "id": "QQ97GOr6q8_R",
        "outputId": "48d63ab0-413d-4be2-ca14-e494e8cc69a9"
      },
      "execution_count": null,
      "outputs": [
        {
          "output_type": "execute_result",
          "data": {
            "text/plain": [
              "<_io.TextIOWrapper name='example.txt' mode='r' encoding='utf-8'>"
            ]
          },
          "metadata": {},
          "execution_count": 7
        }
      ]
    },
    {
      "cell_type": "markdown",
      "source": [
        "# Modes\n",
        "\n",
        "* 'r' -> Read (default), file must exist\n",
        "\n",
        "* 'w' -> write , creates a file or truncates if it exist\n",
        "\n",
        "* 'a' - append , create file if not exit\n",
        "\n",
        "* 'x' - create , fails if file axist\n",
        "\n",
        "* 'b' - binary mode (eg ; 'rb' ,'wb')"
      ],
      "metadata": {
        "id": "2MLmIe70rrSF"
      }
    },
    {
      "cell_type": "markdown",
      "source": [],
      "metadata": {
        "id": "cPE9l8f1vfjE"
      }
    },
    {
      "cell_type": "code",
      "source": [
        "content = file.read()"
      ],
      "metadata": {
        "id": "nUthpkDhriWU"
      },
      "execution_count": null,
      "outputs": []
    },
    {
      "cell_type": "code",
      "source": [
        "content"
      ],
      "metadata": {
        "colab": {
          "base_uri": "https://localhost:8080/",
          "height": 36
        },
        "id": "ENNvQ7sZrL9O",
        "outputId": "35065374-0bed-44ed-d081-bc0585cea248"
      },
      "execution_count": null,
      "outputs": [
        {
          "output_type": "execute_result",
          "data": {
            "text/plain": [
              "'billy molly runs up the hill !!'"
            ],
            "application/vnd.google.colaboratory.intrinsic+json": {
              "type": "string"
            }
          },
          "metadata": {},
          "execution_count": 9
        }
      ]
    },
    {
      "cell_type": "markdown",
      "source": [
        "# writing to a file"
      ],
      "metadata": {
        "id": "W8dkxcUevla7"
      }
    },
    {
      "cell_type": "code",
      "source": [
        "file = open(\"example.txt\",'w')"
      ],
      "metadata": {
        "id": "U2Ai_6GZt8Oq"
      },
      "execution_count": null,
      "outputs": []
    },
    {
      "cell_type": "code",
      "source": [
        "file.write(\"hello world\")"
      ],
      "metadata": {
        "colab": {
          "base_uri": "https://localhost:8080/"
        },
        "id": "et_cTacwucrF",
        "outputId": "dce2deed-83d2-41a5-9cfd-e81d94d6af76"
      },
      "execution_count": null,
      "outputs": [
        {
          "output_type": "execute_result",
          "data": {
            "text/plain": [
              "11"
            ]
          },
          "metadata": {},
          "execution_count": 13
        }
      ]
    },
    {
      "cell_type": "markdown",
      "source": [
        "# The write() function in python return the number of characters written to the file"
      ],
      "metadata": {
        "id": "NMik9jIJvFLB"
      }
    },
    {
      "cell_type": "code",
      "source": [
        "file = open(\"example.txt\",'r')"
      ],
      "metadata": {
        "id": "D52Vqx_Outvk"
      },
      "execution_count": null,
      "outputs": []
    },
    {
      "cell_type": "code",
      "source": [
        "content = file.read()"
      ],
      "metadata": {
        "id": "REKi8_FyuzVM"
      },
      "execution_count": null,
      "outputs": []
    },
    {
      "cell_type": "code",
      "source": [
        "content"
      ],
      "metadata": {
        "colab": {
          "base_uri": "https://localhost:8080/",
          "height": 36
        },
        "id": "smypZiyNu1TH",
        "outputId": "fd64ce21-60a3-4416-9c9d-c2d06a22bd5a"
      },
      "execution_count": null,
      "outputs": [
        {
          "output_type": "execute_result",
          "data": {
            "text/plain": [
              "'hello world'"
            ],
            "application/vnd.google.colaboratory.intrinsic+json": {
              "type": "string"
            }
          },
          "metadata": {},
          "execution_count": 16
        }
      ]
    },
    {
      "cell_type": "markdown",
      "source": [],
      "metadata": {
        "id": "1ocdszNXvp28"
      }
    },
    {
      "cell_type": "code",
      "source": [
        "with open(\"example.txt\",'w') as file:\n",
        "  file.write(\"This is a paragraph it has multiple sentences . \\nsecond line here\")"
      ],
      "metadata": {
        "id": "qgulV-3vu2Ep"
      },
      "execution_count": null,
      "outputs": []
    },
    {
      "cell_type": "code",
      "source": [
        "file = open(\"example.txt\",'r')"
      ],
      "metadata": {
        "id": "sl38PgqAwF9v"
      },
      "execution_count": null,
      "outputs": []
    },
    {
      "cell_type": "code",
      "source": [
        "content = file.read()"
      ],
      "metadata": {
        "id": "y9fCUTdFwILm"
      },
      "execution_count": null,
      "outputs": []
    },
    {
      "cell_type": "code",
      "source": [
        "content"
      ],
      "metadata": {
        "colab": {
          "base_uri": "https://localhost:8080/",
          "height": 36
        },
        "id": "EyxEu9CiwJ4Y",
        "outputId": "10e5398c-8033-42e0-dafa-50b5eefe3e1d"
      },
      "execution_count": null,
      "outputs": [
        {
          "output_type": "execute_result",
          "data": {
            "text/plain": [
              "'This is a paragraph it has multiple sentences . \\nsecond line here'"
            ],
            "application/vnd.google.colaboratory.intrinsic+json": {
              "type": "string"
            }
          },
          "metadata": {},
          "execution_count": 20
        }
      ]
    },
    {
      "cell_type": "code",
      "source": [
        "with open(\"example.txt\",'w') as file:\n",
        "  file.write(\"New line\")"
      ],
      "metadata": {
        "id": "lsYsPoPlwKse"
      },
      "execution_count": null,
      "outputs": []
    },
    {
      "cell_type": "code",
      "source": [
        "file = open(\"example.txt\",'r')"
      ],
      "metadata": {
        "id": "pbX0UExWwXNv"
      },
      "execution_count": null,
      "outputs": []
    },
    {
      "cell_type": "code",
      "source": [
        "content = file.read()"
      ],
      "metadata": {
        "id": "PNR--MqdwYyN"
      },
      "execution_count": null,
      "outputs": []
    },
    {
      "cell_type": "code",
      "source": [
        "content"
      ],
      "metadata": {
        "colab": {
          "base_uri": "https://localhost:8080/",
          "height": 36
        },
        "id": "qza4ZeFEwagA",
        "outputId": "770ef4e6-5677-4312-f09f-01012ecdccb4"
      },
      "execution_count": null,
      "outputs": [
        {
          "output_type": "execute_result",
          "data": {
            "text/plain": [
              "'New line'"
            ],
            "application/vnd.google.colaboratory.intrinsic+json": {
              "type": "string"
            }
          },
          "metadata": {},
          "execution_count": 24
        }
      ]
    },
    {
      "cell_type": "code",
      "source": [
        "with open(\"example.txt\",\"a\") as file:\n",
        "  file.write(\"\\nAdding this after the paragraph\")"
      ],
      "metadata": {
        "id": "4F9b6qnXwbUC"
      },
      "execution_count": null,
      "outputs": []
    },
    {
      "cell_type": "code",
      "source": [
        "file = open(\"example.txt\",'r')"
      ],
      "metadata": {
        "id": "X4bJZunswnRE"
      },
      "execution_count": null,
      "outputs": []
    },
    {
      "cell_type": "code",
      "source": [
        "content = file.read()"
      ],
      "metadata": {
        "id": "gt9FXnV5wpJH"
      },
      "execution_count": null,
      "outputs": []
    },
    {
      "cell_type": "code",
      "source": [
        "content"
      ],
      "metadata": {
        "colab": {
          "base_uri": "https://localhost:8080/",
          "height": 36
        },
        "id": "vzYXnJeVwquC",
        "outputId": "4cbf2a07-2fdf-41ed-9e7b-e2d5b0c593f8"
      },
      "execution_count": null,
      "outputs": [
        {
          "output_type": "execute_result",
          "data": {
            "text/plain": [
              "'New line\\nAdding this after the paragraph'"
            ],
            "application/vnd.google.colaboratory.intrinsic+json": {
              "type": "string"
            }
          },
          "metadata": {},
          "execution_count": 28
        }
      ]
    },
    {
      "cell_type": "markdown",
      "source": [
        "use 'w' to write / overwrite\n",
        "\n",
        "use 'a' to add more text\n",
        "\n",
        "use read() to get the whole content"
      ],
      "metadata": {
        "id": "6dXVoF1ow3K4"
      }
    },
    {
      "cell_type": "code",
      "source": [
        "# file.close()"
      ],
      "metadata": {
        "id": "85n_W9aiwryS"
      },
      "execution_count": null,
      "outputs": []
    },
    {
      "cell_type": "code",
      "source": [
        "with open(\"example.txt\",'r') as file:\n",
        "  data = file.read()"
      ],
      "metadata": {
        "id": "K2dnvJEyy1MM"
      },
      "execution_count": null,
      "outputs": []
    },
    {
      "cell_type": "code",
      "source": [
        "data"
      ],
      "metadata": {
        "colab": {
          "base_uri": "https://localhost:8080/",
          "height": 36
        },
        "id": "3QmZ9K4E161I",
        "outputId": "8981cb31-f2fb-4a9d-bc11-bb879b4c06c8"
      },
      "execution_count": null,
      "outputs": [
        {
          "output_type": "execute_result",
          "data": {
            "text/plain": [
              "'New line\\nAdding this after the paragraph'"
            ],
            "application/vnd.google.colaboratory.intrinsic+json": {
              "type": "string"
            }
          },
          "metadata": {},
          "execution_count": 30
        }
      ]
    },
    {
      "cell_type": "markdown",
      "source": [
        "# Check if file exists"
      ],
      "metadata": {
        "id": "Pu-DwFYy2I90"
      }
    },
    {
      "cell_type": "code",
      "source": [
        "import os\n",
        "\n",
        "if os.path.exists(\"example.txt\"):\n",
        "  print(\"File exists\")\n",
        "else:\n",
        "  print(\"File not found\")"
      ],
      "metadata": {
        "colab": {
          "base_uri": "https://localhost:8080/"
        },
        "id": "TQOQtVis17gX",
        "outputId": "af6ddc8b-b8df-467a-9b84-56aaadfdee70"
      },
      "execution_count": null,
      "outputs": [
        {
          "output_type": "stream",
          "name": "stdout",
          "text": [
            "File exists\n"
          ]
        }
      ]
    },
    {
      "cell_type": "markdown",
      "source": [
        "# Delete a file"
      ],
      "metadata": {
        "id": "PJOU8rnC2_cc"
      }
    },
    {
      "cell_type": "code",
      "source": [
        "import os\n",
        "os.remove(\"example.txt\")"
      ],
      "metadata": {
        "id": "f4zk6W7b2zrZ"
      },
      "execution_count": null,
      "outputs": []
    },
    {
      "cell_type": "code",
      "source": [
        "import os\n",
        "\n",
        "if os.path.exists(\"example.txt\"):\n",
        "  print(\"File exists\")\n",
        "else:\n",
        "  print(\"File not found\")"
      ],
      "metadata": {
        "colab": {
          "base_uri": "https://localhost:8080/"
        },
        "id": "mTEzkPDR3EBY",
        "outputId": "c480248f-c99d-4f2f-b842-78ba8e376478"
      },
      "execution_count": null,
      "outputs": [
        {
          "output_type": "stream",
          "name": "stdout",
          "text": [
            "File not found\n"
          ]
        }
      ]
    },
    {
      "cell_type": "markdown",
      "source": [
        "# we were just performing the operations on the file which exists in our local system and we were uplading it in colab and performing the oprations\n",
        "\n",
        "\n",
        "# But now we will create the file directly in colab and then perform the operations"
      ],
      "metadata": {
        "id": "DfQ2RSv93cKR"
      }
    },
    {
      "cell_type": "markdown",
      "source": [
        "# create a file and write data"
      ],
      "metadata": {
        "id": "dn8ByLI33uXp"
      }
    },
    {
      "cell_type": "code",
      "source": [
        "with open(\"sample.txt\",\"w\") as file:\n",
        "  file.write(\"This is the first line. \\n\")\n",
        "  file.write(\"This is the second line. \\n\")"
      ],
      "metadata": {
        "id": "p0eaz3u63F53"
      },
      "execution_count": null,
      "outputs": []
    },
    {
      "cell_type": "markdown",
      "source": [
        "# read the file"
      ],
      "metadata": {
        "id": "CDW5AKOc5VWg"
      }
    },
    {
      "cell_type": "code",
      "source": [
        "with open(\"sample.txt\",\"r\") as file:\n",
        "  content = file.read() # read all the content in the file\n",
        "  print(content)"
      ],
      "metadata": {
        "colab": {
          "base_uri": "https://localhost:8080/"
        },
        "id": "sEJS-uJL4BNu",
        "outputId": "5a0bb6ce-69f8-4612-d656-eba824f7aaa0"
      },
      "execution_count": null,
      "outputs": [
        {
          "output_type": "stream",
          "name": "stdout",
          "text": [
            "This is the first line. \n",
            "This is the second line. \n",
            "\n"
          ]
        }
      ]
    },
    {
      "cell_type": "markdown",
      "source": [
        "# Read Line by Line"
      ],
      "metadata": {
        "id": "ChYPRNlI5aDi"
      }
    },
    {
      "cell_type": "code",
      "source": [
        "with open(\"sample.txt\",\"r\") as file:\n",
        "  line1 = file.readline() # it used to read one line at a time\n",
        "  line2 = file.readline()\n",
        "\n",
        "  print(line1)\n",
        "  print(line2)\n"
      ],
      "metadata": {
        "colab": {
          "base_uri": "https://localhost:8080/"
        },
        "id": "2m6EYBNg5Hxt",
        "outputId": "b62b193a-24ee-468b-ff8d-0dcd88996435"
      },
      "execution_count": null,
      "outputs": [
        {
          "output_type": "stream",
          "name": "stdout",
          "text": [
            "This is the first line. \n",
            "\n",
            "This is the second line. \n",
            "\n"
          ]
        }
      ]
    },
    {
      "cell_type": "markdown",
      "source": [
        "# read the line -> read only one line (usually the first one)\n",
        "\n",
        "# read line by line -> Read all line one at a time (in a loop)"
      ],
      "metadata": {
        "id": "jcHKdC886EYB"
      }
    },
    {
      "cell_type": "code",
      "source": [
        "with open('sample.txt','r') as file:\n",
        "  for line in file:\n",
        "    print(line.strip())\n",
        "\n",
        "# this will print each line one by one -> even of the file has 100 lines"
      ],
      "metadata": {
        "colab": {
          "base_uri": "https://localhost:8080/"
        },
        "id": "Im5OHEUA5rf6",
        "outputId": "383d2601-53a6-494e-9d52-1526a78dbe3a"
      },
      "execution_count": null,
      "outputs": [
        {
          "output_type": "stream",
          "name": "stdout",
          "text": [
            "This is the first line.\n",
            "This is the second line.\n"
          ]
        }
      ]
    },
    {
      "cell_type": "code",
      "source": [
        "with open(\"sample.txt\",\"r\") as file:\n",
        "  lines = file.readlines()  # read all the lines into a list\n",
        "  print(lines)"
      ],
      "metadata": {
        "colab": {
          "base_uri": "https://localhost:8080/"
        },
        "id": "gMcDZ54h5rU2",
        "outputId": "b6db2d94-7648-41f1-8296-2944389f1c64"
      },
      "execution_count": null,
      "outputs": [
        {
          "output_type": "stream",
          "name": "stdout",
          "text": [
            "['This is the first line. \\n', 'This is the second line. \\n']\n"
          ]
        }
      ]
    },
    {
      "cell_type": "code",
      "source": [
        "with open(\"sample.txt\",\"r\") as file:\n",
        "  lines = file.readlines()\n",
        "  print(lines[1])  # index 1 = second line (0-based index)"
      ],
      "metadata": {
        "colab": {
          "base_uri": "https://localhost:8080/"
        },
        "id": "oDGTFU2Y61yD",
        "outputId": "cafcc6b5-f2b7-4560-8459-72f64f88aada"
      },
      "execution_count": null,
      "outputs": [
        {
          "output_type": "stream",
          "name": "stdout",
          "text": [
            "This is the second line. \n",
            "\n"
          ]
        }
      ]
    },
    {
      "cell_type": "markdown",
      "source": [
        "# ( read + write , file must exist)\n",
        "\n",
        "# r+ No (preserves content)"
      ],
      "metadata": {
        "id": "SVVCPBZH8ES1"
      }
    },
    {
      "cell_type": "code",
      "source": [
        "with open(\"sample.txt\",\"r+\") as file:\n",
        "  content = file.read() # read the existing content\n",
        "  file.seek(0) # move the cursor back to the start\n",
        "  file.write(\"New data\\n\") # write the new data\n",
        "  file.seek(0) # Move back to beginning again\n",
        "  print(file.read()) # tries to read what's after the cursor\n"
      ],
      "metadata": {
        "colab": {
          "base_uri": "https://localhost:8080/"
        },
        "id": "5QMNOpNS66Gx",
        "outputId": "7632417c-d47b-493b-edf5-6b0c2259d448"
      },
      "execution_count": null,
      "outputs": [
        {
          "output_type": "stream",
          "name": "stdout",
          "text": [
            "New data\n",
            "he first line. \n",
            "This is the second line. \n",
            "\n"
          ]
        }
      ]
    },
    {
      "cell_type": "code",
      "source": [
        "with open(\"sample.txt\",\"r+\") as file:\n",
        "  file.seek(0)\n",
        "  file.write(\"New data\\n\")\n",
        "  file.seek(0)\n",
        "  print(file.read())"
      ],
      "metadata": {
        "colab": {
          "base_uri": "https://localhost:8080/"
        },
        "id": "QOZgIM9r9Tmh",
        "outputId": "8755a810-56a0-473a-fcc6-2d8c2a065d8e"
      },
      "execution_count": null,
      "outputs": [
        {
          "output_type": "stream",
          "name": "stdout",
          "text": [
            "New data\n",
            "he first line. \n",
            "This is the second line. \n",
            "\n"
          ]
        }
      ]
    },
    {
      "cell_type": "markdown",
      "source": [
        "# w+ (write + read, overwrites the file), file doesn't exist it will work\n",
        "\n",
        "# w+ yes (clear the content)"
      ],
      "metadata": {
        "id": "MPKPY5Sf8ITe"
      }
    },
    {
      "cell_type": "code",
      "source": [],
      "metadata": {
        "id": "LyXarTSe7_bL"
      },
      "execution_count": null,
      "outputs": []
    }
  ]
}